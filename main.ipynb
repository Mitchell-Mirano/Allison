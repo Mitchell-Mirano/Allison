{
 "cells": [
  {
   "cell_type": "code",
   "execution_count": 1,
   "metadata": {
    "tags": []
   },
   "outputs": [],
   "source": [
    "import numpy as np\n",
    "import pandas as pd\n",
    "from IPython.display import clear_output\n",
    "import matplotlib.pyplot as plt\n",
    "from allison.nn.layers import LayerDense\n",
    "from allison.nn.models import NeuralNetwork\n",
    "from allison.utils.functions.data import train_test_split\n",
    "from allison.utils.functions.loss import categorical_cross_entropy,binary_cross_entropy\n",
    "from allison.utils.functions.activation import sigmoid, softmax\n",
    "from allison.utils.metrics import accuracy\n",
    "from allison.utils.functions.transforms import get_numeric_labels"
   ]
  },
  {
   "attachments": {},
   "cell_type": "markdown",
   "metadata": {},
   "source": [
    "Making Dataset"
   ]
  },
  {
   "cell_type": "code",
   "execution_count": 2,
   "metadata": {},
   "outputs": [
    {
     "data": {
      "text/html": [
       "<div>\n",
       "<style scoped>\n",
       "    .dataframe tbody tr th:only-of-type {\n",
       "        vertical-align: middle;\n",
       "    }\n",
       "\n",
       "    .dataframe tbody tr th {\n",
       "        vertical-align: top;\n",
       "    }\n",
       "\n",
       "    .dataframe thead th {\n",
       "        text-align: right;\n",
       "    }\n",
       "</style>\n",
       "<table border=\"1\" class=\"dataframe\">\n",
       "  <thead>\n",
       "    <tr style=\"text-align: right;\">\n",
       "      <th></th>\n",
       "      <th>Id</th>\n",
       "      <th>SepalLengthCm</th>\n",
       "      <th>SepalWidthCm</th>\n",
       "      <th>PetalLengthCm</th>\n",
       "      <th>PetalWidthCm</th>\n",
       "      <th>Species</th>\n",
       "    </tr>\n",
       "  </thead>\n",
       "  <tbody>\n",
       "    <tr>\n",
       "      <th>0</th>\n",
       "      <td>1</td>\n",
       "      <td>5.1</td>\n",
       "      <td>3.5</td>\n",
       "      <td>1.4</td>\n",
       "      <td>0.2</td>\n",
       "      <td>Iris-setosa</td>\n",
       "    </tr>\n",
       "    <tr>\n",
       "      <th>1</th>\n",
       "      <td>2</td>\n",
       "      <td>4.9</td>\n",
       "      <td>3.0</td>\n",
       "      <td>1.4</td>\n",
       "      <td>0.2</td>\n",
       "      <td>Iris-setosa</td>\n",
       "    </tr>\n",
       "    <tr>\n",
       "      <th>2</th>\n",
       "      <td>3</td>\n",
       "      <td>4.7</td>\n",
       "      <td>3.2</td>\n",
       "      <td>1.3</td>\n",
       "      <td>0.2</td>\n",
       "      <td>Iris-setosa</td>\n",
       "    </tr>\n",
       "    <tr>\n",
       "      <th>3</th>\n",
       "      <td>4</td>\n",
       "      <td>4.6</td>\n",
       "      <td>3.1</td>\n",
       "      <td>1.5</td>\n",
       "      <td>0.2</td>\n",
       "      <td>Iris-setosa</td>\n",
       "    </tr>\n",
       "    <tr>\n",
       "      <th>4</th>\n",
       "      <td>5</td>\n",
       "      <td>5.0</td>\n",
       "      <td>3.6</td>\n",
       "      <td>1.4</td>\n",
       "      <td>0.2</td>\n",
       "      <td>Iris-setosa</td>\n",
       "    </tr>\n",
       "  </tbody>\n",
       "</table>\n",
       "</div>"
      ],
      "text/plain": [
       "   Id  SepalLengthCm  SepalWidthCm  PetalLengthCm  PetalWidthCm      Species\n",
       "0   1            5.1           3.5            1.4           0.2  Iris-setosa\n",
       "1   2            4.9           3.0            1.4           0.2  Iris-setosa\n",
       "2   3            4.7           3.2            1.3           0.2  Iris-setosa\n",
       "3   4            4.6           3.1            1.5           0.2  Iris-setosa\n",
       "4   5            5.0           3.6            1.4           0.2  Iris-setosa"
      ]
     },
     "execution_count": 2,
     "metadata": {},
     "output_type": "execute_result"
    }
   ],
   "source": [
    "df=pd.read_csv(\"./examples/data/Iris.csv\")\n",
    "df.head()"
   ]
  },
  {
   "attachments": {},
   "cell_type": "markdown",
   "metadata": {},
   "source": [
    "Split data for train and test"
   ]
  },
  {
   "cell_type": "code",
   "execution_count": 3,
   "metadata": {},
   "outputs": [],
   "source": [
    "data_train, data_test = train_test_split(df,0.7)"
   ]
  },
  {
   "attachments": {},
   "cell_type": "markdown",
   "metadata": {},
   "source": [
    "Selecting features and labels"
   ]
  },
  {
   "cell_type": "code",
   "execution_count": 4,
   "metadata": {},
   "outputs": [],
   "source": [
    "features = df.columns[1:5].tolist()\n",
    "labels = df.columns[5]"
   ]
  },
  {
   "attachments": {},
   "cell_type": "markdown",
   "metadata": {},
   "source": [
    "Train data"
   ]
  },
  {
   "cell_type": "code",
   "execution_count": 5,
   "metadata": {},
   "outputs": [
    {
     "name": "stdout",
     "output_type": "stream",
     "text": [
      "(109, 4) (109, 3)\n"
     ]
    }
   ],
   "source": [
    "features_train = data_train[features].to_numpy()\n",
    "labels_train=pd.get_dummies(data_train[labels]).to_numpy()\n",
    "print(features_train.shape,labels_train.shape)"
   ]
  },
  {
   "attachments": {},
   "cell_type": "markdown",
   "metadata": {},
   "source": [
    "Test data"
   ]
  },
  {
   "cell_type": "code",
   "execution_count": 6,
   "metadata": {},
   "outputs": [
    {
     "name": "stdout",
     "output_type": "stream",
     "text": [
      "(41, 4) (41, 3)\n"
     ]
    }
   ],
   "source": [
    "features_test = data_test[features].to_numpy()\n",
    "labels_test=pd.get_dummies(data_test[labels]).to_numpy()\n",
    "print(features_test.shape,labels_test.shape)"
   ]
  },
  {
   "cell_type": "code",
   "execution_count": 7,
   "metadata": {},
   "outputs": [
    {
     "data": {
      "text/plain": [
       "<matplotlib.collections.PathCollection at 0x7f45506a3010>"
      ]
     },
     "execution_count": 7,
     "metadata": {},
     "output_type": "execute_result"
    },
    {
     "data": {
      "image/png": "[encoded data removed]",
      "text/plain": [
       "<Figure size 640x480 with 1 Axes>"
      ]
     },
     "metadata": {},
     "output_type": "display_data"
    }
   ],
   "source": [
    "plt.scatter(features_train[:,2],features_train[:,3],c=get_numeric_labels(labels_train))"
   ]
  },
  {
   "attachments": {},
   "cell_type": "markdown",
   "metadata": {},
   "source": [
    "Building the Neural Network"
   ]
  },
  {
   "cell_type": "code",
   "execution_count": 8,
   "metadata": {
    "tags": []
   },
   "outputs": [
    {
     "name": "stdout",
     "output_type": "stream",
     "text": [
      "Layer:1, neurons:6, input:(n,4), weights:(4,6), output:(n,6), activation:sigmoid \n",
      "\n",
      "Layer:2, neurons:3, input:(n,6), weights:(6,3), output:(n,3), activation:softmax \n",
      "\n",
      "Total -> Layers:2, neurons:9, weights:42, bias:9 params:51 \n",
      "\n",
      "Loss function: categorical_cross_entropy \n",
      "\n",
      "Metric: accuracy \n",
      "\n",
      "Learning Rate: 0.0015 \n",
      "\n"
     ]
    }
   ],
   "source": [
    "model = NeuralNetwork(categorical_cross_entropy,accuracy, 0.0015)\n",
    "model.add_layer(LayerDense(6,4,sigmoid))\n",
    "model.add_layer(LayerDense(3,6,softmax))\n",
    "model.summary()"
   ]
  },
  {
   "attachments": {},
   "cell_type": "markdown",
   "metadata": {},
   "source": [
    "Training"
   ]
  },
  {
   "cell_type": "code",
   "execution_count": 10,
   "metadata": {},
   "outputs": [],
   "source": [
    "# iters_list=[]\n",
    "# evals_train=[]\n",
    "# evals_test=[]\n",
    "\n",
    "# steps = 150\n",
    "# iters = 10\n",
    "\n",
    "# accuracy_train = 0\n",
    "# accuracy_test = 0\n",
    "\n",
    "# for step in range(1,steps+1):\n",
    "#     if accuracy_train > 95.0 and accuracy_test > 95.0:\n",
    "#         break\n",
    "#     model.train(features_train,labels_train,iters,False)\n",
    "#     accuracy_train = model.evaluate(features_train,labels_train)\n",
    "#     accuracy_test = model.evaluate(features_test,labels_test)\n",
    "\n",
    "#     iters_list.append(step*iters)\n",
    "#     evals_train.append(accuracy_train)\n",
    "#     evals_test.append(accuracy_test)\n",
    "\n",
    "#     predictions = model.predict(features_train)\n",
    "#     predictions = get_numeric_labels(predictions)\n",
    "\n",
    "#     fig,(fig1,fig2) = plt.subplots(1,2,figsize=(16,6))\n",
    "#     fig1.plot(iters_list,evals_train,label=f\"Train Dataset:{evals_train[-1]:.2f}%\")\n",
    "#     fig1.plot(iters_list,evals_test,label=f\"Test Dataset:{evals_test[-1]:.2f}%\")\n",
    "#     fig1.set_title(\"Training\")\n",
    "#     fig1.set_xlabel(\"Iter\")\n",
    "#     fig1.set_ylabel(\"Accuracy\")\n",
    "#     fig1.legend(loc=\"upper left\")\n",
    "#     fig2.scatter(features_train[:,2],features_train[:,3], c = predictions)\n",
    "#     fig2.set_title(\"Iris Dataset\")\n",
    "#     fig2.set_xlabel(features[2])\n",
    "#     fig2.set_ylabel(features[3])\n",
    "#     plt.show()\n",
    "#     clear_output(wait=True)"
   ]
  }
 ],
 "metadata": {
  "kernelspec": {
   "display_name": "Python 3 (ipykernel)",
   "language": "python",
   "name": "python3"
  },
  "language_info": {
   "codemirror_mode": {
    "name": "ipython",
    "version": 3
   },
   "file_extension": ".py",
   "mimetype": "text/x-python",
   "name": "python",
   "nbconvert_exporter": "python",
   "pygments_lexer": "ipython3",
   "version": "3.10.6"
  }
 },
 "nbformat": 4,
 "nbformat_minor": 4
}
