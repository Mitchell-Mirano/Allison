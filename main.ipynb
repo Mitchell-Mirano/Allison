{
 "cells": [
  {
   "cell_type": "code",
   "execution_count": 1,
   "metadata": {},
   "outputs": [],
   "source": [
    "import numpy as np\n",
    "import pandas as pd"
   ]
  },
  {
   "cell_type": "code",
   "execution_count": 2,
   "metadata": {},
   "outputs": [
    {
     "data": {
      "text/html": [
       "<div>\n",
       "<style scoped>\n",
       "    .dataframe tbody tr th:only-of-type {\n",
       "        vertical-align: middle;\n",
       "    }\n",
       "\n",
       "    .dataframe tbody tr th {\n",
       "        vertical-align: top;\n",
       "    }\n",
       "\n",
       "    .dataframe thead th {\n",
       "        text-align: right;\n",
       "    }\n",
       "</style>\n",
       "<table border=\"1\" class=\"dataframe\">\n",
       "  <thead>\n",
       "    <tr style=\"text-align: right;\">\n",
       "      <th></th>\n",
       "      <th>Id</th>\n",
       "      <th>SepalLengthCm</th>\n",
       "      <th>SepalWidthCm</th>\n",
       "      <th>PetalLengthCm</th>\n",
       "      <th>PetalWidthCm</th>\n",
       "      <th>Species</th>\n",
       "    </tr>\n",
       "  </thead>\n",
       "  <tbody>\n",
       "    <tr>\n",
       "      <th>0</th>\n",
       "      <td>1</td>\n",
       "      <td>5.1</td>\n",
       "      <td>3.5</td>\n",
       "      <td>1.4</td>\n",
       "      <td>0.2</td>\n",
       "      <td>Iris-setosa</td>\n",
       "    </tr>\n",
       "    <tr>\n",
       "      <th>1</th>\n",
       "      <td>2</td>\n",
       "      <td>4.9</td>\n",
       "      <td>3.0</td>\n",
       "      <td>1.4</td>\n",
       "      <td>0.2</td>\n",
       "      <td>Iris-setosa</td>\n",
       "    </tr>\n",
       "    <tr>\n",
       "      <th>2</th>\n",
       "      <td>3</td>\n",
       "      <td>4.7</td>\n",
       "      <td>3.2</td>\n",
       "      <td>1.3</td>\n",
       "      <td>0.2</td>\n",
       "      <td>Iris-setosa</td>\n",
       "    </tr>\n",
       "    <tr>\n",
       "      <th>3</th>\n",
       "      <td>4</td>\n",
       "      <td>4.6</td>\n",
       "      <td>3.1</td>\n",
       "      <td>1.5</td>\n",
       "      <td>0.2</td>\n",
       "      <td>Iris-setosa</td>\n",
       "    </tr>\n",
       "    <tr>\n",
       "      <th>4</th>\n",
       "      <td>5</td>\n",
       "      <td>5.0</td>\n",
       "      <td>3.6</td>\n",
       "      <td>1.4</td>\n",
       "      <td>0.2</td>\n",
       "      <td>Iris-setosa</td>\n",
       "    </tr>\n",
       "  </tbody>\n",
       "</table>\n",
       "</div>"
      ],
      "text/plain": [
       "   Id  SepalLengthCm  SepalWidthCm  PetalLengthCm  PetalWidthCm      Species\n",
       "0   1            5.1           3.5            1.4           0.2  Iris-setosa\n",
       "1   2            4.9           3.0            1.4           0.2  Iris-setosa\n",
       "2   3            4.7           3.2            1.3           0.2  Iris-setosa\n",
       "3   4            4.6           3.1            1.5           0.2  Iris-setosa\n",
       "4   5            5.0           3.6            1.4           0.2  Iris-setosa"
      ]
     },
     "execution_count": 2,
     "metadata": {},
     "output_type": "execute_result"
    }
   ],
   "source": [
    "df=pd.read_csv(\"./examples/data/Iris.csv\")\n",
    "df.head()"
   ]
  },
  {
   "cell_type": "code",
   "execution_count": 3,
   "metadata": {},
   "outputs": [],
   "source": [
    "features=df[['SepalLengthCm', 'SepalWidthCm', 'PetalLengthCm', 'PetalWidthCm']]\n",
    "features=features.to_numpy()\n",
    "features = features.T"
   ]
  },
  {
   "cell_type": "code",
   "execution_count": 4,
   "metadata": {},
   "outputs": [
    {
     "data": {
      "text/plain": [
       "(4, 150)"
      ]
     },
     "execution_count": 4,
     "metadata": {},
     "output_type": "execute_result"
    }
   ],
   "source": [
    "features.shape"
   ]
  },
  {
   "cell_type": "code",
   "execution_count": 5,
   "metadata": {},
   "outputs": [],
   "source": [
    "labels=pd.get_dummies(df[\"Species\"]).to_numpy()\n",
    "labels=labels.T"
   ]
  },
  {
   "cell_type": "code",
   "execution_count": 6,
   "metadata": {},
   "outputs": [],
   "source": [
    "def SoftMax(predictions:np.array):\n",
    "    predictions = np.exp(predictions)\n",
    "    return predictions/predictions.sum(axis=0,keepdims=True)\n",
    "\n",
    "def Sigmoid(sumatory,derivative=False):\n",
    "    if derivative==False:\n",
    "        return 1/(1+np.exp(-sumatory))\n",
    "    else :\n",
    "        return np.exp(-sumatory)/((1+ np.exp(-sumatory)))**2\n",
    "\n",
    "def CategoricalEntropy(labels:np.array,predictions:np.array):\n",
    "    errors = -1*labels*np.log(predictions)\n",
    "    return errors.sum()\n",
    "\n",
    "\n",
    "def Accurcy(preds,labels):\n",
    "\n",
    "    preds= preds.T\n",
    "    labels= labels.T\n",
    "    correct = 0 \n",
    "\n",
    "    for pred,lab in zip(preds,labels):\n",
    "        pred_max_index = np.where(pred==np.max(pred))[0][0]\n",
    "        lab_max_index = np.where(lab==np.max(lab))[0][0]\n",
    "        \n",
    "        if pred_max_index == lab_max_index:\n",
    "            correct+=1\n",
    "\n",
    "    return correct/len(preds)"
   ]
  },
  {
   "cell_type": "code",
   "execution_count": 7,
   "metadata": {},
   "outputs": [],
   "source": [
    "class LayerDense:\n",
    "    def __init__(self,n_neurones:int,n_features:int,activation_function:str):\n",
    "        self.n_neurones = n_neurones\n",
    "        self.n_features = n_features\n",
    "        self.weights=np.random.randn(self.n_neurones,self.n_features)**2\n",
    "        self.bias=np.random.randn(self.n_neurones,1)**2\n",
    "        self.z:np.array = None\n",
    "        self.activation_function = activation_function\n",
    "        self.activation=None\n",
    "\n",
    "    def foward(self,features):\n",
    "        self.z = self.weights@features + self.bias\n",
    "        self.activation  = self.activation_function(self.z)\n",
    "        return self.activation\n",
    "\n",
    "\n",
    "    def backward_final_layer(self,lr,Delta_l,activation):\n",
    "\n",
    "        DcDw=Delta_l@activation.T\n",
    "        DcDb=Delta_l.sum(axis=1).reshape(-1,1)\n",
    "\n",
    "        self.weights = self.weights - lr*DcDw\n",
    "        self.bias = self.bias - lr*DcDb\n",
    "\n",
    "        return Delta_l\n",
    "\n",
    "    def backward(self,lr,Delta_l,Activation_l_1,Weights_l):\n",
    "\n",
    "        Delta_l = Weights_l.T@Delta_l*self.activation_function(self.z,True)\n",
    "\n",
    "        DcDw=Delta_l@Activation_l_1.T\n",
    "        DcDb=Delta_l.sum(axis=1).reshape(-1,1)\n",
    "\n",
    "        self.weights = self.weights - lr*DcDw\n",
    "        self.bias = self.bias - lr*DcDb\n",
    "\n",
    "        return Delta_l\n",
    "\n",
    "    def backward_first_layer(self,lr,Delta_l,Activation_l_1,Weights_l):\n",
    "\n",
    "        Delta_l = Weights_l.T@Delta_l*self.activation_function(self.z,True)\n",
    "        \n",
    "        DcDw=Delta_l@Activation_l_1.T\n",
    "        DcDb=Delta_l.sum(axis=1).reshape(-1,1)\n",
    "\n",
    "        self.weights = self.weights - lr*DcDw\n",
    "        self.bias = self.bias - lr*DcDb\n"
   ]
  },
  {
   "cell_type": "code",
   "execution_count": 8,
   "metadata": {},
   "outputs": [],
   "source": [
    "class NN:\n",
    "    def __init__(self,loss_function,metric,learning_rate):\n",
    "        self.layers: dict[int,LayerDense]={}\n",
    "        self.n_layers = 0\n",
    "        self.loss_function = loss_function\n",
    "        self.learning_rate = learning_rate\n",
    "        self.metric = metric\n",
    "\n",
    "    def add_layer(self,layer):\n",
    "        self.n_layers += 1\n",
    "        self.layers[self.n_layers] = layer \n",
    "\n",
    "    def foward(self,features):\n",
    "        for key in self.layers.keys():\n",
    "            features = self.layers[key].foward(features)\n",
    "        return features\n",
    "\n",
    "    def bacward(self,activation,labels,features):\n",
    "        DcDz = activation - labels\n",
    "        for i,layer in reversed(model.layers.items()):\n",
    "            if i == self.n_layers:\n",
    "                Activation_l_1 = self.layers[i-1].activation\n",
    "                DcDz = layer.backward_final_layer(self.learning_rate,DcDz,Activation_l_1)\n",
    "            else:\n",
    "                Weights_l = self.layers[i+1].weights\n",
    "                if i == 1:\n",
    "                    Activation_l_1 = features\n",
    "                    layer.backward_first_layer(self.learning_rate,DcDz,Activation_l_1,Weights_l)\n",
    "                else:\n",
    "                    Activation_l_1 = self.layers[i-1].activation\n",
    "                    DcDz = layer.backward(self.learning_rate,DcDz,Activation_l_1,Weights_l)   "
   ]
  },
  {
   "cell_type": "code",
   "execution_count": 32,
   "metadata": {},
   "outputs": [
    {
     "name": "stdout",
     "output_type": "stream",
     "text": [
      "Iter: 100\tError: 107.26\tAccuracy: 68.667%\n",
      "Iter: 200\tError: 87.60\tAccuracy: 70.000%\n",
      "Iter: 300\tError: 80.50\tAccuracy: 74.000%\n",
      "Iter: 400\tError: 76.62\tAccuracy: 84.000%\n",
      "Iter: 500\tError: 73.34\tAccuracy: 87.333%\n",
      "Iter: 600\tError: 69.60\tAccuracy: 89.333%\n",
      "Iter: 700\tError: 65.52\tAccuracy: 90.667%\n",
      "Iter: 800\tError: 61.57\tAccuracy: 92.667%\n",
      "Iter: 900\tError: 58.00\tAccuracy: 94.000%\n"
     ]
    }
   ],
   "source": [
    "model = NN(CategoricalEntropy,Accurcy,0.001)\n",
    "model.add_layer(LayerDense(4,4,Sigmoid))\n",
    "model.add_layer(LayerDense(3,4,SoftMax))\n",
    "\n",
    "iters = 1000\n",
    "steps = int(iters/10)\n",
    "for i  in range(1,iters):\n",
    "    activation = model.foward(features)\n",
    "    model.bacward(activation,labels,features)\n",
    "    if  i%steps == 0:\n",
    "        error=CategoricalEntropy(labels,activation)\n",
    "        accuracy=Accurcy(activation,labels)\n",
    "        print(f\"Iter: {i}\\tError: {error:.2f}\\tAccuracy: {accuracy*100:.3f}%\")"
   ]
  }
 ],
 "metadata": {
  "kernelspec": {
   "display_name": "allison-NNEhgBmY-py3.11",
   "language": "python",
   "name": "python3"
  },
  "language_info": {
   "codemirror_mode": {
    "name": "ipython",
    "version": 3
   },
   "file_extension": ".py",
   "mimetype": "text/x-python",
   "name": "python",
   "nbconvert_exporter": "python",
   "pygments_lexer": "ipython3",
   "version": "3.11.2"
  },
  "orig_nbformat": 4
 },
 "nbformat": 4,
 "nbformat_minor": 2
}
