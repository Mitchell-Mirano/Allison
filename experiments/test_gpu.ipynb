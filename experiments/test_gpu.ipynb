{
 "cells": [
  {
   "cell_type": "code",
   "execution_count": 1,
   "id": "1b64957f",
   "metadata": {},
   "outputs": [
    {
     "name": "stdout",
     "output_type": "stream",
     "text": [
      "=== Multiplicación de matrices ===\n",
      "NumPy (CPU): 0.9052 segundos\n",
      "CuPy (GPU): 0.0234 segundos\n"
     ]
    }
   ],
   "source": [
    "import numpy as np\n",
    "import cupy as cp\n",
    "import time\n",
    "\n",
    "# Tamaño de la matriz (ajústalo según tu GPU y RAM)\n",
    "N = 5000  \n",
    "\n",
    "print(\"=== Multiplicación de matrices ===\")\n",
    "\n",
    "# NumPy (CPU)\n",
    "a_cpu = np.random.randn(N, N).astype(np.float32)\n",
    "b_cpu = np.random.randn(N, N).astype(np.float32)\n",
    "\n",
    "start = time.time()\n",
    "c_cpu = np.dot(a_cpu, b_cpu)\n",
    "end = time.time()\n",
    "print(f\"NumPy (CPU): {end - start:.4f} segundos\")\n",
    "\n",
    "# CuPy (GPU)\n",
    "a_gpu = cp.asarray(a_cpu)\n",
    "b_gpu = cp.asarray(b_cpu)\n",
    "\n",
    "# Primer llamada \"warm-up\" (compila kernels)\n",
    "_ = cp.dot(a_gpu, b_gpu)\n",
    "cp.cuda.Stream.null.synchronize()\n",
    "\n",
    "start = time.time()\n",
    "c_gpu = cp.dot(a_gpu, b_gpu)\n",
    "cp.cuda.Stream.null.synchronize()  # sincroniza con la GPU\n",
    "end = time.time()\n",
    "print(f\"CuPy (GPU): {end - start:.4f} segundos\")\n",
    "\n"
   ]
  }
 ],
 "metadata": {
  "kernelspec": {
   "display_name": "allison",
   "language": "python",
   "name": "python3"
  },
  "language_info": {
   "codemirror_mode": {
    "name": "ipython",
    "version": 3
   },
   "file_extension": ".py",
   "mimetype": "text/x-python",
   "name": "python",
   "nbconvert_exporter": "python",
   "pygments_lexer": "ipython3",
   "version": "3.12.3"
  }
 },
 "nbformat": 4,
 "nbformat_minor": 5
}
