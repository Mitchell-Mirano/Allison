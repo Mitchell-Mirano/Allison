{
 "cells": [
  {
   "cell_type": "code",
   "execution_count": 4,
   "id": "b249c8f7",
   "metadata": {},
   "outputs": [],
   "source": [
    "import allison\n",
    "from allison.nn import Tensor"
   ]
  },
  {
   "cell_type": "code",
   "execution_count": 3,
   "id": "03e25d54",
   "metadata": {},
   "outputs": [
    {
     "name": "stdout",
     "output_type": "stream",
     "text": [
      "GPUs available: 1\n",
      "Current GPU: NVIDIA GeForce RTX 4070 Laptop GPU\n",
      "CUDA runtime version: 13000\n",
      "CuPy version: 13.6.0\n"
     ]
    }
   ],
   "source": [
    "allison.is_cuda_available()"
   ]
  },
  {
   "cell_type": "code",
   "execution_count": 5,
   "id": "ba0ad605",
   "metadata": {},
   "outputs": [
    {
     "data": {
      "text/plain": [
       "Tensor(\n",
       "[1 2 3], shape=(3,), device=gpu, requires_grad=False)"
      ]
     },
     "execution_count": 5,
     "metadata": {},
     "output_type": "execute_result"
    }
   ],
   "source": [
    "a = Tensor([1, 2, 3], device='gpu')\n",
    "a"
   ]
  }
 ],
 "metadata": {
  "kernelspec": {
   "display_name": "allison",
   "language": "python",
   "name": "python3"
  },
  "language_info": {
   "codemirror_mode": {
    "name": "ipython",
    "version": 3
   },
   "file_extension": ".py",
   "mimetype": "text/x-python",
   "name": "python",
   "nbconvert_exporter": "python",
   "pygments_lexer": "ipython3",
   "version": "3.12.3"
  }
 },
 "nbformat": 4,
 "nbformat_minor": 5
}
