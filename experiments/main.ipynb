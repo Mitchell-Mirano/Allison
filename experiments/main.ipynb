{
 "cells": [
  {
   "cell_type": "code",
   "execution_count": 63,
   "id": "7130932b",
   "metadata": {},
   "outputs": [],
   "source": [
    "import numpy as np\n",
    "import pandas as pd\n",
    "import matplotlib.pyplot as plt"
   ]
  },
  {
   "cell_type": "code",
   "execution_count": 64,
   "id": "bcc889ec",
   "metadata": {},
   "outputs": [],
   "source": [
    "from allison.nn import Linear, RMSprop,MSELoss,Tensor,Adam,no_grad\n",
    "from allison.metrics import r2_score"
   ]
  },
  {
   "cell_type": "code",
   "execution_count": 65,
   "id": "e15af957",
   "metadata": {},
   "outputs": [
    {
     "data": {
      "text/html": [
       "<div>\n",
       "<style scoped>\n",
       "    .dataframe tbody tr th:only-of-type {\n",
       "        vertical-align: middle;\n",
       "    }\n",
       "\n",
       "    .dataframe tbody tr th {\n",
       "        vertical-align: top;\n",
       "    }\n",
       "\n",
       "    .dataframe thead th {\n",
       "        text-align: right;\n",
       "    }\n",
       "</style>\n",
       "<table border=\"1\" class=\"dataframe\">\n",
       "  <thead>\n",
       "    <tr style=\"text-align: right;\">\n",
       "      <th></th>\n",
       "      <th>x1</th>\n",
       "      <th>x2</th>\n",
       "      <th>y</th>\n",
       "    </tr>\n",
       "  </thead>\n",
       "  <tbody>\n",
       "    <tr>\n",
       "      <th>0</th>\n",
       "      <td>1.000000</td>\n",
       "      <td>1.000000</td>\n",
       "      <td>34.621339</td>\n",
       "    </tr>\n",
       "    <tr>\n",
       "      <th>1</th>\n",
       "      <td>1.006184</td>\n",
       "      <td>1.006184</td>\n",
       "      <td>34.152040</td>\n",
       "    </tr>\n",
       "    <tr>\n",
       "      <th>2</th>\n",
       "      <td>1.012368</td>\n",
       "      <td>1.012368</td>\n",
       "      <td>34.955729</td>\n",
       "    </tr>\n",
       "    <tr>\n",
       "      <th>3</th>\n",
       "      <td>1.018551</td>\n",
       "      <td>1.018551</td>\n",
       "      <td>37.056821</td>\n",
       "    </tr>\n",
       "    <tr>\n",
       "      <th>4</th>\n",
       "      <td>1.024735</td>\n",
       "      <td>1.024735</td>\n",
       "      <td>34.887154</td>\n",
       "    </tr>\n",
       "  </tbody>\n",
       "</table>\n",
       "</div>"
      ],
      "text/plain": [
       "         x1        x2          y\n",
       "0  1.000000  1.000000  34.621339\n",
       "1  1.006184  1.006184  34.152040\n",
       "2  1.012368  1.012368  34.955729\n",
       "3  1.018551  1.018551  37.056821\n",
       "4  1.024735  1.024735  34.887154"
      ]
     },
     "execution_count": 65,
     "metadata": {},
     "output_type": "execute_result"
    }
   ],
   "source": [
    "x1 = np.linspace(1, 20*np.pi, 10000)\n",
    "x2 = np.linspace(1, 20*np.pi, 10000)\n",
    "y = 20*np.log(x1+5) + -0.1*x2 + 3*np.random.randn(10000)\n",
    "\n",
    "data = pd.DataFrame({\n",
    "    'x1': x1,\n",
    "    'x2': x2,\n",
    "    'y': y\n",
    "})\n",
    "data.head()"
   ]
  },
  {
   "cell_type": "code",
   "execution_count": 66,
   "id": "b15aed6a",
   "metadata": {},
   "outputs": [
    {
     "data": {
      "text/plain": [
       "<matplotlib.collections.PathCollection at 0x79205af2f950>"
      ]
     },
     "execution_count": 66,
     "metadata": {},
     "output_type": "execute_result"
    },
    {
     "data": {
      "image/png": "[encoded data removed]",
      "text/plain": [
       "<Figure size 640x480 with 1 Axes>"
      ]
     },
     "metadata": {},
     "output_type": "display_data"
    }
   ],
   "source": [
    "plt.scatter(data['x1'], data['y'], s=20)\n"
   ]
  },
  {
   "cell_type": "code",
   "execution_count": 67,
   "id": "5310a3e3",
   "metadata": {},
   "outputs": [],
   "source": [
    "\n",
    "class LinearRegression:\n",
    "    def __init__(self,optimizer='RMSprop',lr=0.01,epsilon=1e-3):\n",
    "        self._linear: Linear = None\n",
    "        self._optimizer_name = optimizer\n",
    "        self._optimizer = None\n",
    "        self._loss = MSELoss()\n",
    "        self._features_names = None\n",
    "        self.lr = lr\n",
    "        self.epsilon = epsilon\n",
    "\n",
    "\n",
    "    def __str__(self):\n",
    "\n",
    "        return f\"LinearRegression()\"\n",
    "    \n",
    "    def __repr__(self):\n",
    "        return self.__str__()\n",
    "\n",
    "    def _to_tensor(self, X):\n",
    "\n",
    "        if isinstance(X, Tensor):\n",
    "            return X\n",
    "\n",
    "        if isinstance(X, (pd.DataFrame,pd.Series, np.ndarray, list)):\n",
    "\n",
    "            if isinstance(X, pd.DataFrame):\n",
    "                self._features_names = list(X.columns)\n",
    "                X = X.to_numpy()\n",
    "            elif isinstance(X, pd.Series):\n",
    "                self._features_names = X.name\n",
    "                X = X.to_numpy().reshape(-1, 1)\n",
    "            elif isinstance(X, np.ndarray):\n",
    "                if X.ndim > 1:\n",
    "                    self._features_names = [f\"F{i}\" for i in range(X.shape[1])]\n",
    "                else:\n",
    "                    self._features_names = [\"F0\"]\n",
    "                    X = X.reshape(-1, 1)\n",
    "            elif isinstance(X, list):\n",
    "                X = np.array(X)\n",
    "                if X.ndim > 1:\n",
    "                    self._features_names = [f\"F{i}\" for i in range(X.shape[1])]\n",
    "                else:\n",
    "                    self._features_names = [\"F0\"]\n",
    "                    X = X.reshape(-1, 1)\n",
    "            else:\n",
    "                raise TypeError(\"La entrada debe ser un ndarray de NumPy o un DataFrame de Pandas o una lista.\")\n",
    "            \n",
    "            return Tensor(X)\n",
    "\n",
    "    def fit(self, X, Y,iters=10000,verbose=False):\n",
    "        \n",
    "        X = self._to_tensor(X)\n",
    "        Y = self._to_tensor(Y)\n",
    "\n",
    "        self._linear = Linear(X.shape[1], 1)\n",
    "        \n",
    "        if self._optimizer_name == 'Adam':\n",
    "            self._optimizer = Adam(self._linear.parameters(), lr=self.lr)\n",
    "        elif self._optimizer_name == 'RMSprop':\n",
    "            self._optimizer = RMSprop(self._linear.parameters(), lr=self.lr)\n",
    "\n",
    "\n",
    "        prev_loss = np.inf\n",
    "\n",
    "        for itr in range(iters + 1):\n",
    "            self._optimizer.zero_grad()\n",
    "            y_pred = self._linear(X)\n",
    "            loss = self._loss(y_pred, Y)\n",
    "            loss.backward()\n",
    "            self._optimizer.step()\n",
    "\n",
    "            if itr % 100 == 0:\n",
    "                if (prev_loss - loss.data) < self.epsilon:\n",
    "                    break\n",
    "                if verbose:\n",
    "                    print(f\"Epoch: {itr}, Loss: {loss.data}\")\n",
    "            prev_loss = loss.data\n",
    "                \n",
    "                \n",
    "\n",
    "    def predict(self, X):\n",
    "        \n",
    "        X = self._to_tensor(X)\n",
    "        with no_grad():\n",
    "            return self._linear(X).data.flatten()\n",
    "    \n",
    "    def score(self, X, Y):\n",
    "        return r2_score(Y, self.predict(X))\n",
    "\n",
    "    @property\n",
    "    def features_names(self):\n",
    "        return self._features_names\n",
    "    \n",
    "    @property\n",
    "    def coef_(self):\n",
    "        if self._linear.W.data.shape[0] > 1:\n",
    "            return self._linear.W.data.flatten()\n",
    "        else:\n",
    "            return self._linear.W.data[0][0]\n",
    "\n",
    "    @property\n",
    "    def intercept_(self):\n",
    "        if self._linear.b.data.shape[0] > 1:\n",
    "            return self._linear.b.data.flatten()\n",
    "        else:\n",
    "            return self._linear.b.data[0][0]"
   ]
  },
  {
   "cell_type": "code",
   "execution_count": 68,
   "id": "ccd49e69",
   "metadata": {},
   "outputs": [],
   "source": [
    "X = data[['x1', 'x2']]\n",
    "Y = data['y']"
   ]
  },
  {
   "cell_type": "code",
   "execution_count": 69,
   "id": "1bcb56e9",
   "metadata": {},
   "outputs": [
    {
     "data": {
      "text/plain": [
       "2"
      ]
     },
     "execution_count": 69,
     "metadata": {},
     "output_type": "execute_result"
    }
   ],
   "source": [
    "X.ndim"
   ]
  },
  {
   "cell_type": "code",
   "execution_count": 70,
   "id": "9f1d6015",
   "metadata": {},
   "outputs": [
    {
     "data": {
      "text/plain": [
       "np.float64(0.8262762699107135)"
      ]
     },
     "execution_count": 70,
     "metadata": {},
     "output_type": "execute_result"
    }
   ],
   "source": [
    "model = LinearRegression(optimizer='RMSprop', lr=0.01, epsilon=1e-3)\n",
    "model.fit(X, Y)\n",
    "model.score(X, Y)"
   ]
  }
 ],
 "metadata": {
  "kernelspec": {
   "display_name": "allison",
   "language": "python",
   "name": "python3"
  },
  "language_info": {
   "codemirror_mode": {
    "name": "ipython",
    "version": 3
   },
   "file_extension": ".py",
   "mimetype": "text/x-python",
   "name": "python",
   "nbconvert_exporter": "python",
   "pygments_lexer": "ipython3",
   "version": "3.12.3"
  }
 },
 "nbformat": 4,
 "nbformat_minor": 5
}
