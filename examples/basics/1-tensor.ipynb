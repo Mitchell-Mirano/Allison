{
 "cells": [
  {
   "cell_type": "markdown",
   "id": "a1476a24",
   "metadata": {},
   "source": [
    "[![Open In Colab](https://colab.research.google.com/assets/colab-badge.svg)](https://colab.research.google.com/github/Mitchell-Mirano/Allison/blob/develop/examples/basics/1-tensor.ipynb)\n"
   ]
  },
  {
   "cell_type": "code",
   "execution_count": 1,
   "id": "9d65fc64",
   "metadata": {},
   "outputs": [
    {
     "name": "stdout",
     "output_type": "stream",
     "text": [
      "zsh:1: command not found: pip\n"
     ]
    }
   ],
   "source": [
    "!pip install \"allison @ git+https://github.com/Mitchell-Mirano/Allison.git@develop\""
   ]
  },
  {
   "cell_type": "code",
   "execution_count": 2,
   "id": "69c6dbfe",
   "metadata": {},
   "outputs": [],
   "source": [
    "import allison\n",
    "import numpy as np\n",
    "import pandas as pd"
   ]
  },
  {
   "cell_type": "markdown",
   "id": "69ba32ae",
   "metadata": {},
   "source": [
    "# Create a Tensor"
   ]
  },
  {
   "cell_type": "code",
   "execution_count": 3,
   "id": "f3bc580d",
   "metadata": {},
   "outputs": [
    {
     "data": {
      "text/plain": [
       "Tensor(\n",
       "[1 2 3], shape=(3,), device=cpu, requires_grad=False)"
      ]
     },
     "execution_count": 3,
     "metadata": {},
     "output_type": "execute_result"
    }
   ],
   "source": [
    "# from list\n",
    "a = allison.tensor([1,2,3])\n",
    "a"
   ]
  },
  {
   "cell_type": "code",
   "execution_count": 4,
   "id": "a6886854",
   "metadata": {},
   "outputs": [
    {
     "data": {
      "text/plain": [
       "(3,)"
      ]
     },
     "execution_count": 4,
     "metadata": {},
     "output_type": "execute_result"
    }
   ],
   "source": [
    "a.shape"
   ]
  },
  {
   "cell_type": "code",
   "execution_count": 5,
   "id": "650f7014",
   "metadata": {},
   "outputs": [
    {
     "data": {
      "text/plain": [
       "3"
      ]
     },
     "execution_count": 5,
     "metadata": {},
     "output_type": "execute_result"
    }
   ],
   "source": [
    "len(a)"
   ]
  },
  {
   "cell_type": "code",
   "execution_count": 6,
   "id": "b083b65e",
   "metadata": {},
   "outputs": [
    {
     "data": {
      "text/plain": [
       "Tensor(\n",
       "[[0.49550151 0.71458338 0.43559125 0.40365887 0.8074443 ]\n",
       " [0.23920378 0.37317661 0.04578105 0.25237922 0.72671668]\n",
       " [0.14572167 0.83917342 0.20754431 0.03884087 0.89028104]\n",
       " [0.22882819 0.14828756 0.44114484 0.75568771 0.99455454]\n",
       " [0.46668792 0.77466798 0.70256079 0.24572016 0.4469046 ]], shape=(5, 5), device=cpu, requires_grad=False)"
      ]
     },
     "execution_count": 6,
     "metadata": {},
     "output_type": "execute_result"
    }
   ],
   "source": [
    "#from numpy\n",
    "a = allison.tensor(np.random.rand(5,5))\n",
    "a"
   ]
  },
  {
   "cell_type": "code",
   "execution_count": 7,
   "id": "9717eabb",
   "metadata": {},
   "outputs": [
    {
     "data": {
      "text/plain": [
       "Tensor(\n",
       "[[0.464307 0.278199 0.793136 0.618634 0.729128]\n",
       " [0.182403 0.187902 0.957675 0.784397 0.467162]\n",
       " [0.664873 0.887387 0.035765 0.841349 0.687347]\n",
       " [0.906638 0.473387 0.639977 0.352944 0.432614]\n",
       " [0.725385 0.90451  0.622032 0.783273 0.980809]], shape=(5, 5), device=cpu, requires_grad=False)"
      ]
     },
     "execution_count": 7,
     "metadata": {},
     "output_type": "execute_result"
    }
   ],
   "source": [
    "# from pandas\n",
    "\n",
    "data = pd.DataFrame({\n",
    "    'a': [0.464307, 0.182403, 0.664873, 0.906638, 0.725385],\n",
    "    'b': [0.278199, 0.187902, 0.887387, 0.473387, 0.904510],\n",
    "    'c': [0.793136, 0.957675, 0.035765, 0.639977, 0.622032],\n",
    "    'd': [0.618634, 0.784397, 0.841349, 0.352944, 0.783273],\n",
    "    'e': [0.729128, 0.467162, 0.687347, 0.432614, 0.980809]\n",
    "})\n",
    "\n",
    "t = allison.tensor(data)\n",
    "t"
   ]
  },
  {
   "cell_type": "code",
   "execution_count": 8,
   "id": "5a3877cf",
   "metadata": {},
   "outputs": [],
   "source": [
    "# using allison"
   ]
  },
  {
   "cell_type": "code",
   "execution_count": 9,
   "id": "1775d901",
   "metadata": {},
   "outputs": [
    {
     "data": {
      "text/plain": [
       "Tensor(\n",
       "[[0.98931868 0.18548008 0.6268165  0.57811818]\n",
       " [0.34199686 0.60899939 0.60448113 0.99134214]\n",
       " [0.98168681 0.14720254 0.15049632 0.35311501]], shape=(3, 4), device=cpu, requires_grad=False)"
      ]
     },
     "execution_count": 9,
     "metadata": {},
     "output_type": "execute_result"
    }
   ],
   "source": [
    "t = allison.rand(3,4)\n",
    "t"
   ]
  },
  {
   "cell_type": "code",
   "execution_count": 10,
   "id": "cea5ad0d",
   "metadata": {},
   "outputs": [
    {
     "data": {
      "text/plain": [
       "Tensor(\n",
       "[[-0.01139312 -0.90888261 -0.3419702   0.96031525]\n",
       " [ 0.64958512 -1.21608581 -0.02797998 -0.92198274]\n",
       " [ 0.8191681   0.70396617  0.02016003  0.72437453]], shape=(3, 4), device=cpu, requires_grad=False)"
      ]
     },
     "execution_count": 10,
     "metadata": {},
     "output_type": "execute_result"
    }
   ],
   "source": [
    "t = allison.randn(3,4)\n",
    "t"
   ]
  },
  {
   "cell_type": "code",
   "execution_count": 11,
   "id": "29fabddd",
   "metadata": {},
   "outputs": [
    {
     "data": {
      "text/plain": [
       "Tensor(\n",
       "[[0. 0. 0. 0.]\n",
       " [0. 0. 0. 0.]\n",
       " [0. 0. 0. 0.]], shape=(3, 4), device=cpu, requires_grad=False)"
      ]
     },
     "execution_count": 11,
     "metadata": {},
     "output_type": "execute_result"
    }
   ],
   "source": [
    "t = allison.zeros((3,4))\n",
    "t"
   ]
  },
  {
   "cell_type": "code",
   "execution_count": 12,
   "id": "f7ff24d4",
   "metadata": {},
   "outputs": [
    {
     "data": {
      "text/plain": [
       "Tensor(\n",
       "[[1. 1. 1. 1.]\n",
       " [1. 1. 1. 1.]\n",
       " [1. 1. 1. 1.]], shape=(3, 4), device=cpu, requires_grad=False)"
      ]
     },
     "execution_count": 12,
     "metadata": {},
     "output_type": "execute_result"
    }
   ],
   "source": [
    "t = allison.ones((3,4))\n",
    "t"
   ]
  },
  {
   "cell_type": "code",
   "execution_count": 31,
   "id": "ffd7800b",
   "metadata": {},
   "outputs": [
    {
     "data": {
      "text/plain": [
       "Tensor(\n",
       "[[1. 0. 0.]\n",
       " [0. 1. 0.]\n",
       " [0. 0. 1.]], shape=(3, 3), device=cpu, requires_grad=False)"
      ]
     },
     "execution_count": 31,
     "metadata": {},
     "output_type": "execute_result"
    }
   ],
   "source": [
    "t = allison.eye(3)\n",
    "t"
   ]
  },
  {
   "cell_type": "code",
   "execution_count": 33,
   "id": "f83eb28f",
   "metadata": {},
   "outputs": [
    {
     "data": {
      "text/plain": [
       "Tensor(\n",
       "[[1 0 0]\n",
       " [0 2 0]\n",
       " [0 0 3]], shape=(3, 3), device=cpu, requires_grad=False)"
      ]
     },
     "execution_count": 33,
     "metadata": {},
     "output_type": "execute_result"
    }
   ],
   "source": [
    "t = allison.diag([1,2,3])\n",
    "t"
   ]
  },
  {
   "cell_type": "code",
   "execution_count": 34,
   "id": "9e3fcbb2",
   "metadata": {},
   "outputs": [
    {
     "data": {
      "text/plain": [
       "Tensor(\n",
       "[[2 5 1 7]\n",
       " [4 9 6 0]\n",
       " [1 4 1 1]], shape=(3, 4), device=cpu, requires_grad=False)"
      ]
     },
     "execution_count": 34,
     "metadata": {},
     "output_type": "execute_result"
    }
   ],
   "source": [
    "t = allison.randint(0,10,(3,4))\n",
    "t"
   ]
  },
  {
   "cell_type": "code",
   "execution_count": 35,
   "id": "2db32a4b",
   "metadata": {},
   "outputs": [
    {
     "data": {
      "text/plain": [
       "Tensor(\n",
       "[0 1 2 3 4 5 6 7 8 9], shape=(10,), device=cpu, requires_grad=False)"
      ]
     },
     "execution_count": 35,
     "metadata": {},
     "output_type": "execute_result"
    }
   ],
   "source": [
    "t = allison.arange(0,10)\n",
    "t"
   ]
  },
  {
   "cell_type": "code",
   "execution_count": 36,
   "id": "0fb6cb63",
   "metadata": {},
   "outputs": [
    {
     "data": {
      "text/plain": [
       "Tensor(\n",
       "[ 0.   2.5  5.   7.5 10. ], shape=(5,), device=cpu, requires_grad=False)"
      ]
     },
     "execution_count": 36,
     "metadata": {},
     "output_type": "execute_result"
    }
   ],
   "source": [
    "t = allison.linspace(0,10,5)\n",
    "t"
   ]
  },
  {
   "cell_type": "code",
   "execution_count": 37,
   "id": "03f29430",
   "metadata": {},
   "outputs": [
    {
     "data": {
      "text/plain": [
       "Tensor(\n",
       "[1.00000000e+00 3.16227766e+02 1.00000000e+05 3.16227766e+07\n",
       " 1.00000000e+10], shape=(5,), device=cpu, requires_grad=False)"
      ]
     },
     "execution_count": 37,
     "metadata": {},
     "output_type": "execute_result"
    }
   ],
   "source": [
    "t = allison.logspace(0,10,5)\n",
    "t"
   ]
  },
  {
   "cell_type": "code",
   "execution_count": 38,
   "id": "43412162",
   "metadata": {},
   "outputs": [
    {
     "data": {
      "text/plain": [
       "Tensor(\n",
       "[0 2 1 4 3], shape=(5,), device=cpu, requires_grad=False)"
      ]
     },
     "execution_count": 38,
     "metadata": {},
     "output_type": "execute_result"
    }
   ],
   "source": [
    "t = allison.randperm(5)\n",
    "t"
   ]
  },
  {
   "cell_type": "markdown",
   "id": "fbaf2f27",
   "metadata": {},
   "source": [
    "# Basic Operations"
   ]
  },
  {
   "cell_type": "code",
   "execution_count": 13,
   "id": "da7e74c4",
   "metadata": {},
   "outputs": [
    {
     "name": "stdout",
     "output_type": "stream",
     "text": [
      "Tensor(\n",
      "[1 2 3], shape=(3,), device=cpu, requires_grad=False)\n",
      "Tensor(\n",
      "[3 4 5], shape=(3,), device=cpu, requires_grad=False)\n"
     ]
    }
   ],
   "source": [
    "a = allison.tensor([1,2,3])\n",
    "b = allison.tensor([3,4,5])\n",
    "\n",
    "print(a)\n",
    "print(b)"
   ]
  },
  {
   "cell_type": "code",
   "execution_count": 14,
   "id": "8c03423f",
   "metadata": {},
   "outputs": [
    {
     "data": {
      "text/plain": [
       "Tensor(\n",
       "[4 6 8], shape=(3,), device=cpu, requires_grad=False)"
      ]
     },
     "execution_count": 14,
     "metadata": {},
     "output_type": "execute_result"
    }
   ],
   "source": [
    "c = a + b\n",
    "c"
   ]
  },
  {
   "cell_type": "code",
   "execution_count": 15,
   "id": "ae0dc8fd",
   "metadata": {},
   "outputs": [
    {
     "data": {
      "text/plain": [
       "Tensor(\n",
       "[-2 -2 -2], shape=(3,), device=cpu, requires_grad=False)"
      ]
     },
     "execution_count": 15,
     "metadata": {},
     "output_type": "execute_result"
    }
   ],
   "source": [
    "c = a - b\n",
    "c"
   ]
  },
  {
   "cell_type": "code",
   "execution_count": 16,
   "id": "f7782668",
   "metadata": {},
   "outputs": [
    {
     "data": {
      "text/plain": [
       "Tensor(\n",
       "[ 3  8 15], shape=(3,), device=cpu, requires_grad=False)"
      ]
     },
     "execution_count": 16,
     "metadata": {},
     "output_type": "execute_result"
    }
   ],
   "source": [
    "c = a * b\n",
    "c"
   ]
  },
  {
   "cell_type": "code",
   "execution_count": 17,
   "id": "64f7e3d2",
   "metadata": {},
   "outputs": [
    {
     "data": {
      "text/plain": [
       "Tensor(\n",
       "26, shape=(), device=cpu, requires_grad=False)"
      ]
     },
     "execution_count": 17,
     "metadata": {},
     "output_type": "execute_result"
    }
   ],
   "source": [
    "c = a@b\n",
    "c"
   ]
  },
  {
   "cell_type": "code",
   "execution_count": 18,
   "id": "b6c666b0",
   "metadata": {},
   "outputs": [
    {
     "data": {
      "text/plain": [
       "Tensor(\n",
       "[1 4 9], shape=(3,), device=cpu, requires_grad=False)"
      ]
     },
     "execution_count": 18,
     "metadata": {},
     "output_type": "execute_result"
    }
   ],
   "source": [
    "c = a**2\n",
    "c"
   ]
  },
  {
   "cell_type": "markdown",
   "id": "95ea6f34",
   "metadata": {},
   "source": [
    "# Spliting"
   ]
  },
  {
   "cell_type": "code",
   "execution_count": 19,
   "id": "4d727b57",
   "metadata": {},
   "outputs": [
    {
     "data": {
      "text/plain": [
       "Tensor(\n",
       "[[0.4143249  0.59942928 0.90260462 0.41501166 0.80254604]\n",
       " [0.43695223 0.09035643 0.19098527 0.58795297 0.28361978]\n",
       " [0.6747343  0.94477789 0.74207592 0.60208371 0.15056246]\n",
       " [0.92376301 0.84453417 0.79742077 0.69930448 0.21893803]\n",
       " [0.72398198 0.91844485 0.52493099 0.39162753 0.58818738]], shape=(5, 5), device=cpu, requires_grad=False)"
      ]
     },
     "execution_count": 19,
     "metadata": {},
     "output_type": "execute_result"
    }
   ],
   "source": [
    "a = allison.tensor(np.random.rand(5,5))\n",
    "a"
   ]
  },
  {
   "cell_type": "code",
   "execution_count": 20,
   "id": "a1906759",
   "metadata": {},
   "outputs": [
    {
     "data": {
      "text/plain": [
       "Tensor(\n",
       "[0.92376301 0.84453417 0.79742077 0.69930448 0.21893803], shape=(5,), device=cpu, requires_grad=False)"
      ]
     },
     "execution_count": 20,
     "metadata": {},
     "output_type": "execute_result"
    }
   ],
   "source": [
    "a[3,:]"
   ]
  },
  {
   "cell_type": "code",
   "execution_count": 21,
   "id": "53de44c0",
   "metadata": {},
   "outputs": [
    {
     "data": {
      "text/plain": [
       "Tensor(\n",
       "0.6993044827987984, shape=(), device=cpu, requires_grad=False)"
      ]
     },
     "execution_count": 21,
     "metadata": {},
     "output_type": "execute_result"
    }
   ],
   "source": [
    "a[3,3]"
   ]
  },
  {
   "cell_type": "code",
   "execution_count": 22,
   "id": "1c783c24",
   "metadata": {},
   "outputs": [
    {
     "data": {
      "text/plain": [
       "Tensor(\n",
       "[0.41501166 0.58795297 0.60208371 0.69930448 0.39162753], shape=(5,), device=cpu, requires_grad=False)"
      ]
     },
     "execution_count": 22,
     "metadata": {},
     "output_type": "execute_result"
    }
   ],
   "source": [
    "a[:,3]"
   ]
  },
  {
   "cell_type": "markdown",
   "id": "74852739",
   "metadata": {},
   "source": [
    "# Auto Grad"
   ]
  },
  {
   "cell_type": "code",
   "execution_count": 23,
   "id": "43903dd8",
   "metadata": {},
   "outputs": [
    {
     "name": "stdout",
     "output_type": "stream",
     "text": [
      "Tensor(\n",
      "[1 2 3], shape=(3,), device=cpu, requires_grad=True)\n",
      "grad(a) [0 0 0]\n"
     ]
    }
   ],
   "source": [
    "a = allison.tensor([1,2,3], requires_grad=True)\n",
    "print(a)\n",
    "print(f'grad(a) {a.grad}')"
   ]
  },
  {
   "cell_type": "code",
   "execution_count": 24,
   "id": "db1c1430",
   "metadata": {},
   "outputs": [
    {
     "name": "stdout",
     "output_type": "stream",
     "text": [
      "Tensor(\n",
      "[3 4 5], shape=(3,), device=cpu, requires_grad=True)\n",
      "grad(b) [0 0 0]\n"
     ]
    }
   ],
   "source": [
    "b =allison.tensor([3,4,5], requires_grad=True)\n",
    "print(b)\n",
    "print(f'grad(b) {b.grad}')"
   ]
  },
  {
   "cell_type": "code",
   "execution_count": 25,
   "id": "12756a04",
   "metadata": {},
   "outputs": [
    {
     "name": "stdout",
     "output_type": "stream",
     "text": [
      "Tensor(\n",
      "[4 6 8], shape=(3,), device=cpu, requires_grad=True)\n",
      "[Tensor(\n",
      "[1 2 3], shape=(3,), device=cpu, requires_grad=True), Tensor(\n",
      "[3 4 5], shape=(3,), device=cpu, requires_grad=True)]\n",
      "grad(a) [0 0 0]\n",
      "grad(b) [0 0 0]\n"
     ]
    }
   ],
   "source": [
    "c = a + b\n",
    "print(c)\n",
    "print(c._prev)\n",
    "print(f'grad(a) {a.grad}')\n",
    "print(f'grad(b) {b.grad}')"
   ]
  },
  {
   "cell_type": "code",
   "execution_count": 26,
   "id": "e4810a70",
   "metadata": {},
   "outputs": [
    {
     "name": "stdout",
     "output_type": "stream",
     "text": [
      "grad(a) [1 1 1]\n",
      "grad(b) [1 1 1]\n"
     ]
    }
   ],
   "source": [
    "c.backward()\n",
    "print(f'grad(a) {a.grad}')\n",
    "print(f'grad(b) {b.grad}')"
   ]
  },
  {
   "cell_type": "code",
   "execution_count": 27,
   "id": "7bef0159",
   "metadata": {},
   "outputs": [
    {
     "data": {
      "text/plain": [
       "[]"
      ]
     },
     "execution_count": 27,
     "metadata": {},
     "output_type": "execute_result"
    }
   ],
   "source": [
    "with allison.no_grad():\n",
    "    a = allison.tensor([1,2,3], requires_grad=True)\n",
    "    b = allison.tensor([3,4,5], requires_grad=True)\n",
    "    c = a + b\n",
    "\n",
    "c._prev"
   ]
  },
  {
   "cell_type": "markdown",
   "id": "ad2e5786",
   "metadata": {},
   "source": [
    "# Using GPU"
   ]
  },
  {
   "cell_type": "code",
   "execution_count": 28,
   "id": "eced5473",
   "metadata": {},
   "outputs": [
    {
     "name": "stdout",
     "output_type": "stream",
     "text": [
      "✅ GPU basic operation passed\n",
      "✅ GPU available: NVIDIA GeForce RTX 4070 Laptop GPU\n",
      "CUDA runtime version: 13000\n",
      "CuPy version: 13.6.0\n"
     ]
    },
    {
     "data": {
      "text/plain": [
       "'gpu'"
      ]
     },
     "execution_count": 28,
     "metadata": {},
     "output_type": "execute_result"
    }
   ],
   "source": [
    "device = 'gpu' if allison.cuda.is_available() else 'cpu'\n",
    "device"
   ]
  },
  {
   "cell_type": "code",
   "execution_count": 29,
   "id": "ead52089",
   "metadata": {},
   "outputs": [
    {
     "name": "stdout",
     "output_type": "stream",
     "text": [
      "Tensor(\n",
      "[[0.98297095 1.29597857 1.66991859 1.09438372 0.9092465 ]\n",
      " [0.98518649 0.85043064 1.15071707 1.44497863 0.90353201]\n",
      " [0.73419236 1.0383043  0.84672432 1.36160405 1.08117636]\n",
      " [0.86869039 1.39333589 0.8010484  1.00537614 0.62835537]\n",
      " [1.04104424 0.67199254 1.03253523 0.98056859 0.2992963 ]], shape=(5, 5), device=gpu, requires_grad=False)\n",
      "[]\n",
      "gpu\n"
     ]
    }
   ],
   "source": [
    "a = allison.tensor(np.random.rand(5,5), device=device)\n",
    "b = allison.tensor(np.random.rand(5,5), device=device)\n",
    "c = a + b\n",
    "print(c)\n",
    "print(c._prev)\n",
    "print(c.device)"
   ]
  },
  {
   "cell_type": "code",
   "execution_count": 30,
   "id": "d0abf03a",
   "metadata": {},
   "outputs": [
    {
     "name": "stdout",
     "output_type": "stream",
     "text": [
      "Tensor(\n",
      "[[1.01722135 0.52818131 1.16222397 1.36052551 1.41263451]\n",
      " [0.78376389 0.14626579 0.40133639 1.30940878 1.09226648]\n",
      " [1.2832258  0.54781366 1.20437518 1.10304831 0.57603041]\n",
      " [0.66726765 0.56622488 0.55461923 1.02894718 0.79355833]\n",
      " [0.86822065 0.96906032 0.80301975 1.01572721 0.3237241 ]], shape=(5, 5), device=gpu, requires_grad=True)\n",
      "[Tensor(\n",
      "[[0.95680562 0.22275824 0.56275066 0.4552701  0.82215081]\n",
      " [0.67714411 0.14147777 0.17507855 0.68771513 0.38989146]\n",
      " [0.73500094 0.12389181 0.50811196 0.71720035 0.33907954]\n",
      " [0.59005698 0.02688882 0.11094116 0.0441385  0.33977848]\n",
      " [0.00787961 0.31571637 0.56909256 0.47849714 0.02452909]], shape=(5, 5), device=gpu, requires_grad=True), Tensor(\n",
      "[[0.06041573 0.30542308 0.59947331 0.90525541 0.5904837 ]\n",
      " [0.10661978 0.00478802 0.22625784 0.62169366 0.70237502]\n",
      " [0.54822486 0.42392186 0.69626322 0.38584796 0.23695087]\n",
      " [0.07721067 0.53933606 0.44367807 0.98480868 0.45377985]\n",
      " [0.86034104 0.65334395 0.23392719 0.53723007 0.29919501]], shape=(5, 5), device=gpu, requires_grad=True)]\n",
      "gpu\n"
     ]
    }
   ],
   "source": [
    "a = allison.tensor(np.random.rand(5,5), device=device,requires_grad=True)\n",
    "b = allison.tensor(np.random.rand(5,5), device=device,requires_grad=True)\n",
    "c = a + b\n",
    "print(c)\n",
    "print(c._prev)\n",
    "print(c.device)"
   ]
  }
 ],
 "metadata": {
  "kernelspec": {
   "display_name": "Allison",
   "language": "python",
   "name": "python3"
  },
  "language_info": {
   "codemirror_mode": {
    "name": "ipython",
    "version": 3
   },
   "file_extension": ".py",
   "mimetype": "text/x-python",
   "name": "python",
   "nbconvert_exporter": "python",
   "pygments_lexer": "ipython3",
   "version": "3.12.3"
  }
 },
 "nbformat": 4,
 "nbformat_minor": 5
}
