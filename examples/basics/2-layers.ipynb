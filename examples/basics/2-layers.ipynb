{
 "cells": [
  {
   "cell_type": "markdown",
   "id": "3eaf732d",
   "metadata": {},
   "source": [
    "[![Open In Colab](https://colab.research.google.com/assets/colab-badge.svg)](https://colab.research.google.com/github/Mitchell-Mirano/Allison/blob/develop/examples/basics/2-layers.ipynb)"
   ]
  },
  {
   "cell_type": "code",
   "execution_count": null,
   "id": "1ba096bb",
   "metadata": {},
   "outputs": [
    {
     "name": "stdout",
     "output_type": "stream",
     "text": [
      "zsh:1: command not found: pip\n"
     ]
    }
   ],
   "source": [
    "!pip install allison"
   ]
  },
  {
   "cell_type": "code",
   "execution_count": 136,
   "id": "2cb07aca",
   "metadata": {},
   "outputs": [],
   "source": [
    "import numpy as np\n",
    "from allison import tensor\n",
    "from allison.nn import Relu,Linear,BatchNorm1D\n",
    "import allison"
   ]
  },
  {
   "cell_type": "code",
   "execution_count": 137,
   "id": "ee9006cd",
   "metadata": {},
   "outputs": [],
   "source": [
    "features = 5\n",
    "classes = 2\n",
    "examples = 10"
   ]
  },
  {
   "cell_type": "code",
   "execution_count": 138,
   "id": "30588a81",
   "metadata": {},
   "outputs": [
    {
     "data": {
      "text/plain": [
       "Tensor(\n",
       "[[ 1.09955408 -0.61479012  0.5254415  -0.77422902  0.08078718]\n",
       " [ 1.60580775 -0.51344912  0.88591578 -0.43847554 -1.03297307]\n",
       " [-0.35500228 -1.69551001 -0.87658408 -0.35523567 -1.55357449]\n",
       " [-0.11836415 -1.74628712 -0.10863481 -2.26727951 -1.84774679]\n",
       " [ 0.02943422  1.83413251  0.57113285  0.22603153  0.74336546]\n",
       " [ 0.80567609  0.19394742  0.68820108 -0.29941399  1.03266462]\n",
       " [ 0.73428039 -0.43162977  2.45183933 -0.05825815 -1.2947397 ]\n",
       " [ 0.36821491  0.79308876  0.55337089 -0.32441566  0.82558739]\n",
       " [-0.89667355 -0.17673987 -0.27434219  1.55945159 -0.11691754]\n",
       " [ 1.74347773 -1.17425804 -1.16762295  1.01972838  0.85815937]], shape=(10, 5), device=cpu, requires_grad=False)"
      ]
     },
     "execution_count": 138,
     "metadata": {},
     "output_type": "execute_result"
    }
   ],
   "source": [
    "# create random data\n",
    "X = tensor(np.random.randn(examples, features))\n",
    "X"
   ]
  },
  {
   "cell_type": "markdown",
   "id": "b199400b",
   "metadata": {},
   "source": [
    "# Linear"
   ]
  },
  {
   "cell_type": "code",
   "execution_count": 139,
   "id": "3fbde3f6",
   "metadata": {},
   "outputs": [
    {
     "data": {
      "text/plain": [
       "(Tensor(\n",
       " [[-0.12625551 -0.52090245]\n",
       "  [ 1.26463255 -0.03568576]\n",
       "  [ 0.7683735  -0.53196216]\n",
       "  [ 0.24526001  0.66649112]\n",
       "  [ 0.10870139 -0.32024855]], shape=(5, 2), device=cpu, requires_grad=True),\n",
       " Tensor(\n",
       " [[0. 0.]], shape=(1, 2), device=cpu, requires_grad=True))"
      ]
     },
     "execution_count": 139,
     "metadata": {},
     "output_type": "execute_result"
    }
   ],
   "source": [
    "linear = Linear(features,classes)\n",
    "linear.W,linear.b"
   ]
  },
  {
   "cell_type": "code",
   "execution_count": 140,
   "id": "a6cf980a",
   "metadata": {},
   "outputs": [
    {
     "data": {
      "text/plain": [
       "Tensor(\n",
       "[[-0.69367878 -1.3722249 ]\n",
       " [-0.39117845 -1.25085196]\n",
       " [-3.02892095  0.97250525]\n",
       " [-3.03386516 -0.73762004]\n",
       " [ 2.89087215 -0.47201955]\n",
       " [ 0.71116445 -1.32296286]\n",
       " [ 1.09033998 -1.29556118]\n",
       " [ 1.39184853 -0.99509173]\n",
       " [ 0.04866373  1.69612952]\n",
       " [-2.25891744  0.15966931]], shape=(10, 2), device=cpu, requires_grad=True)"
      ]
     },
     "execution_count": 140,
     "metadata": {},
     "output_type": "execute_result"
    }
   ],
   "source": [
    "linear(X)"
   ]
  },
  {
   "cell_type": "markdown",
   "id": "70ce7fa4",
   "metadata": {},
   "source": [
    "# Batch Norm"
   ]
  },
  {
   "cell_type": "code",
   "execution_count": 141,
   "id": "64022e63",
   "metadata": {},
   "outputs": [
    {
     "data": {
      "text/plain": [
       "(Tensor(\n",
       " [[1. 1.]], shape=(1, 2), device=cpu, requires_grad=True),\n",
       " Tensor(\n",
       " [[0. 0.]], shape=(1, 2), device=cpu, requires_grad=True))"
      ]
     },
     "execution_count": 141,
     "metadata": {},
     "output_type": "execute_result"
    }
   ],
   "source": [
    "bn = BatchNorm1D(classes)\n",
    "bn.gamma,bn.beta"
   ]
  },
  {
   "cell_type": "code",
   "execution_count": 142,
   "id": "ed79a951",
   "metadata": {},
   "outputs": [
    {
     "data": {
      "text/plain": [
       "Tensor(\n",
       "[[-0.1957029  -0.89493792]\n",
       " [-0.03409133 -0.77562926]\n",
       " [-1.44331203  1.40991382]\n",
       " [-1.44595349 -0.27112622]\n",
       " [ 1.71935263 -0.01004297]\n",
       " [ 0.5548382  -0.84651372]\n",
       " [ 0.7574137  -0.81957808]\n",
       " [ 0.91849542 -0.52421891]\n",
       " [ 0.20089549  2.12123093]\n",
       " [-1.03193568  0.61090233]], shape=(10, 2), device=cpu, requires_grad=True)"
      ]
     },
     "execution_count": 142,
     "metadata": {},
     "output_type": "execute_result"
    }
   ],
   "source": [
    "bn(linear(X))"
   ]
  },
  {
   "cell_type": "markdown",
   "id": "56b8674e",
   "metadata": {},
   "source": [
    "# ReLU"
   ]
  },
  {
   "cell_type": "code",
   "execution_count": 143,
   "id": "e7c06bc6",
   "metadata": {},
   "outputs": [
    {
     "data": {
      "text/plain": [
       "Tensor(\n",
       "[[1.09955408 0.         0.5254415  0.         0.08078718]\n",
       " [1.60580775 0.         0.88591578 0.         0.        ]\n",
       " [0.         0.         0.         0.         0.        ]\n",
       " [0.         0.         0.         0.         0.        ]\n",
       " [0.02943422 1.83413251 0.57113285 0.22603153 0.74336546]\n",
       " [0.80567609 0.19394742 0.68820108 0.         1.03266462]\n",
       " [0.73428039 0.         2.45183933 0.         0.        ]\n",
       " [0.36821491 0.79308876 0.55337089 0.         0.82558739]\n",
       " [0.         0.         0.         1.55945159 0.        ]\n",
       " [1.74347773 0.         0.         1.01972838 0.85815937]], shape=(10, 5), device=cpu, requires_grad=False)"
      ]
     },
     "execution_count": 143,
     "metadata": {},
     "output_type": "execute_result"
    }
   ],
   "source": [
    "relu = Relu()\n",
    "relu(X)"
   ]
  },
  {
   "cell_type": "markdown",
   "id": "06f09f46",
   "metadata": {},
   "source": [
    "# Linear + ReLU"
   ]
  },
  {
   "cell_type": "code",
   "execution_count": 144,
   "id": "d5a1aabd",
   "metadata": {},
   "outputs": [
    {
     "data": {
      "text/plain": [
       "Tensor(\n",
       "[[0.         0.        ]\n",
       " [0.         0.        ]\n",
       " [0.         0.97250525]\n",
       " [0.         0.        ]\n",
       " [2.89087215 0.        ]\n",
       " [0.71116445 0.        ]\n",
       " [1.09033998 0.        ]\n",
       " [1.39184853 0.        ]\n",
       " [0.04866373 1.69612952]\n",
       " [0.         0.15966931]], shape=(10, 2), device=cpu, requires_grad=True)"
      ]
     },
     "execution_count": 144,
     "metadata": {},
     "output_type": "execute_result"
    }
   ],
   "source": [
    "relu(linear(X))"
   ]
  },
  {
   "cell_type": "markdown",
   "id": "4163d523",
   "metadata": {},
   "source": [
    "# Linear + BatchNorm + ReLU"
   ]
  },
  {
   "cell_type": "code",
   "execution_count": 145,
   "id": "6c124b9b",
   "metadata": {},
   "outputs": [
    {
     "data": {
      "text/plain": [
       "Tensor(\n",
       "[[0.         0.        ]\n",
       " [0.         0.        ]\n",
       " [0.         1.40991382]\n",
       " [0.         0.        ]\n",
       " [1.71935263 0.        ]\n",
       " [0.5548382  0.        ]\n",
       " [0.7574137  0.        ]\n",
       " [0.91849542 0.        ]\n",
       " [0.20089549 2.12123093]\n",
       " [0.         0.61090233]], shape=(10, 2), device=cpu, requires_grad=True)"
      ]
     },
     "execution_count": 145,
     "metadata": {},
     "output_type": "execute_result"
    }
   ],
   "source": [
    "relu(bn(linear(X)))"
   ]
  },
  {
   "cell_type": "markdown",
   "id": "cb6970fd",
   "metadata": {},
   "source": [
    "Without bias"
   ]
  },
  {
   "cell_type": "code",
   "execution_count": 146,
   "id": "463669a1",
   "metadata": {},
   "outputs": [
    {
     "data": {
      "text/plain": [
       "Tensor(\n",
       "[[0.22865682 0.57132872]\n",
       " [0.         0.53122008]\n",
       " [0.         0.        ]\n",
       " [0.         1.00872521]\n",
       " [1.50568675 0.56171964]\n",
       " [1.13079566 0.49400445]\n",
       " [0.0910277  0.60704171]\n",
       " [1.22941469 0.65281757]\n",
       " [0.         0.        ]\n",
       " [0.         0.        ]], shape=(10, 2), device=cpu, requires_grad=True)"
      ]
     },
     "execution_count": 146,
     "metadata": {},
     "output_type": "execute_result"
    }
   ],
   "source": [
    "linear = Linear(features,classes,bias=False)\n",
    "relu(bn(linear(X)))"
   ]
  },
  {
   "cell_type": "markdown",
   "id": "28396e24",
   "metadata": {},
   "source": [
    "# Using GPU"
   ]
  },
  {
   "cell_type": "code",
   "execution_count": 147,
   "id": "39f3e4cd",
   "metadata": {},
   "outputs": [
    {
     "name": "stdout",
     "output_type": "stream",
     "text": [
      "Current GPU: NVIDIA GeForce RTX 4070 Laptop GPU\n",
      "CUDA runtime version: 13000\n",
      "Backend: CuPy, version: 13.6.0\n"
     ]
    },
    {
     "data": {
      "text/plain": [
       "'gpu'"
      ]
     },
     "execution_count": 147,
     "metadata": {},
     "output_type": "execute_result"
    }
   ],
   "source": [
    "device = 'gpu' if allison.cuda.is_available() else 'cpu'\n",
    "device"
   ]
  },
  {
   "cell_type": "markdown",
   "id": "fec5022a",
   "metadata": {},
   "source": [
    "# Linear"
   ]
  },
  {
   "cell_type": "code",
   "execution_count": 148,
   "id": "47fd2869",
   "metadata": {},
   "outputs": [
    {
     "data": {
      "text/plain": [
       "Tensor(\n",
       "[[-2.50123456 -2.10368518]\n",
       " [ 1.53204359  2.20858764]\n",
       " [ 0.45376497  1.1683612 ]\n",
       " [-2.00394528 -1.03469659]\n",
       " [ 0.1207449  -0.57056546]\n",
       " [-0.28004949  1.41484886]\n",
       " [ 0.23224996 -1.55518476]\n",
       " [ 1.37882402  1.66993815]\n",
       " [-3.02881528 -0.48927983]\n",
       " [-0.10414598  0.1705214 ]], shape=(10, 2), device=gpu, requires_grad=True)"
      ]
     },
     "execution_count": 148,
     "metadata": {},
     "output_type": "execute_result"
    }
   ],
   "source": [
    "features = 5\n",
    "classes = 2\n",
    "examples = 10\n",
    "\n",
    "X = tensor(np.random.randn(examples, features), device=device)\n",
    "linear = Linear(features,classes).to(device)\n",
    "linear(X)"
   ]
  },
  {
   "cell_type": "markdown",
   "id": "5ab9524f",
   "metadata": {},
   "source": [
    "# Batch Norm"
   ]
  },
  {
   "cell_type": "code",
   "execution_count": 149,
   "id": "fd888e2f",
   "metadata": {},
   "outputs": [
    {
     "data": {
      "text/plain": [
       "Tensor(\n",
       "[[-1.39386853 -1.57082657]\n",
       " [ 1.30741835  1.52003231]\n",
       " [ 0.58524155  0.774441  ]\n",
       " [-1.06080917 -0.80461975]\n",
       " [ 0.36220146 -0.47194974]\n",
       " [ 0.09376953  0.95111317]\n",
       " [ 0.43688194 -1.17768415]\n",
       " [ 1.20479958  1.13395062]\n",
       " [-1.74721556 -0.41368756]\n",
       " [ 0.21158085  0.05923068]], shape=(10, 2), device=gpu, requires_grad=True)"
      ]
     },
     "execution_count": 149,
     "metadata": {},
     "output_type": "execute_result"
    }
   ],
   "source": [
    "bn = BatchNorm1D(classes).to(device)\n",
    "bn(linear(X))"
   ]
  },
  {
   "cell_type": "markdown",
   "id": "0d1b835d",
   "metadata": {},
   "source": [
    "# ReLU"
   ]
  },
  {
   "cell_type": "code",
   "execution_count": 150,
   "id": "4525d0b8",
   "metadata": {},
   "outputs": [
    {
     "data": {
      "text/plain": [
       "Tensor(\n",
       "[[0.12844535 0.         0.         0.         0.        ]\n",
       " [0.         1.04515484 0.         1.65149395 1.7226863 ]\n",
       " [1.34044505 0.17048716 1.07252816 0.         0.        ]\n",
       " [0.15042588 0.10593068 0.15122031 2.52292222 0.        ]\n",
       " [0.         0.         0.67558986 0.         0.        ]\n",
       " [1.95420365 0.         0.2475612  0.         0.15894051]\n",
       " [0.         0.         0.23472575 0.         0.        ]\n",
       " [0.68837868 0.         0.02137914 0.73449355 1.20377089]\n",
       " [0.         2.19853637 0.         1.11053711 0.16618472]\n",
       " [0.63653433 0.         0.         0.         0.01729508]], shape=(10, 5), device=gpu, requires_grad=False)"
      ]
     },
     "execution_count": 150,
     "metadata": {},
     "output_type": "execute_result"
    }
   ],
   "source": [
    "relu = Relu()\n",
    "relu(X)"
   ]
  },
  {
   "cell_type": "markdown",
   "id": "7255ae1e",
   "metadata": {},
   "source": [
    "# Linear + ReLU + Batch Norm"
   ]
  },
  {
   "cell_type": "code",
   "execution_count": 151,
   "id": "ead2cff3",
   "metadata": {},
   "outputs": [
    {
     "data": {
      "text/plain": [
       "Tensor(\n",
       "[[0.         0.        ]\n",
       " [1.30741835 1.52003231]\n",
       " [0.58524155 0.774441  ]\n",
       " [0.         0.        ]\n",
       " [0.36220146 0.        ]\n",
       " [0.09376953 0.95111317]\n",
       " [0.43688194 0.        ]\n",
       " [1.20479958 1.13395062]\n",
       " [0.         0.        ]\n",
       " [0.21158085 0.05923068]], shape=(10, 2), device=gpu, requires_grad=True)"
      ]
     },
     "execution_count": 151,
     "metadata": {},
     "output_type": "execute_result"
    }
   ],
   "source": [
    "relu(bn(linear(X)))"
   ]
  }
 ],
 "metadata": {
  "kernelspec": {
   "display_name": "Allison",
   "language": "python",
   "name": "python3"
  },
  "language_info": {
   "codemirror_mode": {
    "name": "ipython",
    "version": 3
   },
   "file_extension": ".py",
   "mimetype": "text/x-python",
   "name": "python",
   "nbconvert_exporter": "python",
   "pygments_lexer": "ipython3",
   "version": "3.12.3"
  }
 },
 "nbformat": 4,
 "nbformat_minor": 5
}
