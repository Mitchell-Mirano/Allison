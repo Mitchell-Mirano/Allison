{
 "cells": [
  {
   "cell_type": "code",
   "execution_count": 25,
   "id": "b58573ef",
   "metadata": {},
   "outputs": [],
   "source": [
    "%load_ext autoreload\n",
    "%autoreload 2"
   ]
  },
  {
   "cell_type": "code",
   "execution_count": 26,
   "id": "c188e6c9",
   "metadata": {},
   "outputs": [],
   "source": [
    "import pandas as pd\n",
    "import numpy as np\n",
    "import matplotlib.pyplot as plt\n",
    "import seaborn as sns\n",
    "\n",
    "import allison\n",
    "from allison.nn import NeuralNetwork,Linear, CrossEntropyLoss,Tensor,no_grad,Relu,SGDMomentum\n",
    "from allison.datasets import train_test_split,DataLoader,Dataset\n",
    "from allison.metrics import confusion_matrix,classification_report"
   ]
  },
  {
   "cell_type": "code",
   "execution_count": 2,
   "id": "facd9db5",
   "metadata": {},
   "outputs": [
    {
     "name": "stdout",
     "output_type": "stream",
     "text": [
      "Current GPU: NVIDIA GeForce RTX 4070 Laptop GPU\n",
      "CUDA runtime version: 13000\n",
      "CuPy version: 13.6.0\n"
     ]
    },
    {
     "data": {
      "text/plain": [
       "'gpu'"
      ]
     },
     "execution_count": 2,
     "metadata": {},
     "output_type": "execute_result"
    }
   ],
   "source": [
    "device = \"gpu\" if allison.is_cuda_available() else \"cpu\"\n",
    "device"
   ]
  },
  {
   "cell_type": "code",
   "execution_count": 3,
   "id": "2c454d8a",
   "metadata": {},
   "outputs": [],
   "source": [
    "data = pd.read_csv(\"../data/digit-recognizer/train.csv\")"
   ]
  },
  {
   "cell_type": "code",
   "execution_count": 41,
   "id": "de203b40",
   "metadata": {},
   "outputs": [
    {
     "data": {
      "text/html": [
       "<div>\n",
       "<style scoped>\n",
       "    .dataframe tbody tr th:only-of-type {\n",
       "        vertical-align: middle;\n",
       "    }\n",
       "\n",
       "    .dataframe tbody tr th {\n",
       "        vertical-align: top;\n",
       "    }\n",
       "\n",
       "    .dataframe thead th {\n",
       "        text-align: right;\n",
       "    }\n",
       "</style>\n",
       "<table border=\"1\" class=\"dataframe\">\n",
       "  <thead>\n",
       "    <tr style=\"text-align: right;\">\n",
       "      <th></th>\n",
       "      <th>label</th>\n",
       "      <th>pixel0</th>\n",
       "      <th>pixel1</th>\n",
       "      <th>pixel2</th>\n",
       "      <th>pixel3</th>\n",
       "      <th>pixel4</th>\n",
       "      <th>pixel5</th>\n",
       "      <th>pixel6</th>\n",
       "      <th>pixel7</th>\n",
       "      <th>pixel8</th>\n",
       "      <th>...</th>\n",
       "      <th>pixel774</th>\n",
       "      <th>pixel775</th>\n",
       "      <th>pixel776</th>\n",
       "      <th>pixel777</th>\n",
       "      <th>pixel778</th>\n",
       "      <th>pixel779</th>\n",
       "      <th>pixel780</th>\n",
       "      <th>pixel781</th>\n",
       "      <th>pixel782</th>\n",
       "      <th>pixel783</th>\n",
       "    </tr>\n",
       "  </thead>\n",
       "  <tbody>\n",
       "    <tr>\n",
       "      <th>0</th>\n",
       "      <td>1</td>\n",
       "      <td>0</td>\n",
       "      <td>0</td>\n",
       "      <td>0</td>\n",
       "      <td>0</td>\n",
       "      <td>0</td>\n",
       "      <td>0</td>\n",
       "      <td>0</td>\n",
       "      <td>0</td>\n",
       "      <td>0</td>\n",
       "      <td>...</td>\n",
       "      <td>0</td>\n",
       "      <td>0</td>\n",
       "      <td>0</td>\n",
       "      <td>0</td>\n",
       "      <td>0</td>\n",
       "      <td>0</td>\n",
       "      <td>0</td>\n",
       "      <td>0</td>\n",
       "      <td>0</td>\n",
       "      <td>0</td>\n",
       "    </tr>\n",
       "    <tr>\n",
       "      <th>1</th>\n",
       "      <td>0</td>\n",
       "      <td>0</td>\n",
       "      <td>0</td>\n",
       "      <td>0</td>\n",
       "      <td>0</td>\n",
       "      <td>0</td>\n",
       "      <td>0</td>\n",
       "      <td>0</td>\n",
       "      <td>0</td>\n",
       "      <td>0</td>\n",
       "      <td>...</td>\n",
       "      <td>0</td>\n",
       "      <td>0</td>\n",
       "      <td>0</td>\n",
       "      <td>0</td>\n",
       "      <td>0</td>\n",
       "      <td>0</td>\n",
       "      <td>0</td>\n",
       "      <td>0</td>\n",
       "      <td>0</td>\n",
       "      <td>0</td>\n",
       "    </tr>\n",
       "    <tr>\n",
       "      <th>2</th>\n",
       "      <td>1</td>\n",
       "      <td>0</td>\n",
       "      <td>0</td>\n",
       "      <td>0</td>\n",
       "      <td>0</td>\n",
       "      <td>0</td>\n",
       "      <td>0</td>\n",
       "      <td>0</td>\n",
       "      <td>0</td>\n",
       "      <td>0</td>\n",
       "      <td>...</td>\n",
       "      <td>0</td>\n",
       "      <td>0</td>\n",
       "      <td>0</td>\n",
       "      <td>0</td>\n",
       "      <td>0</td>\n",
       "      <td>0</td>\n",
       "      <td>0</td>\n",
       "      <td>0</td>\n",
       "      <td>0</td>\n",
       "      <td>0</td>\n",
       "    </tr>\n",
       "    <tr>\n",
       "      <th>3</th>\n",
       "      <td>4</td>\n",
       "      <td>0</td>\n",
       "      <td>0</td>\n",
       "      <td>0</td>\n",
       "      <td>0</td>\n",
       "      <td>0</td>\n",
       "      <td>0</td>\n",
       "      <td>0</td>\n",
       "      <td>0</td>\n",
       "      <td>0</td>\n",
       "      <td>...</td>\n",
       "      <td>0</td>\n",
       "      <td>0</td>\n",
       "      <td>0</td>\n",
       "      <td>0</td>\n",
       "      <td>0</td>\n",
       "      <td>0</td>\n",
       "      <td>0</td>\n",
       "      <td>0</td>\n",
       "      <td>0</td>\n",
       "      <td>0</td>\n",
       "    </tr>\n",
       "    <tr>\n",
       "      <th>4</th>\n",
       "      <td>0</td>\n",
       "      <td>0</td>\n",
       "      <td>0</td>\n",
       "      <td>0</td>\n",
       "      <td>0</td>\n",
       "      <td>0</td>\n",
       "      <td>0</td>\n",
       "      <td>0</td>\n",
       "      <td>0</td>\n",
       "      <td>0</td>\n",
       "      <td>...</td>\n",
       "      <td>0</td>\n",
       "      <td>0</td>\n",
       "      <td>0</td>\n",
       "      <td>0</td>\n",
       "      <td>0</td>\n",
       "      <td>0</td>\n",
       "      <td>0</td>\n",
       "      <td>0</td>\n",
       "      <td>0</td>\n",
       "      <td>0</td>\n",
       "    </tr>\n",
       "  </tbody>\n",
       "</table>\n",
       "<p>5 rows × 785 columns</p>\n",
       "</div>"
      ],
      "text/plain": [
       "   label  pixel0  pixel1  pixel2  pixel3  pixel4  pixel5  pixel6  pixel7  \\\n",
       "0      1       0       0       0       0       0       0       0       0   \n",
       "1      0       0       0       0       0       0       0       0       0   \n",
       "2      1       0       0       0       0       0       0       0       0   \n",
       "3      4       0       0       0       0       0       0       0       0   \n",
       "4      0       0       0       0       0       0       0       0       0   \n",
       "\n",
       "   pixel8  ...  pixel774  pixel775  pixel776  pixel777  pixel778  pixel779  \\\n",
       "0       0  ...         0         0         0         0         0         0   \n",
       "1       0  ...         0         0         0         0         0         0   \n",
       "2       0  ...         0         0         0         0         0         0   \n",
       "3       0  ...         0         0         0         0         0         0   \n",
       "4       0  ...         0         0         0         0         0         0   \n",
       "\n",
       "   pixel780  pixel781  pixel782  pixel783  \n",
       "0         0         0         0         0  \n",
       "1         0         0         0         0  \n",
       "2         0         0         0         0  \n",
       "3         0         0         0         0  \n",
       "4         0         0         0         0  \n",
       "\n",
       "[5 rows x 785 columns]"
      ]
     },
     "execution_count": 41,
     "metadata": {},
     "output_type": "execute_result"
    }
   ],
   "source": [
    "data.head()"
   ]
  },
  {
   "cell_type": "code",
   "execution_count": 4,
   "id": "9d6ff7f4",
   "metadata": {},
   "outputs": [],
   "source": [
    "data_train,data_test = train_test_split(data,test_size=0.2)"
   ]
  },
  {
   "cell_type": "code",
   "execution_count": 5,
   "id": "46cb503b",
   "metadata": {},
   "outputs": [],
   "source": [
    "X_train = data_train.drop(\"label\",axis=1).values\n",
    "Y_train = data_train[\"label\"].values\n",
    "\n",
    "X_test = data_test.drop(\"label\",axis=1).values\n",
    "Y_test = data_test[\"label\"].values\n",
    "\n",
    "train_dataset = Dataset(X_train,Y_train)    \n",
    "test_dataset = Dataset(X_test,Y_test)\n",
    "\n",
    "train_dataloader = DataLoader(train_dataset,batch_size=64)\n",
    "test_dataloader = DataLoader(test_dataset,batch_size=64)"
   ]
  },
  {
   "cell_type": "code",
   "execution_count": 6,
   "id": "4418038a",
   "metadata": {},
   "outputs": [
    {
     "name": "stdout",
     "output_type": "stream",
     "text": [
      "(64, 784) (64,)\n"
     ]
    }
   ],
   "source": [
    "for x,y in train_dataloader:\n",
    "    print(x.shape,y.shape)\n",
    "    break"
   ]
  },
  {
   "cell_type": "code",
   "execution_count": 36,
   "id": "963fa465",
   "metadata": {},
   "outputs": [],
   "source": [
    "class Model(NeuralNetwork):\n",
    "    def __init__(self):\n",
    "        super().__init__()\n",
    "        self.linear1 = Linear(784,128)\n",
    "        self.linear2 = Linear(128,64)\n",
    "        self.linear3 = Linear(64,10)\n",
    "        self.relu = Relu()\n",
    "        \n",
    "    def forward(self,x):\n",
    "        x = self.linear1(x)\n",
    "        x = self.relu(x)\n",
    "        x = self.linear2(x)\n",
    "        x = self.relu(x)\n",
    "        x = self.linear3(x)\n",
    "        return x\n",
    "    \n",
    "\n",
    "model = Model()\n",
    "model.to(device)\n",
    "loss_fn = CrossEntropyLoss()\n",
    "\n",
    "optimizer = SGDMomentum(model.parameters(), learning_rate=1e-3, momentum=0.9)\n"
   ]
  },
  {
   "cell_type": "code",
   "execution_count": 37,
   "id": "2b822a5f",
   "metadata": {},
   "outputs": [
    {
     "name": "stdout",
     "output_type": "stream",
     "text": [
      "[  0/100] | Loss: 2.1168 | Acc Train: 16.72% | Acc Test: 18.15%\n",
      "[ 10/100] | Loss: 1.9877 | Acc Train: 21.27% | Acc Test: 20.75%\n",
      "[ 20/100] | Loss: 1.9923 | Acc Train: 21.43% | Acc Test: 21.00%\n",
      "[ 30/100] | Loss: 1.3000 | Acc Train: 48.57% | Acc Test: 48.55%\n",
      "[ 40/100] | Loss: 0.3159 | Acc Train: 92.90% | Acc Test: 91.99%\n",
      "[ 50/100] | Loss: 0.2886 | Acc Train: 96.84% | Acc Test: 94.26%\n",
      "[ 60/100] | Loss: 0.3138 | Acc Train: 97.68% | Acc Test: 94.90%\n",
      "[ 70/100] | Loss: 0.3261 | Acc Train: 98.21% | Acc Test: 95.33%\n",
      "[ 80/100] | Loss: 0.3427 | Acc Train: 98.18% | Acc Test: 95.29%\n",
      "[ 90/100] | Loss: 0.3750 | Acc Train: 98.72% | Acc Test: 95.32%\n",
      "[100/100] | Loss: 0.3873 | Acc Train: 99.21% | Acc Test: 95.74%\n"
     ]
    }
   ],
   "source": [
    "epochs = 100\n",
    "\n",
    "for epoch in range(epochs+1):\n",
    "    total_train_loss = 0.0\n",
    "    correct_train = 0\n",
    "    total_train = 0\n",
    "\n",
    "    for x, y in train_dataloader:\n",
    "        x = Tensor(x, device=device)\n",
    "        y = Tensor(y, device=device)\n",
    "\n",
    "        # Forward\n",
    "        y_pred = model(x)\n",
    "        loss = loss_fn(y, y_pred)\n",
    "\n",
    "        # Backprop\n",
    "        optimizer.zero_grad()\n",
    "        loss.backward()\n",
    "        optimizer.step()\n",
    "\n",
    "        # Acumular loss y accuracy\n",
    "        total_train_loss += loss.data.get() * len(y)  # ponderar por tamaño del batch\n",
    "        correct_train += (y_pred.data.argmax(axis=1) == y.data).sum().get()\n",
    "        total_train += len(y)\n",
    "\n",
    "    avg_train_loss = total_train_loss / total_train\n",
    "    avg_train_acc = correct_train / total_train\n",
    "\n",
    "    # --- Validación/Test ---\n",
    "    if epoch % 10 == 0:\n",
    "        with no_grad():\n",
    "            total_test_loss = 0.0\n",
    "            correct_test = 0\n",
    "            total_test = 0\n",
    "\n",
    "            for x, y in test_dataloader:\n",
    "                x = Tensor(x, device=device)\n",
    "                y = Tensor(y, device=device)\n",
    "\n",
    "                y_pred = model(x)\n",
    "                loss = loss_fn(y, y_pred)\n",
    "\n",
    "                total_test_loss += loss.data.get() * len(y)\n",
    "                correct_test += (y_pred.data.argmax(axis=1) == y.data).sum().get()\n",
    "                total_test += len(y)\n",
    "\n",
    "            avg_test_loss = total_test_loss / total_test\n",
    "            avg_test_acc = correct_test / total_test\n",
    "            \n",
    "            print(f\"[{epoch:3d}/{epochs:3d}] | Loss: {avg_test_loss:.4f} | Acc Train: {100*avg_train_acc:.2f}% | Acc Test: {100*avg_test_acc:.2f}%\")\n"
   ]
  },
  {
   "cell_type": "code",
   "execution_count": 38,
   "id": "e1160f23",
   "metadata": {},
   "outputs": [],
   "source": [
    "all_preds = []\n",
    "all_targets = []\n",
    "\n",
    "with no_grad():\n",
    "    for x, y in test_dataloader:\n",
    "        x = Tensor(x, device=device)\n",
    "        y = Tensor(y, device=device)\n",
    "\n",
    "        # Predicciones\n",
    "        y_pred = model(x)\n",
    "        preds = y_pred.data.argmax(axis=1).get()\n",
    "\n",
    "        # Guardar predicciones y targets\n",
    "        all_preds.extend(preds.tolist())\n",
    "        all_targets.extend(y.data.get().tolist())\n"
   ]
  },
  {
   "cell_type": "code",
   "execution_count": 39,
   "id": "26f521e3",
   "metadata": {},
   "outputs": [
    {
     "name": "stdout",
     "output_type": "stream",
     "text": [
      "            precision   recall f1-score  support\n",
      "0                0.97     0.97     0.97      798\n",
      "1                0.98     0.98     0.98      920\n",
      "2                0.96     0.97     0.96      797\n",
      "3                0.95     0.96     0.95      858\n",
      "4                0.95     0.96     0.96      813\n",
      "5                0.94     0.95     0.95      772\n",
      "6                0.97     0.97     0.97      849\n",
      "7                0.97     0.95     0.96      929\n",
      "8                0.94     0.93     0.94      810\n",
      "9                0.93     0.93     0.93      854\n",
      "\n",
      "accuracy                           0.00     8400\n",
      "macro avg        0.96     0.96     0.96     8400\n",
      "weighted avg     0.96     0.96     0.96     8400\n"
     ]
    }
   ],
   "source": [
    "print(classification_report(all_targets,all_preds))"
   ]
  },
  {
   "cell_type": "code",
   "execution_count": 40,
   "id": "a2bc8e4f",
   "metadata": {},
   "outputs": [
    {
     "data": {
      "text/plain": [
       "<Axes: >"
      ]
     },
     "execution_count": 40,
     "metadata": {},
     "output_type": "execute_result"
    },
    {
     "data": {
      "image/png": "[encoded data removed]",
      "text/plain": [
       "<Figure size 640x480 with 2 Axes>"
      ]
     },
     "metadata": {},
     "output_type": "display_data"
    }
   ],
   "source": [
    "sns.heatmap(confusion_matrix(all_targets,all_preds), annot=True, cmap=\"Blues\", fmt=\".0f\")"
   ]
  }
 ],
 "metadata": {
  "kernelspec": {
   "display_name": "allison",
   "language": "python",
   "name": "python3"
  },
  "language_info": {
   "codemirror_mode": {
    "name": "ipython",
    "version": 3
   },
   "file_extension": ".py",
   "mimetype": "text/x-python",
   "name": "python",
   "nbconvert_exporter": "python",
   "pygments_lexer": "ipython3",
   "version": "3.12.3"
  }
 },
 "nbformat": 4,
 "nbformat_minor": 5
}
