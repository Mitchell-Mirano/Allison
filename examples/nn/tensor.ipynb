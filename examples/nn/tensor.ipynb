{
 "cells": [
  {
   "cell_type": "code",
   "execution_count": 1,
   "id": "69c6dbfe",
   "metadata": {},
   "outputs": [],
   "source": [
    "from allison.nn import Tensor,softmax\n",
    "import numpy as np"
   ]
  },
  {
   "cell_type": "code",
   "execution_count": 2,
   "id": "35abe79b",
   "metadata": {},
   "outputs": [
    {
     "data": {
      "text/plain": [
       "Tensor(\n",
       "[[28 32]\n",
       " [36 40]], shape=(2, 2))"
      ]
     },
     "execution_count": 2,
     "metadata": {},
     "output_type": "execute_result"
    }
   ],
   "source": [
    "a = Tensor(np.array([[1, 2], [3, 4]]))\n",
    "b = Tensor(np.array([[5, 6], [7, 8]]))\n",
    "c = Tensor(np.array([[9, 10], [11, 12]]))\n",
    "d = Tensor(np.array([[13, 14], [15, 16]]))\n",
    "\n",
    "a + b + c + d"
   ]
  },
  {
   "cell_type": "code",
   "execution_count": 3,
   "id": "81efda47",
   "metadata": {},
   "outputs": [],
   "source": [
    "an=a.to_numpy()"
   ]
  },
  {
   "cell_type": "code",
   "execution_count": 4,
   "id": "7e475c06",
   "metadata": {},
   "outputs": [
    {
     "data": {
      "text/plain": [
       "numpy.ndarray"
      ]
     },
     "execution_count": 4,
     "metadata": {},
     "output_type": "execute_result"
    }
   ],
   "source": [
    "type(an)"
   ]
  },
  {
   "cell_type": "code",
   "execution_count": 5,
   "id": "5402c606",
   "metadata": {},
   "outputs": [
    {
     "data": {
      "text/plain": [
       "array([[1.23394576e-04, 9.99876605e-01],\n",
       "       [2.68941421e-01, 7.31058579e-01],\n",
       "       [2.68941421e-01, 7.31058579e-01]])"
      ]
     },
     "execution_count": 5,
     "metadata": {},
     "output_type": "execute_result"
    }
   ],
   "source": [
    "arr = np.array([[1, 10], [3, 4], [5, 6]])\n",
    "\n",
    "softmax(arr)"
   ]
  },
  {
   "cell_type": "code",
   "execution_count": 6,
   "id": "c4a13529",
   "metadata": {},
   "outputs": [
    {
     "data": {
      "text/plain": [
       "Tensor(\n",
       "[[0.26894142 0.73105858]\n",
       " [0.26894142 0.73105858]], shape=(2, 2))"
      ]
     },
     "execution_count": 6,
     "metadata": {},
     "output_type": "execute_result"
    }
   ],
   "source": [
    "a = Tensor(np.array([[1, 2], [3, 4]]))\n",
    "softmax(a)"
   ]
  }
 ],
 "metadata": {
  "kernelspec": {
   "display_name": "allison (3.12.3)",
   "language": "python",
   "name": "python3"
  },
  "language_info": {
   "codemirror_mode": {
    "name": "ipython",
    "version": 3
   },
   "file_extension": ".py",
   "mimetype": "text/x-python",
   "name": "python",
   "nbconvert_exporter": "python",
   "pygments_lexer": "ipython3",
   "version": "3.12.3"
  }
 },
 "nbformat": 4,
 "nbformat_minor": 5
}
