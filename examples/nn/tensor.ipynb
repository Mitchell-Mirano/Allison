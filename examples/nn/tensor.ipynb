{
 "cells": [
  {
   "cell_type": "code",
   "execution_count": 1,
   "id": "69c6dbfe",
   "metadata": {},
   "outputs": [],
   "source": [
    "\n",
    "from allison.nn import Tensor,no_grad,Linear\n",
    "import numpy as np"
   ]
  },
  {
   "cell_type": "code",
   "execution_count": 2,
   "id": "8c03423f",
   "metadata": {},
   "outputs": [
    {
     "data": {
      "text/plain": [
       "{Tensor(\n",
       " [1 2 3], shape=(3,), device=gpu, requires_grad=True),\n",
       " Tensor(\n",
       " [3 4 5], shape=(3,), device=gpu, requires_grad=True)}"
      ]
     },
     "execution_count": 2,
     "metadata": {},
     "output_type": "execute_result"
    }
   ],
   "source": [
    "a = Tensor([1,2,3], requires_grad=True).to('gpu')\n",
    "b = Tensor([3,4,5], requires_grad=True).to('gpu')\n",
    "c = a + b\n",
    "c._prev"
   ]
  },
  {
   "cell_type": "code",
   "execution_count": 3,
   "id": "7bef0159",
   "metadata": {},
   "outputs": [
    {
     "data": {
      "text/plain": [
       "set()"
      ]
     },
     "execution_count": 3,
     "metadata": {},
     "output_type": "execute_result"
    }
   ],
   "source": [
    "with no_grad():\n",
    "    a = Tensor([1,2,3], requires_grad=True)\n",
    "    b = Tensor([3,4,5], requires_grad=True)\n",
    "    c = a + b\n",
    "\n",
    "c._prev"
   ]
  },
  {
   "cell_type": "code",
   "execution_count": 7,
   "id": "68062d58",
   "metadata": {},
   "outputs": [
    {
     "name": "stdout",
     "output_type": "stream",
     "text": [
      "Tensor(\n",
      "[[ 1.01346885  0.18625388 -0.13168498]\n",
      " [ 1.44622815 -0.26159669 -0.13427181]], shape=(2, 3), device=cpu, requires_grad=True)\n",
      "Tensor(\n",
      "[[0. 0. 0.]], shape=(1, 3), device=cpu, requires_grad=True)\n"
     ]
    }
   ],
   "source": [
    "l1 = Linear(2,3)\n",
    "\n",
    "print(l1.W)\n",
    "print(l1.b)"
   ]
  },
  {
   "cell_type": "code",
   "execution_count": 9,
   "id": "8f8b8172",
   "metadata": {},
   "outputs": [
    {
     "name": "stdout",
     "output_type": "stream",
     "text": [
      "Tensor(\n",
      "[[ 1.01346885  0.18625388 -0.13168498]\n",
      " [ 1.44622815 -0.26159669 -0.13427181]], shape=(2, 3), device=gpu, requires_grad=True)\n",
      "Tensor(\n",
      "[[0. 0. 0.]], shape=(1, 3), device=gpu, requires_grad=True)\n"
     ]
    }
   ],
   "source": [
    "l1.to('gpu')\n",
    "\n",
    "print(l1.W)\n",
    "print(l1.b)"
   ]
  }
 ],
 "metadata": {
  "kernelspec": {
   "display_name": "allison",
   "language": "python",
   "name": "python3"
  },
  "language_info": {
   "codemirror_mode": {
    "name": "ipython",
    "version": 3
   },
   "file_extension": ".py",
   "mimetype": "text/x-python",
   "name": "python",
   "nbconvert_exporter": "python",
   "pygments_lexer": "ipython3",
   "version": "3.12.3"
  }
 },
 "nbformat": 4,
 "nbformat_minor": 5
}
