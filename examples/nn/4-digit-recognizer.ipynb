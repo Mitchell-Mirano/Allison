{
 "cells": [
  {
   "cell_type": "markdown",
   "id": "ec661ce3",
   "metadata": {},
   "source": [
    "[![Open In Colab](https://colab.research.google.com/assets/colab-badge.svg)](https://colab.research.google.com/github/Mitchell-Mirano/Allison/blob/develop/examples/nn/4-digit-recognizer.ipynb)"
   ]
  },
  {
   "cell_type": "code",
   "execution_count": null,
   "id": "33f43b89",
   "metadata": {},
   "outputs": [
    {
     "name": "stdout",
     "output_type": "stream",
     "text": [
      "zsh:1: command not found: pip\n"
     ]
    }
   ],
   "source": [
    "!pip install \"allison @ git+https://github.com/Mitchell-Mirano/Allison.git@develop\""
   ]
  },
  {
   "cell_type": "code",
   "execution_count": 27,
   "id": "c188e6c9",
   "metadata": {},
   "outputs": [],
   "source": [
    "import pandas as pd\n",
    "import numpy as np\n",
    "import matplotlib.pyplot as plt\n",
    "import seaborn as sns\n",
    "\n",
    "import allison\n",
    "from allison import tensor\n",
    "from allison.nn import NeuralNetwork,Linear, CrossEntropyLoss,Relu,BatchNorm1D\n",
    "from allison.optim import SGDMomentum, RMSprop, Adam\n",
    "from allison.datasets import train_test_split,DataLoader,Dataset\n",
    "from allison.metrics import confusion_matrix,classification_report\n",
    "from datetime import datetime"
   ]
  },
  {
   "cell_type": "code",
   "execution_count": 28,
   "id": "facd9db5",
   "metadata": {},
   "outputs": [
    {
     "name": "stdout",
     "output_type": "stream",
     "text": [
      "✅ GPU basic operation passed\n",
      "✅ GPU available: NVIDIA GeForce RTX 4070 Laptop GPU\n",
      "CUDA runtime version: 13000\n",
      "CuPy version: 13.6.0\n"
     ]
    },
    {
     "data": {
      "text/plain": [
       "'gpu'"
      ]
     },
     "execution_count": 28,
     "metadata": {},
     "output_type": "execute_result"
    }
   ],
   "source": [
    "device = \"gpu\" if allison.cuda.is_available() else \"cpu\"\n",
    "device"
   ]
  },
  {
   "cell_type": "code",
   "execution_count": 29,
   "id": "2c454d8a",
   "metadata": {},
   "outputs": [],
   "source": [
    "data = pd.read_csv(\"../data/digit-recognizer/train.csv\")"
   ]
  },
  {
   "cell_type": "code",
   "execution_count": 30,
   "id": "de203b40",
   "metadata": {},
   "outputs": [
    {
     "data": {
      "text/html": [
       "<div>\n",
       "<style scoped>\n",
       "    .dataframe tbody tr th:only-of-type {\n",
       "        vertical-align: middle;\n",
       "    }\n",
       "\n",
       "    .dataframe tbody tr th {\n",
       "        vertical-align: top;\n",
       "    }\n",
       "\n",
       "    .dataframe thead th {\n",
       "        text-align: right;\n",
       "    }\n",
       "</style>\n",
       "<table border=\"1\" class=\"dataframe\">\n",
       "  <thead>\n",
       "    <tr style=\"text-align: right;\">\n",
       "      <th></th>\n",
       "      <th>label</th>\n",
       "      <th>pixel0</th>\n",
       "      <th>pixel1</th>\n",
       "      <th>pixel2</th>\n",
       "      <th>pixel3</th>\n",
       "      <th>pixel4</th>\n",
       "      <th>pixel5</th>\n",
       "      <th>pixel6</th>\n",
       "      <th>pixel7</th>\n",
       "      <th>pixel8</th>\n",
       "      <th>...</th>\n",
       "      <th>pixel774</th>\n",
       "      <th>pixel775</th>\n",
       "      <th>pixel776</th>\n",
       "      <th>pixel777</th>\n",
       "      <th>pixel778</th>\n",
       "      <th>pixel779</th>\n",
       "      <th>pixel780</th>\n",
       "      <th>pixel781</th>\n",
       "      <th>pixel782</th>\n",
       "      <th>pixel783</th>\n",
       "    </tr>\n",
       "  </thead>\n",
       "  <tbody>\n",
       "    <tr>\n",
       "      <th>0</th>\n",
       "      <td>1</td>\n",
       "      <td>0</td>\n",
       "      <td>0</td>\n",
       "      <td>0</td>\n",
       "      <td>0</td>\n",
       "      <td>0</td>\n",
       "      <td>0</td>\n",
       "      <td>0</td>\n",
       "      <td>0</td>\n",
       "      <td>0</td>\n",
       "      <td>...</td>\n",
       "      <td>0</td>\n",
       "      <td>0</td>\n",
       "      <td>0</td>\n",
       "      <td>0</td>\n",
       "      <td>0</td>\n",
       "      <td>0</td>\n",
       "      <td>0</td>\n",
       "      <td>0</td>\n",
       "      <td>0</td>\n",
       "      <td>0</td>\n",
       "    </tr>\n",
       "    <tr>\n",
       "      <th>1</th>\n",
       "      <td>0</td>\n",
       "      <td>0</td>\n",
       "      <td>0</td>\n",
       "      <td>0</td>\n",
       "      <td>0</td>\n",
       "      <td>0</td>\n",
       "      <td>0</td>\n",
       "      <td>0</td>\n",
       "      <td>0</td>\n",
       "      <td>0</td>\n",
       "      <td>...</td>\n",
       "      <td>0</td>\n",
       "      <td>0</td>\n",
       "      <td>0</td>\n",
       "      <td>0</td>\n",
       "      <td>0</td>\n",
       "      <td>0</td>\n",
       "      <td>0</td>\n",
       "      <td>0</td>\n",
       "      <td>0</td>\n",
       "      <td>0</td>\n",
       "    </tr>\n",
       "    <tr>\n",
       "      <th>2</th>\n",
       "      <td>1</td>\n",
       "      <td>0</td>\n",
       "      <td>0</td>\n",
       "      <td>0</td>\n",
       "      <td>0</td>\n",
       "      <td>0</td>\n",
       "      <td>0</td>\n",
       "      <td>0</td>\n",
       "      <td>0</td>\n",
       "      <td>0</td>\n",
       "      <td>...</td>\n",
       "      <td>0</td>\n",
       "      <td>0</td>\n",
       "      <td>0</td>\n",
       "      <td>0</td>\n",
       "      <td>0</td>\n",
       "      <td>0</td>\n",
       "      <td>0</td>\n",
       "      <td>0</td>\n",
       "      <td>0</td>\n",
       "      <td>0</td>\n",
       "    </tr>\n",
       "    <tr>\n",
       "      <th>3</th>\n",
       "      <td>4</td>\n",
       "      <td>0</td>\n",
       "      <td>0</td>\n",
       "      <td>0</td>\n",
       "      <td>0</td>\n",
       "      <td>0</td>\n",
       "      <td>0</td>\n",
       "      <td>0</td>\n",
       "      <td>0</td>\n",
       "      <td>0</td>\n",
       "      <td>...</td>\n",
       "      <td>0</td>\n",
       "      <td>0</td>\n",
       "      <td>0</td>\n",
       "      <td>0</td>\n",
       "      <td>0</td>\n",
       "      <td>0</td>\n",
       "      <td>0</td>\n",
       "      <td>0</td>\n",
       "      <td>0</td>\n",
       "      <td>0</td>\n",
       "    </tr>\n",
       "    <tr>\n",
       "      <th>4</th>\n",
       "      <td>0</td>\n",
       "      <td>0</td>\n",
       "      <td>0</td>\n",
       "      <td>0</td>\n",
       "      <td>0</td>\n",
       "      <td>0</td>\n",
       "      <td>0</td>\n",
       "      <td>0</td>\n",
       "      <td>0</td>\n",
       "      <td>0</td>\n",
       "      <td>...</td>\n",
       "      <td>0</td>\n",
       "      <td>0</td>\n",
       "      <td>0</td>\n",
       "      <td>0</td>\n",
       "      <td>0</td>\n",
       "      <td>0</td>\n",
       "      <td>0</td>\n",
       "      <td>0</td>\n",
       "      <td>0</td>\n",
       "      <td>0</td>\n",
       "    </tr>\n",
       "  </tbody>\n",
       "</table>\n",
       "<p>5 rows × 785 columns</p>\n",
       "</div>"
      ],
      "text/plain": [
       "   label  pixel0  pixel1  pixel2  pixel3  pixel4  pixel5  pixel6  pixel7  \\\n",
       "0      1       0       0       0       0       0       0       0       0   \n",
       "1      0       0       0       0       0       0       0       0       0   \n",
       "2      1       0       0       0       0       0       0       0       0   \n",
       "3      4       0       0       0       0       0       0       0       0   \n",
       "4      0       0       0       0       0       0       0       0       0   \n",
       "\n",
       "   pixel8  ...  pixel774  pixel775  pixel776  pixel777  pixel778  pixel779  \\\n",
       "0       0  ...         0         0         0         0         0         0   \n",
       "1       0  ...         0         0         0         0         0         0   \n",
       "2       0  ...         0         0         0         0         0         0   \n",
       "3       0  ...         0         0         0         0         0         0   \n",
       "4       0  ...         0         0         0         0         0         0   \n",
       "\n",
       "   pixel780  pixel781  pixel782  pixel783  \n",
       "0         0         0         0         0  \n",
       "1         0         0         0         0  \n",
       "2         0         0         0         0  \n",
       "3         0         0         0         0  \n",
       "4         0         0         0         0  \n",
       "\n",
       "[5 rows x 785 columns]"
      ]
     },
     "execution_count": 30,
     "metadata": {},
     "output_type": "execute_result"
    }
   ],
   "source": [
    "data.head()"
   ]
  },
  {
   "cell_type": "code",
   "execution_count": 31,
   "id": "9d6ff7f4",
   "metadata": {},
   "outputs": [],
   "source": [
    "data_train,data_test = train_test_split(data,test_size=0.2)"
   ]
  },
  {
   "cell_type": "code",
   "execution_count": 32,
   "id": "46cb503b",
   "metadata": {},
   "outputs": [],
   "source": [
    "X_train = data_train.drop(\"label\",axis=1).values\n",
    "Y_train = data_train[[\"label\"]].values\n",
    "\n",
    "X_test = data_test.drop(\"label\",axis=1).values\n",
    "Y_test = data_test[[\"label\"]].values\n",
    "\n",
    "train_dataset = Dataset(X_train,Y_train)    \n",
    "test_dataset = Dataset(X_test,Y_test)\n",
    "\n",
    "train_dataloader = DataLoader(train_dataset,batch_size=64)\n",
    "test_dataloader = DataLoader(test_dataset,batch_size=64)"
   ]
  },
  {
   "cell_type": "code",
   "execution_count": 33,
   "id": "4418038a",
   "metadata": {},
   "outputs": [
    {
     "name": "stdout",
     "output_type": "stream",
     "text": [
      "(64, 784) (64, 1)\n"
     ]
    }
   ],
   "source": [
    "for x,y in train_dataloader:\n",
    "    print(x.shape,y.shape)\n",
    "    break"
   ]
  },
  {
   "cell_type": "code",
   "execution_count": 34,
   "id": "963fa465",
   "metadata": {},
   "outputs": [],
   "source": [
    "class Model(NeuralNetwork):\n",
    "    def __init__(self):\n",
    "        super().__init__()\n",
    "        self.linear1 = Linear(784,128,bias=False)\n",
    "        self.bn1 = BatchNorm1D(128)\n",
    "        self.linear2 = Linear(128,64)\n",
    "        self.linear3 = Linear(64,10)\n",
    "        self.relu = Relu()\n",
    "        \n",
    "    def forward(self,x):\n",
    "        x = self.linear1(x)\n",
    "        x = self.bn1(x)\n",
    "        x = self.relu(x)\n",
    "        x = self.linear2(x)\n",
    "        x = self.relu(x)\n",
    "        x = self.linear3(x)\n",
    "        return x\n",
    "    \n",
    "\n",
    "model = Model()\n",
    "model.to(device)\n",
    "loss_fn = CrossEntropyLoss()\n",
    "\n",
    "optimizer = RMSprop(model.parameters(), lr=1e-3)\n"
   ]
  },
  {
   "cell_type": "code",
   "execution_count": 35,
   "id": "f58f3741",
   "metadata": {},
   "outputs": [
    {
     "name": "stdout",
     "output_type": "stream",
     "text": [
      "(64, 784) (64, 1)\n"
     ]
    }
   ],
   "source": [
    "for X,Y in train_dataloader:\n",
    "    X_tensor = tensor(X, device=device)\n",
    "    Y_tensor = tensor(Y, device=device)\n",
    "    print(X_tensor.shape,Y_tensor.shape)\n",
    "    break"
   ]
  },
  {
   "cell_type": "code",
   "execution_count": 36,
   "id": "2b822a5f",
   "metadata": {},
   "outputs": [
    {
     "name": "stdout",
     "output_type": "stream",
     "text": [
      "[gpu] [  0/100] | Loss: 0.2872 | Acc Train: 87.63% | Acc Test: 92.14%\n",
      "[gpu] [  5/100] | Loss: 0.1320 | Acc Train: 97.67% | Acc Test: 96.07%\n",
      "Tiempo:8.699434 segundos = 0.14 min \n"
     ]
    }
   ],
   "source": [
    "start = datetime.now()\n",
    "\n",
    "epochs = 100\n",
    "\n",
    "for epoch in range(epochs+1):\n",
    "    model.train()\n",
    "    total_train_loss = 0.0\n",
    "    correct_train = 0\n",
    "    total_train = 0\n",
    "\n",
    "    for x, y in train_dataloader:\n",
    "        x = tensor(x, device=device)\n",
    "        y = tensor(y, device=device)\n",
    "\n",
    "        # Forward\n",
    "        logits = model(x)\n",
    "        loss = loss_fn(logits, y)\n",
    "\n",
    "        # Backprop\n",
    "        optimizer.zero_grad()\n",
    "        loss.backward()\n",
    "        optimizer.step()\n",
    "\n",
    "        # Acumular loss y accuracy\n",
    "        total_train_loss += loss.data.get() * len(y)  # ponderar por tamaño del batch\n",
    "        preds = allison.argmax(logits,axis=1,keepdims=True)\n",
    "        correct_train += (preds.data == y.data).sum().get()\n",
    "        total_train += len(y)\n",
    "\n",
    "    avg_train_loss = total_train_loss / total_train\n",
    "    avg_train_acc = correct_train / total_train\n",
    "\n",
    "    # --- Validación/Test ---\n",
    "    if epoch % 5 == 0:\n",
    "        with allison.no_grad():\n",
    "            model.eval()\n",
    "            total_test_loss = 0.0\n",
    "            correct_test = 0\n",
    "            total_test = 0\n",
    "\n",
    "            for x, y in test_dataloader:\n",
    "                x = tensor(x, device=device)\n",
    "                y = tensor(y, device=device)\n",
    "\n",
    "                logits = model(x)\n",
    "                loss = loss_fn(logits,y)\n",
    "\n",
    "                total_test_loss += loss.data.get() * len(y)\n",
    "                preds = allison.argmax(logits,axis=1,keepdims=True)\n",
    "                correct_test += (preds.data == y.data).sum().get()\n",
    "                total_test += len(y)\n",
    "\n",
    "            avg_test_loss = total_test_loss / total_test\n",
    "            avg_test_acc = correct_test / total_test\n",
    "            \n",
    "            print(f\"[{device}] [{epoch:3d}/{epochs:3d}] | Loss: {avg_test_loss:.4f} | Acc Train: {100*avg_train_acc:.2f}% | Acc Test: {100*avg_test_acc:.2f}%\")\n",
    "\n",
    "        if avg_test_acc > 0.95:\n",
    "            break\n",
    "end = datetime.now()\n",
    "\n",
    "delta = end-start\n",
    "tiempo = delta.total_seconds()\n",
    "print(f\"Tiempo:{tiempo} segundos = {tiempo/60:.2f} min \")"
   ]
  },
  {
   "cell_type": "code",
   "execution_count": 37,
   "id": "e1160f23",
   "metadata": {},
   "outputs": [],
   "source": [
    "all_preds = np.array([])\n",
    "all_targets = np.array([])\n",
    "\n",
    "with allison.no_grad():\n",
    "    model.eval()\n",
    "    for x, y in test_dataloader:\n",
    "        x = tensor(x, device=device)\n",
    "        y = tensor(y, device=device)\n",
    "        # Predicciones\n",
    "        logits = model(x)\n",
    "        preds = allison.argmax(logits,axis=1,keepdims=True).cpu()\n",
    "        # Guardar predicciones y targets\n",
    "        all_preds = np.append(all_preds,preds)\n",
    "        all_targets = np.append(all_targets,y.cpu())\n"
   ]
  },
  {
   "cell_type": "code",
   "execution_count": 38,
   "id": "26f521e3",
   "metadata": {},
   "outputs": [
    {
     "name": "stdout",
     "output_type": "stream",
     "text": [
      "            precision   recall f1-score  support\n",
      "0.0              0.98     0.98     0.98      798\n",
      "1.0              0.96     0.99     0.97      920\n",
      "2.0              0.98     0.97     0.97      797\n",
      "3.0              0.95     0.97     0.96      858\n",
      "4.0              0.93     0.98     0.95      813\n",
      "5.0              0.95     0.98     0.96      772\n",
      "6.0              0.97     0.98     0.98      849\n",
      "7.0              0.94     0.98     0.96      929\n",
      "8.0              0.97     0.91     0.94      810\n",
      "9.0              0.98     0.87     0.92      854\n",
      "\n",
      "accuracy                           0.96     8400\n",
      "macro avg        0.96     0.96     0.96     8400\n",
      "weighted avg     0.96     0.96     0.96     8400\n"
     ]
    }
   ],
   "source": [
    "print(classification_report(all_targets,all_preds))"
   ]
  },
  {
   "cell_type": "code",
   "execution_count": 39,
   "id": "a2bc8e4f",
   "metadata": {},
   "outputs": [
    {
     "data": {
      "text/plain": [
       "<Axes: >"
      ]
     },
     "execution_count": 39,
     "metadata": {},
     "output_type": "execute_result"
    },
    {
     "data": {
      "image/png": "[encoded data removed]",
      "text/plain": [
       "<Figure size 640x480 with 2 Axes>"
      ]
     },
     "metadata": {},
     "output_type": "display_data"
    }
   ],
   "source": [
    "sns.heatmap(confusion_matrix(all_targets,all_preds), annot=True, cmap=\"Blues\", fmt=\".0f\")"
   ]
  }
 ],
 "metadata": {
  "kernelspec": {
   "display_name": "allison",
   "language": "python",
   "name": "python3"
  },
  "language_info": {
   "codemirror_mode": {
    "name": "ipython",
    "version": 3
   },
   "file_extension": ".py",
   "mimetype": "text/x-python",
   "name": "python",
   "nbconvert_exporter": "python",
   "pygments_lexer": "ipython3",
   "version": "3.12.3"
  }
 },
 "nbformat": 4,
 "nbformat_minor": 5
}
