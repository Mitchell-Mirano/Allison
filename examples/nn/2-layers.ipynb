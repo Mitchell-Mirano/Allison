{
 "cells": [
  {
   "cell_type": "markdown",
   "id": "3eaf732d",
   "metadata": {},
   "source": [
    "[![Open In Colab](https://colab.research.google.com/assets/colab-badge.svg)](https://colab.research.google.com/github/Mitchell-Mirano/Allison/blob/develop/examples/nn/2-layers.ipynb)"
   ]
  },
  {
   "cell_type": "code",
   "execution_count": 1,
   "id": "c8ad1824",
   "metadata": {},
   "outputs": [],
   "source": [
    "%reload_ext autoreload\n",
    "%autoreload 2"
   ]
  },
  {
   "cell_type": "code",
   "execution_count": 2,
   "id": "2cb07aca",
   "metadata": {},
   "outputs": [],
   "source": [
    "import numpy as np\n",
    "from allison import tensor\n",
    "from allison.nn import Relu,Linear,BatchNorm1D\n",
    "import allison"
   ]
  },
  {
   "cell_type": "code",
   "execution_count": 3,
   "id": "de565dcd",
   "metadata": {},
   "outputs": [
    {
     "name": "stdout",
     "output_type": "stream",
     "text": [
      "Current GPU: NVIDIA GeForce RTX 4070 Laptop GPU\n",
      "CUDA runtime version: 13000\n",
      "CuPy version: 13.6.0\n"
     ]
    },
    {
     "data": {
      "text/plain": [
       "'gpu'"
      ]
     },
     "execution_count": 3,
     "metadata": {},
     "output_type": "execute_result"
    }
   ],
   "source": [
    "device = 'gpu' if allison.cuda.is_available() else 'cpu'\n",
    "device"
   ]
  },
  {
   "cell_type": "code",
   "execution_count": 4,
   "id": "ee9006cd",
   "metadata": {},
   "outputs": [],
   "source": [
    "examples = 10\n",
    "features = 2\n",
    "classes = 3"
   ]
  },
  {
   "cell_type": "code",
   "execution_count": 5,
   "id": "30588a81",
   "metadata": {},
   "outputs": [
    {
     "data": {
      "text/plain": [
       "Tensor(\n",
       "[[-0.77274184  1.36287315]\n",
       " [ 1.03224782 -0.13219102]\n",
       " [-0.13171882 -1.27690064]\n",
       " [-0.06225031  1.13193594]\n",
       " [ 0.13501055  0.04810326]\n",
       " [ 1.4655658   0.27341984]\n",
       " [ 0.26067773  0.46784002]\n",
       " [-0.26799828  2.04036824]\n",
       " [-1.45939264 -0.89063082]\n",
       " [-0.36353511  1.82265748]], shape=(10, 2), device=cpu, requires_grad=False)"
      ]
     },
     "execution_count": 5,
     "metadata": {},
     "output_type": "execute_result"
    }
   ],
   "source": [
    "# create random data\n",
    "X = tensor(np.random.randn(examples, features))\n",
    "X"
   ]
  },
  {
   "cell_type": "code",
   "execution_count": 6,
   "id": "e7c06bc6",
   "metadata": {},
   "outputs": [],
   "source": [
    "relu = Relu()\n",
    "l1 = Linear(2, 3)\n",
    "bn = BatchNorm1D(3)"
   ]
  },
  {
   "cell_type": "code",
   "execution_count": 7,
   "id": "efbde485",
   "metadata": {},
   "outputs": [
    {
     "data": {
      "text/plain": [
       "Tensor(\n",
       "[[ 1.06566407  1.04475722 -1.93097876]\n",
       " [ 0.28928711 -0.18281936  0.37483164]\n",
       " [-1.34942527 -0.90601473  1.64153171]\n",
       " [ 1.12280093  0.81839372 -1.49024066]\n",
       " [ 0.10417688  0.02306173 -0.03636267]\n",
       " [ 0.87850629  0.07165659 -0.06991354]\n",
       " [ 0.58153864  0.31387146 -0.55982283]\n",
       " [ 1.96000253  1.48845407 -2.71674913]\n",
       " [-1.50212657 -0.51553857  0.87705717]\n",
       " [ 1.69995189  1.3401995  -2.45118539]], shape=(10, 3), device=cpu, requires_grad=True)"
      ]
     },
     "execution_count": 7,
     "metadata": {},
     "output_type": "execute_result"
    }
   ],
   "source": [
    "l1(X)"
   ]
  },
  {
   "cell_type": "code",
   "execution_count": 8,
   "id": "77447478",
   "metadata": {},
   "outputs": [
    {
     "data": {
      "text/plain": [
       "Tensor(\n",
       "[[0.         1.36287315]\n",
       " [1.03224782 0.        ]\n",
       " [0.         0.        ]\n",
       " [0.         1.13193594]\n",
       " [0.13501055 0.04810326]\n",
       " [1.4655658  0.27341984]\n",
       " [0.26067773 0.46784002]\n",
       " [0.         2.04036824]\n",
       " [0.         0.        ]\n",
       " [0.         1.82265748]], shape=(10, 2), device=cpu, requires_grad=False)"
      ]
     },
     "execution_count": 8,
     "metadata": {},
     "output_type": "execute_result"
    }
   ],
   "source": [
    "relu(X)"
   ]
  },
  {
   "cell_type": "code",
   "execution_count": 9,
   "id": "3a9b6c67",
   "metadata": {},
   "outputs": [
    {
     "data": {
      "text/plain": [
       "Tensor(\n",
       "[[1.06566407 1.04475722 0.        ]\n",
       " [0.28928711 0.         0.37483164]\n",
       " [0.         0.         1.64153171]\n",
       " [1.12280093 0.81839372 0.        ]\n",
       " [0.10417688 0.02306173 0.        ]\n",
       " [0.87850629 0.07165659 0.        ]\n",
       " [0.58153864 0.31387146 0.        ]\n",
       " [1.96000253 1.48845407 0.        ]\n",
       " [0.         0.         0.87705717]\n",
       " [1.69995189 1.3401995  0.        ]], shape=(10, 3), device=cpu, requires_grad=True)"
      ]
     },
     "execution_count": 9,
     "metadata": {},
     "output_type": "execute_result"
    }
   ],
   "source": [
    "relu(l1(X))"
   ]
  },
  {
   "cell_type": "code",
   "execution_count": 10,
   "id": "0f54f53d",
   "metadata": {},
   "outputs": [
    {
     "data": {
      "text/plain": [
       "Tensor(\n",
       "[[ 0.52878072  0.91475318 -0.93406592]\n",
       " [-0.17827145 -0.70061245  0.72934648]\n",
       " [-1.67065877 -1.65226382  1.64314433]\n",
       " [ 0.58081568  0.61688189 -0.61611731]\n",
       " [-0.34685269 -0.42969391  0.43271076]\n",
       " [ 0.35833476 -0.36574804  0.40850715]\n",
       " [ 0.08788415 -0.04701796  0.05508643]\n",
       " [ 1.34326129  1.49861301 -1.50092092]\n",
       " [-1.80972497 -1.13843701  1.09165214]\n",
       " [ 1.10643127  1.30352511 -1.30934315]], shape=(10, 3), device=cpu, requires_grad=True)"
      ]
     },
     "execution_count": 10,
     "metadata": {},
     "output_type": "execute_result"
    }
   ],
   "source": [
    "out = bn(l1(X))\n",
    "out"
   ]
  },
  {
   "cell_type": "code",
   "execution_count": 11,
   "id": "de178937",
   "metadata": {},
   "outputs": [
    {
     "data": {
      "text/plain": [
       "Tensor(\n",
       "[[0.52878072 0.91475318 0.        ]\n",
       " [0.         0.         0.72934648]\n",
       " [0.         0.         1.64314433]\n",
       " [0.58081568 0.61688189 0.        ]\n",
       " [0.         0.         0.43271076]\n",
       " [0.35833476 0.         0.40850715]\n",
       " [0.08788415 0.         0.05508643]\n",
       " [1.34326129 1.49861301 0.        ]\n",
       " [0.         0.         1.09165214]\n",
       " [1.10643127 1.30352511 0.        ]], shape=(10, 3), device=cpu, requires_grad=True)"
      ]
     },
     "execution_count": 11,
     "metadata": {},
     "output_type": "execute_result"
    }
   ],
   "source": [
    "out = relu(bn(l1(X)))\n",
    "out"
   ]
  },
  {
   "cell_type": "code",
   "execution_count": 12,
   "id": "7d89f4a3",
   "metadata": {},
   "outputs": [
    {
     "data": {
      "text/plain": [
       "{Tensor(\n",
       " [[ 0.52878072  0.91475318 -0.93406592]\n",
       "  [-0.17827145 -0.70061245  0.72934648]\n",
       "  [-1.67065877 -1.65226382  1.64314433]\n",
       "  [ 0.58081568  0.61688189 -0.61611731]\n",
       "  [-0.34685269 -0.42969391  0.43271076]\n",
       "  [ 0.35833476 -0.36574804  0.40850715]\n",
       "  [ 0.08788415 -0.04701796  0.05508643]\n",
       "  [ 1.34326129  1.49861301 -1.50092092]\n",
       "  [-1.80972497 -1.13843701  1.09165214]\n",
       "  [ 1.10643127  1.30352511 -1.30934315]], shape=(10, 3), device=cpu, requires_grad=True)}"
      ]
     },
     "execution_count": 12,
     "metadata": {},
     "output_type": "execute_result"
    }
   ],
   "source": [
    "out._prev"
   ]
  },
  {
   "cell_type": "code",
   "execution_count": 13,
   "id": "a14b0bc6",
   "metadata": {},
   "outputs": [
    {
     "name": "stdout",
     "output_type": "stream",
     "text": [
      "Tensor(\n",
      "[[1. 1. 1.]], shape=(1, 3), device=cpu, requires_grad=True)\n",
      "<class 'numpy.ndarray'>\n"
     ]
    }
   ],
   "source": [
    "bn = BatchNorm1D(3)\n",
    "print(bn.gamma)\n",
    "print(type(bn.running_mean))"
   ]
  },
  {
   "cell_type": "code",
   "execution_count": 14,
   "id": "cd6bd2f4",
   "metadata": {},
   "outputs": [
    {
     "data": {
      "text/plain": [
       "<allison.nn.layers.BatchNorm1D at 0x7f282de06e70>"
      ]
     },
     "execution_count": 14,
     "metadata": {},
     "output_type": "execute_result"
    }
   ],
   "source": [
    "bn.to('gpu')"
   ]
  },
  {
   "cell_type": "code",
   "execution_count": 15,
   "id": "f47ade51",
   "metadata": {},
   "outputs": [
    {
     "name": "stdout",
     "output_type": "stream",
     "text": [
      "Tensor(\n",
      "[[1. 1. 1.]], shape=(1, 3), device=gpu, requires_grad=True)\n",
      "<class 'cupy.ndarray'>\n"
     ]
    }
   ],
   "source": [
    "print(bn.gamma)\n",
    "print(type(bn.running_mean))"
   ]
  },
  {
   "cell_type": "code",
   "execution_count": 16,
   "id": "24e2f9b9",
   "metadata": {},
   "outputs": [
    {
     "data": {
      "text/plain": [
       "<allison.nn.layers.BatchNorm1D at 0x7f282de06e70>"
      ]
     },
     "execution_count": 16,
     "metadata": {},
     "output_type": "execute_result"
    }
   ],
   "source": [
    "bn.to('cpu')"
   ]
  },
  {
   "cell_type": "code",
   "execution_count": 17,
   "id": "fd4c4c43",
   "metadata": {},
   "outputs": [
    {
     "name": "stdout",
     "output_type": "stream",
     "text": [
      "Tensor(\n",
      "[[1. 1. 1.]], shape=(1, 3), device=cpu, requires_grad=True)\n",
      "<class 'numpy.ndarray'>\n"
     ]
    }
   ],
   "source": [
    "print(bn.gamma)\n",
    "print(type(bn.running_mean))"
   ]
  }
 ],
 "metadata": {
  "kernelspec": {
   "display_name": "allison",
   "language": "python",
   "name": "python3"
  },
  "language_info": {
   "codemirror_mode": {
    "name": "ipython",
    "version": 3
   },
   "file_extension": ".py",
   "mimetype": "text/x-python",
   "name": "python",
   "nbconvert_exporter": "python",
   "pygments_lexer": "ipython3",
   "version": "3.12.3"
  }
 },
 "nbformat": 4,
 "nbformat_minor": 5
}
