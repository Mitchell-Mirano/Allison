{
 "cells": [
  {
   "cell_type": "code",
   "execution_count": 1,
   "id": "2cb07aca",
   "metadata": {},
   "outputs": [],
   "source": [
    "import numpy as np\n",
    "from allison.nn import Relu,Linear,Tensor,BatchNorm1D\n",
    "import allison"
   ]
  },
  {
   "cell_type": "code",
   "execution_count": 2,
   "id": "de565dcd",
   "metadata": {},
   "outputs": [],
   "source": [
    "device = 'gpu' if allison._cupy_available else 'cpu'\n",
    "device\n",
    "\n",
    "if device == 'gpu':\n",
    "    import cupy as cp"
   ]
  },
  {
   "cell_type": "code",
   "execution_count": 3,
   "id": "ee9006cd",
   "metadata": {},
   "outputs": [],
   "source": [
    "examples = 10\n",
    "features = 2\n",
    "classes = 3"
   ]
  },
  {
   "cell_type": "code",
   "execution_count": 4,
   "id": "30588a81",
   "metadata": {},
   "outputs": [
    {
     "data": {
      "text/plain": [
       "Tensor(\n",
       "[[-0.63246886 -0.54662805]\n",
       " [-0.65714098  0.60177598]\n",
       " [-0.28595202 -0.40293277]\n",
       " [ 0.11305754  1.69714174]\n",
       " [ 0.71669903 -1.1763047 ]\n",
       " [-0.92089957 -0.31849492]\n",
       " [ 2.06169709  0.25334191]\n",
       " [-1.04126158  1.41587593]\n",
       " [-1.11019192 -0.7866726 ]\n",
       " [ 0.30623375  0.01536325]], shape=(10, 2), device=cpu, requires_grad=False)"
      ]
     },
     "execution_count": 4,
     "metadata": {},
     "output_type": "execute_result"
    }
   ],
   "source": [
    "# create random data\n",
    "X = Tensor(np.random.randn(examples, features))\n",
    "X"
   ]
  },
  {
   "cell_type": "code",
   "execution_count": 5,
   "id": "e7c06bc6",
   "metadata": {},
   "outputs": [],
   "source": [
    "relu = Relu()\n",
    "l1 = Linear(2, 3)\n",
    "bn = BatchNorm1D(3)"
   ]
  },
  {
   "cell_type": "code",
   "execution_count": 6,
   "id": "efbde485",
   "metadata": {},
   "outputs": [
    {
     "data": {
      "text/plain": [
       "Tensor(\n",
       "[[-0.66562841  0.82421188  0.35924566]\n",
       " [ 0.67452878 -1.40096268 -1.85649654]\n",
       " [-0.48289231  0.6732868   0.45939415]\n",
       " [ 1.98695513 -3.23389144 -3.11307766]\n",
       " [-1.34295642  2.53140253  3.0159663 ]\n",
       " [-0.41160663  0.2787712  -0.38698527]\n",
       " [ 0.38461624  0.26301471  1.74266592]\n",
       " [ 1.60878158 -3.1120938  -3.8230049 ]\n",
       " [-0.96653798  1.11321911  0.30112353]\n",
       " [ 0.03112349  0.08203711  0.30129197]], shape=(10, 3), device=cpu, requires_grad=True)"
      ]
     },
     "execution_count": 6,
     "metadata": {},
     "output_type": "execute_result"
    }
   ],
   "source": [
    "l1(X)"
   ]
  },
  {
   "cell_type": "code",
   "execution_count": 7,
   "id": "77447478",
   "metadata": {},
   "outputs": [
    {
     "data": {
      "text/plain": [
       "Tensor(\n",
       "[[0.         0.        ]\n",
       " [0.         0.60177598]\n",
       " [0.         0.        ]\n",
       " [0.11305754 1.69714174]\n",
       " [0.71669903 0.        ]\n",
       " [0.         0.        ]\n",
       " [2.06169709 0.25334191]\n",
       " [0.         1.41587593]\n",
       " [0.         0.        ]\n",
       " [0.30623375 0.01536325]], shape=(10, 2), device=cpu, requires_grad=False)"
      ]
     },
     "execution_count": 7,
     "metadata": {},
     "output_type": "execute_result"
    }
   ],
   "source": [
    "relu(X)"
   ]
  },
  {
   "cell_type": "code",
   "execution_count": 8,
   "id": "3a9b6c67",
   "metadata": {},
   "outputs": [
    {
     "data": {
      "text/plain": [
       "Tensor(\n",
       "[[0.         0.82421188 0.35924566]\n",
       " [0.67452878 0.         0.        ]\n",
       " [0.         0.6732868  0.45939415]\n",
       " [1.98695513 0.         0.        ]\n",
       " [0.         2.53140253 3.0159663 ]\n",
       " [0.         0.2787712  0.        ]\n",
       " [0.38461624 0.26301471 1.74266592]\n",
       " [1.60878158 0.         0.        ]\n",
       " [0.         1.11321911 0.30112353]\n",
       " [0.03112349 0.08203711 0.30129197]], shape=(10, 3), device=cpu, requires_grad=True)"
      ]
     },
     "execution_count": 8,
     "metadata": {},
     "output_type": "execute_result"
    }
   ],
   "source": [
    "relu(l1(X))"
   ]
  },
  {
   "cell_type": "code",
   "execution_count": 9,
   "id": "0f54f53d",
   "metadata": {},
   "outputs": [
    {
     "data": {
      "text/plain": [
       "Tensor(\n",
       "[[-0.72386934  0.58396823  0.33103647]\n",
       " [ 0.57432664 -0.68710246 -0.7816067 ]\n",
       " [-0.54685483  0.49775637  0.38132641]\n",
       " [ 1.84566004 -1.73411336 -1.41260357]\n",
       " [-1.37998975  1.55915464  1.6651186 ]\n",
       " [-0.47780115  0.27240001 -0.04368616]\n",
       " [ 0.29349145  0.26339955  1.02572609]\n",
       " [ 1.47932736 -1.66453975 -1.76909617]\n",
       " [-1.01535723  0.74905578  0.30185023]\n",
       " [-0.0489332   0.160021    0.30193481]], shape=(10, 3), device=cpu, requires_grad=True)"
      ]
     },
     "execution_count": 9,
     "metadata": {},
     "output_type": "execute_result"
    }
   ],
   "source": [
    "out = bn(l1(X))\n",
    "out"
   ]
  },
  {
   "cell_type": "code",
   "execution_count": 10,
   "id": "de178937",
   "metadata": {},
   "outputs": [
    {
     "data": {
      "text/plain": [
       "Tensor(\n",
       "[[0.         0.58396823 0.33103647]\n",
       " [0.57432664 0.         0.        ]\n",
       " [0.         0.49775637 0.38132641]\n",
       " [1.84566004 0.         0.        ]\n",
       " [0.         1.55915464 1.6651186 ]\n",
       " [0.         0.27240001 0.        ]\n",
       " [0.29349145 0.26339955 1.02572609]\n",
       " [1.47932736 0.         0.        ]\n",
       " [0.         0.74905578 0.30185023]\n",
       " [0.         0.160021   0.30193481]], shape=(10, 3), device=cpu, requires_grad=True)"
      ]
     },
     "execution_count": 10,
     "metadata": {},
     "output_type": "execute_result"
    }
   ],
   "source": [
    "out = relu(bn(l1(X)))\n",
    "out"
   ]
  },
  {
   "cell_type": "code",
   "execution_count": 11,
   "id": "7d89f4a3",
   "metadata": {},
   "outputs": [
    {
     "data": {
      "text/plain": [
       "{Tensor(\n",
       " [[-0.72386934  0.58396823  0.33103647]\n",
       "  [ 0.57432664 -0.68710246 -0.7816067 ]\n",
       "  [-0.54685483  0.49775637  0.38132641]\n",
       "  [ 1.84566004 -1.73411336 -1.41260357]\n",
       "  [-1.37998975  1.55915464  1.6651186 ]\n",
       "  [-0.47780115  0.27240001 -0.04368616]\n",
       "  [ 0.29349145  0.26339955  1.02572609]\n",
       "  [ 1.47932736 -1.66453975 -1.76909617]\n",
       "  [-1.01535723  0.74905578  0.30185023]\n",
       "  [-0.0489332   0.160021    0.30193481]], shape=(10, 3), device=cpu, requires_grad=True)}"
      ]
     },
     "execution_count": 11,
     "metadata": {},
     "output_type": "execute_result"
    }
   ],
   "source": [
    "out._prev"
   ]
  },
  {
   "cell_type": "code",
   "execution_count": 12,
   "id": "a14b0bc6",
   "metadata": {},
   "outputs": [
    {
     "name": "stdout",
     "output_type": "stream",
     "text": [
      "Tensor(\n",
      "[[1. 1. 1.]], shape=(1, 3), device=cpu, requires_grad=True)\n",
      "<class 'numpy.ndarray'>\n"
     ]
    }
   ],
   "source": [
    "bn = BatchNorm1D(3)\n",
    "print(bn.gamma)\n",
    "print(type(bn.running_mean))"
   ]
  },
  {
   "cell_type": "code",
   "execution_count": 13,
   "id": "cd6bd2f4",
   "metadata": {},
   "outputs": [
    {
     "data": {
      "text/plain": [
       "<allison.nn.layers.BatchNorm1D at 0x7b01f99f9a60>"
      ]
     },
     "execution_count": 13,
     "metadata": {},
     "output_type": "execute_result"
    }
   ],
   "source": [
    "bn.to('gpu')"
   ]
  },
  {
   "cell_type": "code",
   "execution_count": 14,
   "id": "f47ade51",
   "metadata": {},
   "outputs": [
    {
     "name": "stdout",
     "output_type": "stream",
     "text": [
      "Tensor(\n",
      "[[1. 1. 1.]], shape=(1, 3), device=gpu, requires_grad=True)\n",
      "<class 'cupy.ndarray'>\n"
     ]
    }
   ],
   "source": [
    "print(bn.gamma)\n",
    "print(type(bn.running_mean))"
   ]
  },
  {
   "cell_type": "code",
   "execution_count": 15,
   "id": "24e2f9b9",
   "metadata": {},
   "outputs": [
    {
     "data": {
      "text/plain": [
       "<allison.nn.layers.BatchNorm1D at 0x7b01f99f9a60>"
      ]
     },
     "execution_count": 15,
     "metadata": {},
     "output_type": "execute_result"
    }
   ],
   "source": [
    "bn.to('cpu')"
   ]
  },
  {
   "cell_type": "code",
   "execution_count": 16,
   "id": "fd4c4c43",
   "metadata": {},
   "outputs": [
    {
     "name": "stdout",
     "output_type": "stream",
     "text": [
      "Tensor(\n",
      "[[1. 1. 1.]], shape=(1, 3), device=cpu, requires_grad=True)\n",
      "<class 'numpy.ndarray'>\n"
     ]
    }
   ],
   "source": [
    "print(bn.gamma)\n",
    "print(type(bn.running_mean))"
   ]
  }
 ],
 "metadata": {
  "kernelspec": {
   "display_name": "allison",
   "language": "python",
   "name": "python3"
  },
  "language_info": {
   "codemirror_mode": {
    "name": "ipython",
    "version": 3
   },
   "file_extension": ".py",
   "mimetype": "text/x-python",
   "name": "python",
   "nbconvert_exporter": "python",
   "pygments_lexer": "ipython3",
   "version": "3.12.3"
  }
 },
 "nbformat": 4,
 "nbformat_minor": 5
}
