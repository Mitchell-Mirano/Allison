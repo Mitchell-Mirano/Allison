{
 "cells": [
  {
   "cell_type": "markdown",
   "id": "3eaf732d",
   "metadata": {},
   "source": [
    "[![Open In Colab](https://colab.research.google.com/assets/colab-badge.svg)](https://colab.research.google.com/github/Mitchell-Mirano/Allison/blob/develop/examples/nn/2-layers.ipynb)"
   ]
  },
  {
   "cell_type": "code",
   "execution_count": 1,
   "id": "c8ad1824",
   "metadata": {},
   "outputs": [],
   "source": [
    "%reload_ext autoreload\n",
    "%autoreload 2"
   ]
  },
  {
   "cell_type": "code",
   "execution_count": 2,
   "id": "2cb07aca",
   "metadata": {},
   "outputs": [],
   "source": [
    "import numpy as np\n",
    "from allison import tensor\n",
    "from allison.nn import Relu,Linear,BatchNorm1D\n",
    "import allison"
   ]
  },
  {
   "cell_type": "code",
   "execution_count": 3,
   "id": "de565dcd",
   "metadata": {},
   "outputs": [
    {
     "name": "stdout",
     "output_type": "stream",
     "text": [
      "Current GPU: NVIDIA GeForce RTX 4070 Laptop GPU\n",
      "CUDA runtime version: 13000\n",
      "CuPy version: 13.6.0\n"
     ]
    },
    {
     "data": {
      "text/plain": [
       "'gpu'"
      ]
     },
     "execution_count": 3,
     "metadata": {},
     "output_type": "execute_result"
    }
   ],
   "source": [
    "device = 'gpu' if allison.cuda.is_available() else 'cpu'\n",
    "device"
   ]
  },
  {
   "cell_type": "code",
   "execution_count": 4,
   "id": "ee9006cd",
   "metadata": {},
   "outputs": [],
   "source": [
    "examples = 10\n",
    "features = 2\n",
    "classes = 3"
   ]
  },
  {
   "cell_type": "code",
   "execution_count": 5,
   "id": "30588a81",
   "metadata": {},
   "outputs": [
    {
     "data": {
      "text/plain": [
       "Tensor(\n",
       "[[-2.44217107 -0.67975745]\n",
       " [-0.22369563 -0.12025912]\n",
       " [-1.06689784  1.53248021]\n",
       " [ 0.61026138 -1.9042544 ]\n",
       " [ 0.5065648   0.41821679]\n",
       " [-0.07362594 -2.27419377]\n",
       " [ 0.1207916  -0.28540795]\n",
       " [-1.00211107 -0.79074324]\n",
       " [-1.18210791  0.87701617]\n",
       " [ 0.01163097  0.13995182]], shape=(10, 2), device=cpu, requires_grad=False)"
      ]
     },
     "execution_count": 5,
     "metadata": {},
     "output_type": "execute_result"
    }
   ],
   "source": [
    "# create random data\n",
    "X = tensor(np.random.randn(examples, features))\n",
    "X"
   ]
  },
  {
   "cell_type": "code",
   "execution_count": 6,
   "id": "e7c06bc6",
   "metadata": {},
   "outputs": [],
   "source": [
    "relu = Relu()\n",
    "l1 = Linear(2, 3)\n",
    "bn = BatchNorm1D(3)"
   ]
  },
  {
   "cell_type": "code",
   "execution_count": 7,
   "id": "efbde485",
   "metadata": {},
   "outputs": [
    {
     "data": {
      "text/plain": [
       "Tensor(\n",
       "[[-1.97716244  1.66628324  2.12121745]\n",
       " [-0.2817318   0.16638221  0.2782659 ]\n",
       " [ 2.31057144  0.2940245  -1.72207656]\n",
       " [-3.10480124  0.07556942  2.47295194]\n",
       " [ 0.89112209 -0.41137911 -0.8413631 ]\n",
       " [-3.97007501  0.58477776  3.32697454]\n",
       " [-0.45576595 -0.00674678  0.35699012]\n",
       " [-1.69936639  0.80513069  1.61144332]\n",
       " [ 1.13562341  0.52049185 -0.71942206]\n",
       " [ 0.24663393 -0.04036232 -0.20804466]], shape=(10, 3), device=cpu, requires_grad=True)"
      ]
     },
     "execution_count": 7,
     "metadata": {},
     "output_type": "execute_result"
    }
   ],
   "source": [
    "l1(X)"
   ]
  },
  {
   "cell_type": "code",
   "execution_count": 8,
   "id": "77447478",
   "metadata": {},
   "outputs": [
    {
     "data": {
      "text/plain": [
       "Tensor(\n",
       "[[0.         0.        ]\n",
       " [0.         0.        ]\n",
       " [0.         1.53248021]\n",
       " [0.61026138 0.        ]\n",
       " [0.5065648  0.41821679]\n",
       " [0.         0.        ]\n",
       " [0.1207916  0.        ]\n",
       " [0.         0.        ]\n",
       " [0.         0.87701617]\n",
       " [0.01163097 0.13995182]], shape=(10, 2), device=cpu, requires_grad=False)"
      ]
     },
     "execution_count": 8,
     "metadata": {},
     "output_type": "execute_result"
    }
   ],
   "source": [
    "relu(X)"
   ]
  },
  {
   "cell_type": "code",
   "execution_count": 9,
   "id": "3a9b6c67",
   "metadata": {},
   "outputs": [
    {
     "data": {
      "text/plain": [
       "Tensor(\n",
       "[[0.         1.66628324 2.12121745]\n",
       " [0.         0.16638221 0.2782659 ]\n",
       " [2.31057144 0.2940245  0.        ]\n",
       " [0.         0.07556942 2.47295194]\n",
       " [0.89112209 0.         0.        ]\n",
       " [0.         0.58477776 3.32697454]\n",
       " [0.         0.         0.35699012]\n",
       " [0.         0.80513069 1.61144332]\n",
       " [1.13562341 0.52049185 0.        ]\n",
       " [0.24663393 0.         0.        ]], shape=(10, 3), device=cpu, requires_grad=True)"
      ]
     },
     "execution_count": 9,
     "metadata": {},
     "output_type": "execute_result"
    }
   ],
   "source": [
    "relu(l1(X))"
   ]
  },
  {
   "cell_type": "code",
   "execution_count": 10,
   "id": "0f54f53d",
   "metadata": {},
   "outputs": [
    {
     "data": {
      "text/plain": [
       "Tensor(\n",
       "[[-0.68578649  2.37775519  0.93317201]\n",
       " [ 0.21786862 -0.36380098 -0.25001526]\n",
       " [ 1.59955183 -0.13049325 -1.53424854]\n",
       " [-1.2868117  -0.52979083  1.15898792]\n",
       " [ 0.84299322 -1.41984739 -0.96882459]\n",
       " [-1.74799781  0.40095275  1.70727616]\n",
       " [ 0.12510938 -0.68025043 -0.19947378]\n",
       " [-0.53772274  0.80371928  0.6058936 ]\n",
       " [ 0.97331107  0.28344938 -0.89053763]\n",
       " [ 0.49948462 -0.74169374 -0.5622299 ]], shape=(10, 3), device=cpu, requires_grad=True)"
      ]
     },
     "execution_count": 10,
     "metadata": {},
     "output_type": "execute_result"
    }
   ],
   "source": [
    "out = bn(l1(X))\n",
    "out"
   ]
  },
  {
   "cell_type": "code",
   "execution_count": 11,
   "id": "de178937",
   "metadata": {},
   "outputs": [
    {
     "data": {
      "text/plain": [
       "Tensor(\n",
       "[[0.         2.37775519 0.93317201]\n",
       " [0.21786862 0.         0.        ]\n",
       " [1.59955183 0.         0.        ]\n",
       " [0.         0.         1.15898792]\n",
       " [0.84299322 0.         0.        ]\n",
       " [0.         0.40095275 1.70727616]\n",
       " [0.12510938 0.         0.        ]\n",
       " [0.         0.80371928 0.6058936 ]\n",
       " [0.97331107 0.28344938 0.        ]\n",
       " [0.49948462 0.         0.        ]], shape=(10, 3), device=cpu, requires_grad=True)"
      ]
     },
     "execution_count": 11,
     "metadata": {},
     "output_type": "execute_result"
    }
   ],
   "source": [
    "out = relu(bn(l1(X)))\n",
    "out"
   ]
  },
  {
   "cell_type": "code",
   "execution_count": 12,
   "id": "7d89f4a3",
   "metadata": {},
   "outputs": [
    {
     "data": {
      "text/plain": [
       "{Tensor(\n",
       " [[-0.68578649  2.37775519  0.93317201]\n",
       "  [ 0.21786862 -0.36380098 -0.25001526]\n",
       "  [ 1.59955183 -0.13049325 -1.53424854]\n",
       "  [-1.2868117  -0.52979083  1.15898792]\n",
       "  [ 0.84299322 -1.41984739 -0.96882459]\n",
       "  [-1.74799781  0.40095275  1.70727616]\n",
       "  [ 0.12510938 -0.68025043 -0.19947378]\n",
       "  [-0.53772274  0.80371928  0.6058936 ]\n",
       "  [ 0.97331107  0.28344938 -0.89053763]\n",
       "  [ 0.49948462 -0.74169374 -0.5622299 ]], shape=(10, 3), device=cpu, requires_grad=True)}"
      ]
     },
     "execution_count": 12,
     "metadata": {},
     "output_type": "execute_result"
    }
   ],
   "source": [
    "out._prev"
   ]
  },
  {
   "cell_type": "code",
   "execution_count": 13,
   "id": "a14b0bc6",
   "metadata": {},
   "outputs": [
    {
     "name": "stdout",
     "output_type": "stream",
     "text": [
      "Tensor(\n",
      "[[1. 1. 1.]], shape=(1, 3), device=cpu, requires_grad=True)\n",
      "<class 'numpy.ndarray'>\n"
     ]
    }
   ],
   "source": [
    "bn = BatchNorm1D(3)\n",
    "print(bn.gamma)\n",
    "print(type(bn.running_mean))"
   ]
  },
  {
   "cell_type": "code",
   "execution_count": 14,
   "id": "cd6bd2f4",
   "metadata": {},
   "outputs": [
    {
     "data": {
      "text/plain": [
       "<allison.nn.layers.BatchNorm1D at 0x7ef990753b00>"
      ]
     },
     "execution_count": 14,
     "metadata": {},
     "output_type": "execute_result"
    }
   ],
   "source": [
    "bn.to('gpu')"
   ]
  },
  {
   "cell_type": "code",
   "execution_count": 15,
   "id": "f47ade51",
   "metadata": {},
   "outputs": [
    {
     "name": "stdout",
     "output_type": "stream",
     "text": [
      "Tensor(\n",
      "[[1. 1. 1.]], shape=(1, 3), device=gpu, requires_grad=True)\n",
      "<class 'cupy.ndarray'>\n"
     ]
    }
   ],
   "source": [
    "print(bn.gamma)\n",
    "print(type(bn.running_mean))"
   ]
  },
  {
   "cell_type": "code",
   "execution_count": 16,
   "id": "24e2f9b9",
   "metadata": {},
   "outputs": [
    {
     "data": {
      "text/plain": [
       "<allison.nn.layers.BatchNorm1D at 0x7ef990753b00>"
      ]
     },
     "execution_count": 16,
     "metadata": {},
     "output_type": "execute_result"
    }
   ],
   "source": [
    "bn.to('cpu')"
   ]
  },
  {
   "cell_type": "code",
   "execution_count": 17,
   "id": "fd4c4c43",
   "metadata": {},
   "outputs": [
    {
     "name": "stdout",
     "output_type": "stream",
     "text": [
      "Tensor(\n",
      "[[1. 1. 1.]], shape=(1, 3), device=cpu, requires_grad=True)\n",
      "<class 'numpy.ndarray'>\n"
     ]
    }
   ],
   "source": [
    "print(bn.gamma)\n",
    "print(type(bn.running_mean))"
   ]
  }
 ],
 "metadata": {
  "kernelspec": {
   "display_name": "allison",
   "language": "python",
   "name": "python3"
  },
  "language_info": {
   "codemirror_mode": {
    "name": "ipython",
    "version": 3
   },
   "file_extension": ".py",
   "mimetype": "text/x-python",
   "name": "python",
   "nbconvert_exporter": "python",
   "pygments_lexer": "ipython3",
   "version": "3.12.3"
  }
 },
 "nbformat": 4,
 "nbformat_minor": 5
}
