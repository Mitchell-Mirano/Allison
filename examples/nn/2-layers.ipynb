{
 "cells": [
  {
   "cell_type": "code",
   "execution_count": 1,
   "id": "c8ad1824",
   "metadata": {},
   "outputs": [],
   "source": [
    "%reload_ext autoreload\n",
    "%autoreload 2"
   ]
  },
  {
   "cell_type": "code",
   "execution_count": 2,
   "id": "2cb07aca",
   "metadata": {},
   "outputs": [],
   "source": [
    "import numpy as np\n",
    "from allison import tensor\n",
    "from allison.nn import Relu,Linear,BatchNorm1D\n",
    "import allison"
   ]
  },
  {
   "cell_type": "code",
   "execution_count": 3,
   "id": "de565dcd",
   "metadata": {},
   "outputs": [
    {
     "name": "stdout",
     "output_type": "stream",
     "text": [
      "Current GPU: NVIDIA GeForce RTX 4070 Laptop GPU\n",
      "CUDA runtime version: 13000\n",
      "CuPy version: 13.6.0\n"
     ]
    },
    {
     "data": {
      "text/plain": [
       "'gpu'"
      ]
     },
     "execution_count": 3,
     "metadata": {},
     "output_type": "execute_result"
    }
   ],
   "source": [
    "device = 'gpu' if allison.cuda.is_available() else 'cpu'\n",
    "device"
   ]
  },
  {
   "cell_type": "code",
   "execution_count": 4,
   "id": "ee9006cd",
   "metadata": {},
   "outputs": [],
   "source": [
    "examples = 10\n",
    "features = 2\n",
    "classes = 3"
   ]
  },
  {
   "cell_type": "code",
   "execution_count": 5,
   "id": "30588a81",
   "metadata": {},
   "outputs": [
    {
     "data": {
      "text/plain": [
       "Tensor(\n",
       "[[-1.27554491  0.37519911]\n",
       " [-0.75036447  0.68361172]\n",
       " [ 2.22228825 -0.99880079]\n",
       " [-0.53638418 -0.03910041]\n",
       " [ 0.46299498 -0.68692171]\n",
       " [-0.18582435 -0.09178151]\n",
       " [-0.03902431  0.03103795]\n",
       " [ 0.28932327 -0.26164971]\n",
       " [-0.19814855 -0.56326088]\n",
       " [-0.67874647  1.72708295]], shape=(10, 2), device=cpu, requires_grad=False)"
      ]
     },
     "execution_count": 5,
     "metadata": {},
     "output_type": "execute_result"
    }
   ],
   "source": [
    "# create random data\n",
    "X = tensor(np.random.randn(examples, features))\n",
    "X"
   ]
  },
  {
   "cell_type": "code",
   "execution_count": 6,
   "id": "e7c06bc6",
   "metadata": {},
   "outputs": [],
   "source": [
    "relu = Relu()\n",
    "l1 = Linear(2, 3)\n",
    "bn = BatchNorm1D(3)"
   ]
  },
  {
   "cell_type": "code",
   "execution_count": 7,
   "id": "efbde485",
   "metadata": {},
   "outputs": [
    {
     "data": {
      "text/plain": [
       "Tensor(\n",
       "[[-1.45027944e+00 -1.93524121e-01 -3.70121427e-02]\n",
       " [-6.56122269e-01  5.51571219e-02  2.17141662e-01]\n",
       " [ 2.37981355e+00  2.11160610e-01 -1.13643884e-01]\n",
       " [-6.93664192e-01 -1.53258897e-01 -1.17178815e-01]\n",
       " [ 2.91997318e-01 -1.30826385e-01 -2.70816920e-01]\n",
       " [-2.73613696e-01 -8.16585147e-02 -8.09753146e-02]\n",
       " [-3.60447623e-02  1.22024180e-03  8.96270838e-03]\n",
       " [ 2.53809384e-01 -2.05607677e-02 -8.27259891e-02]\n",
       " [-4.89857118e-01 -2.56988072e-01 -3.26550249e-01]\n",
       " [-1.21566956e-01  4.54683527e-01  7.68663203e-01]], shape=(10, 3), device=cpu, requires_grad=True)"
      ]
     },
     "execution_count": 7,
     "metadata": {},
     "output_type": "execute_result"
    }
   ],
   "source": [
    "l1(X)"
   ]
  },
  {
   "cell_type": "code",
   "execution_count": 8,
   "id": "77447478",
   "metadata": {},
   "outputs": [
    {
     "data": {
      "text/plain": [
       "Tensor(\n",
       "[[0.         0.37519911]\n",
       " [0.         0.68361172]\n",
       " [2.22228825 0.        ]\n",
       " [0.         0.        ]\n",
       " [0.46299498 0.        ]\n",
       " [0.         0.        ]\n",
       " [0.         0.03103795]\n",
       " [0.28932327 0.        ]\n",
       " [0.         0.        ]\n",
       " [0.         1.72708295]], shape=(10, 2), device=cpu, requires_grad=False)"
      ]
     },
     "execution_count": 8,
     "metadata": {},
     "output_type": "execute_result"
    }
   ],
   "source": [
    "relu(X)"
   ]
  },
  {
   "cell_type": "code",
   "execution_count": 9,
   "id": "3a9b6c67",
   "metadata": {},
   "outputs": [
    {
     "data": {
      "text/plain": [
       "Tensor(\n",
       "[[0.00000000e+00 0.00000000e+00 0.00000000e+00]\n",
       " [0.00000000e+00 5.51571219e-02 2.17141662e-01]\n",
       " [2.37981355e+00 2.11160610e-01 0.00000000e+00]\n",
       " [0.00000000e+00 0.00000000e+00 0.00000000e+00]\n",
       " [2.91997318e-01 0.00000000e+00 0.00000000e+00]\n",
       " [0.00000000e+00 0.00000000e+00 0.00000000e+00]\n",
       " [0.00000000e+00 1.22024180e-03 8.96270838e-03]\n",
       " [2.53809384e-01 0.00000000e+00 0.00000000e+00]\n",
       " [0.00000000e+00 0.00000000e+00 0.00000000e+00]\n",
       " [0.00000000e+00 4.54683527e-01 7.68663203e-01]], shape=(10, 3), device=cpu, requires_grad=True)"
      ]
     },
     "execution_count": 9,
     "metadata": {},
     "output_type": "execute_result"
    }
   ],
   "source": [
    "relu(l1(X))"
   ]
  },
  {
   "cell_type": "code",
   "execution_count": 10,
   "id": "0f54f53d",
   "metadata": {},
   "outputs": [
    {
     "data": {
      "text/plain": [
       "Tensor(\n",
       "[[-1.43723679 -0.90541798 -0.11460678]\n",
       " [-0.60454566  0.33128852  0.75232746]\n",
       " [ 2.57869933  1.10710307 -0.37600236]\n",
       " [-0.64390918 -0.70517664 -0.38806023]\n",
       " [ 0.38957843 -0.59361844 -0.91212924]\n",
       " [-0.20347707 -0.34910372 -0.26456786]\n",
       " [ 0.04561915  0.06305723  0.04221626]\n",
       " [ 0.34953755 -0.04526101 -0.27053952]\n",
       " [-0.43021302 -1.22102795 -1.10223905]\n",
       " [-0.04405274  2.31815691  2.63360133]], shape=(10, 3), device=cpu, requires_grad=True)"
      ]
     },
     "execution_count": 10,
     "metadata": {},
     "output_type": "execute_result"
    }
   ],
   "source": [
    "out = bn(l1(X))\n",
    "out"
   ]
  },
  {
   "cell_type": "code",
   "execution_count": 11,
   "id": "de178937",
   "metadata": {},
   "outputs": [
    {
     "data": {
      "text/plain": [
       "Tensor(\n",
       "[[0.         0.         0.        ]\n",
       " [0.         0.33128852 0.75232746]\n",
       " [2.57869933 1.10710307 0.        ]\n",
       " [0.         0.         0.        ]\n",
       " [0.38957843 0.         0.        ]\n",
       " [0.         0.         0.        ]\n",
       " [0.04561915 0.06305723 0.04221626]\n",
       " [0.34953755 0.         0.        ]\n",
       " [0.         0.         0.        ]\n",
       " [0.         2.31815691 2.63360133]], shape=(10, 3), device=cpu, requires_grad=True)"
      ]
     },
     "execution_count": 11,
     "metadata": {},
     "output_type": "execute_result"
    }
   ],
   "source": [
    "out = relu(bn(l1(X)))\n",
    "out"
   ]
  },
  {
   "cell_type": "code",
   "execution_count": 12,
   "id": "7d89f4a3",
   "metadata": {},
   "outputs": [
    {
     "data": {
      "text/plain": [
       "{Tensor(\n",
       " [[-1.43723679 -0.90541798 -0.11460678]\n",
       "  [-0.60454566  0.33128852  0.75232746]\n",
       "  [ 2.57869933  1.10710307 -0.37600236]\n",
       "  [-0.64390918 -0.70517664 -0.38806023]\n",
       "  [ 0.38957843 -0.59361844 -0.91212924]\n",
       "  [-0.20347707 -0.34910372 -0.26456786]\n",
       "  [ 0.04561915  0.06305723  0.04221626]\n",
       "  [ 0.34953755 -0.04526101 -0.27053952]\n",
       "  [-0.43021302 -1.22102795 -1.10223905]\n",
       "  [-0.04405274  2.31815691  2.63360133]], shape=(10, 3), device=cpu, requires_grad=True)}"
      ]
     },
     "execution_count": 12,
     "metadata": {},
     "output_type": "execute_result"
    }
   ],
   "source": [
    "out._prev"
   ]
  },
  {
   "cell_type": "code",
   "execution_count": 13,
   "id": "a14b0bc6",
   "metadata": {},
   "outputs": [
    {
     "name": "stdout",
     "output_type": "stream",
     "text": [
      "Tensor(\n",
      "[[1. 1. 1.]], shape=(1, 3), device=cpu, requires_grad=True)\n",
      "<class 'numpy.ndarray'>\n"
     ]
    }
   ],
   "source": [
    "bn = BatchNorm1D(3)\n",
    "print(bn.gamma)\n",
    "print(type(bn.running_mean))"
   ]
  },
  {
   "cell_type": "code",
   "execution_count": 14,
   "id": "cd6bd2f4",
   "metadata": {},
   "outputs": [
    {
     "data": {
      "text/plain": [
       "<allison.nn.layers.BatchNorm1D at 0x7a649813f830>"
      ]
     },
     "execution_count": 14,
     "metadata": {},
     "output_type": "execute_result"
    }
   ],
   "source": [
    "bn.to('gpu')"
   ]
  },
  {
   "cell_type": "code",
   "execution_count": 15,
   "id": "f47ade51",
   "metadata": {},
   "outputs": [
    {
     "name": "stdout",
     "output_type": "stream",
     "text": [
      "Tensor(\n",
      "[[1. 1. 1.]], shape=(1, 3), device=gpu, requires_grad=True)\n",
      "<class 'cupy.ndarray'>\n"
     ]
    }
   ],
   "source": [
    "print(bn.gamma)\n",
    "print(type(bn.running_mean))"
   ]
  },
  {
   "cell_type": "code",
   "execution_count": 16,
   "id": "24e2f9b9",
   "metadata": {},
   "outputs": [
    {
     "data": {
      "text/plain": [
       "<allison.nn.layers.BatchNorm1D at 0x7a649813f830>"
      ]
     },
     "execution_count": 16,
     "metadata": {},
     "output_type": "execute_result"
    }
   ],
   "source": [
    "bn.to('cpu')"
   ]
  },
  {
   "cell_type": "code",
   "execution_count": 17,
   "id": "fd4c4c43",
   "metadata": {},
   "outputs": [
    {
     "name": "stdout",
     "output_type": "stream",
     "text": [
      "Tensor(\n",
      "[[1. 1. 1.]], shape=(1, 3), device=cpu, requires_grad=True)\n",
      "<class 'numpy.ndarray'>\n"
     ]
    }
   ],
   "source": [
    "print(bn.gamma)\n",
    "print(type(bn.running_mean))"
   ]
  }
 ],
 "metadata": {
  "kernelspec": {
   "display_name": "allison",
   "language": "python",
   "name": "python3"
  },
  "language_info": {
   "codemirror_mode": {
    "name": "ipython",
    "version": 3
   },
   "file_extension": ".py",
   "mimetype": "text/x-python",
   "name": "python",
   "nbconvert_exporter": "python",
   "pygments_lexer": "ipython3",
   "version": "3.12.3"
  }
 },
 "nbformat": 4,
 "nbformat_minor": 5
}
