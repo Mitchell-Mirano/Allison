{
 "cells": [
  {
   "cell_type": "code",
   "execution_count": 1,
   "metadata": {
    "tags": []
   },
   "outputs": [],
   "source": [
    "import numpy as np\n",
    "import pandas as pd\n",
    "import matplotlib.pyplot as plt\n",
    "from allison.nn.layers import LayerDense\n",
    "from allison.nn.models import NeuralNetwork\n",
    "from allison.utils.functions.data import train_test_split\n",
    "from allison.utils.functions.activation import sigmoid,softmax,tanh,relu\n",
    "from allison.utils.metrics import accuracy\n",
    "from allison.utils.functions.transforms import get_numeric_labels\n",
    "from allison.utils.functions.loss import binary_cross_entropy"
   ]
  },
  {
   "attachments": {},
   "cell_type": "markdown",
   "metadata": {},
   "source": [
    "Dataset"
   ]
  },
  {
   "cell_type": "code",
   "execution_count": 2,
   "metadata": {},
   "outputs": [
    {
     "data": {
      "text/plain": [
       "<matplotlib.legend.Legend at 0x70aba9620830>"
      ]
     },
     "execution_count": 2,
     "metadata": {},
     "output_type": "execute_result"
    },
    {
     "data": {
      "image/png": "[encoded data removed]",
      "text/plain": [
       "<Figure size 640x480 with 1 Axes>"
      ]
     },
     "metadata": {},
     "output_type": "display_data"
    }
   ],
   "source": [
    "r1=0.5\n",
    "r2=0.5\n",
    "thetas = np.linspace(0,2*np.pi,100)\n",
    "\n",
    "x1=r1*np.cos(thetas) + 0.1*np.random.randn(100)\n",
    "y1=r1*np.sin(thetas) + 0.1*np.random.randn(100)\n",
    "\n",
    "x2=1.5+r2*np.cos(thetas) + 0.1*np.random.randn(100)\n",
    "y2=1.5+r2*np.sin(thetas) + 0.1*np.random.randn(100)\n",
    "\n",
    "plt.scatter(x1,y1,s=50,label=\"A\")\n",
    "plt.scatter(x2,y2,s=50,label=\"B\")\n",
    "plt.xlabel(\"x\")\n",
    "plt.ylabel(\"y\")\n",
    "plt.title(\"Circles Dataset\")\n",
    "plt.legend()"
   ]
  },
  {
   "cell_type": "code",
   "execution_count": 3,
   "metadata": {},
   "outputs": [
    {
     "data": {
      "text/html": [
       "<div>\n",
       "<style scoped>\n",
       "    .dataframe tbody tr th:only-of-type {\n",
       "        vertical-align: middle;\n",
       "    }\n",
       "\n",
       "    .dataframe tbody tr th {\n",
       "        vertical-align: top;\n",
       "    }\n",
       "\n",
       "    .dataframe thead th {\n",
       "        text-align: right;\n",
       "    }\n",
       "</style>\n",
       "<table border=\"1\" class=\"dataframe\">\n",
       "  <thead>\n",
       "    <tr style=\"text-align: right;\">\n",
       "      <th></th>\n",
       "      <th>x</th>\n",
       "      <th>y</th>\n",
       "      <th>labels</th>\n",
       "    </tr>\n",
       "  </thead>\n",
       "  <tbody>\n",
       "    <tr>\n",
       "      <th>0</th>\n",
       "      <td>0.414974</td>\n",
       "      <td>-0.078201</td>\n",
       "      <td>1</td>\n",
       "    </tr>\n",
       "    <tr>\n",
       "      <th>1</th>\n",
       "      <td>0.418143</td>\n",
       "      <td>-0.051224</td>\n",
       "      <td>1</td>\n",
       "    </tr>\n",
       "    <tr>\n",
       "      <th>2</th>\n",
       "      <td>0.308679</td>\n",
       "      <td>0.096939</td>\n",
       "      <td>1</td>\n",
       "    </tr>\n",
       "    <tr>\n",
       "      <th>3</th>\n",
       "      <td>0.415587</td>\n",
       "      <td>0.137921</td>\n",
       "      <td>1</td>\n",
       "    </tr>\n",
       "    <tr>\n",
       "      <th>4</th>\n",
       "      <td>0.544333</td>\n",
       "      <td>0.157001</td>\n",
       "      <td>1</td>\n",
       "    </tr>\n",
       "  </tbody>\n",
       "</table>\n",
       "</div>"
      ],
      "text/plain": [
       "          x         y  labels\n",
       "0  0.414974 -0.078201       1\n",
       "1  0.418143 -0.051224       1\n",
       "2  0.308679  0.096939       1\n",
       "3  0.415587  0.137921       1\n",
       "4  0.544333  0.157001       1"
      ]
     },
     "execution_count": 3,
     "metadata": {},
     "output_type": "execute_result"
    }
   ],
   "source": [
    "x=x1.tolist()+x2.tolist()\n",
    "y=y1.tolist()+y2.tolist()\n",
    "labels = [1 for x in x1.tolist()] + [0 for x in x2.tolist()]\n",
    "df=pd.DataFrame({\n",
    "    \"x\":x,\n",
    "    \"y\":y,\n",
    "    \"labels\":labels\n",
    "})\n",
    "df.head()"
   ]
  },
  {
   "cell_type": "markdown",
   "metadata": {},
   "source": [
    "# Preprocess"
   ]
  },
  {
   "attachments": {},
   "cell_type": "markdown",
   "metadata": {},
   "source": [
    "Split data for train and test"
   ]
  },
  {
   "cell_type": "code",
   "execution_count": 4,
   "metadata": {},
   "outputs": [
    {
     "name": "stdout",
     "output_type": "stream",
     "text": [
      "(160, 2) (160,)\n",
      "(40, 2) (40,)\n"
     ]
    }
   ],
   "source": [
    "data_train, data_test = train_test_split(df,test_size=0.2)\n",
    "features = [\"x\", \"y\"]\n",
    "labels = \"labels\"\n",
    "\n",
    "X_train = data_train[features].to_numpy()\n",
    "Y_train=data_train[labels].to_numpy(int)\n",
    "print(X_train.shape,Y_train.shape)\n",
    "\n",
    "X_test = data_test[features].to_numpy()\n",
    "Y_test=data_test[labels].to_numpy(int)\n",
    "print(X_test.shape,Y_test.shape)"
   ]
  },
  {
   "cell_type": "markdown",
   "metadata": {},
   "source": [
    "# Train"
   ]
  },
  {
   "cell_type": "code",
   "execution_count": 5,
   "metadata": {},
   "outputs": [
    {
     "name": "stdout",
     "output_type": "stream",
     "text": [
      "Layer:1, neurons:3, input:(n,2), weights:(2,3), output:(n,3), activation:sigmoid \n",
      "\n",
      "Layer:2, neurons:1, input:(n,3), weights:(3,1), output:(n,1), activation:sigmoid \n",
      "\n",
      "Total -> Layers:2, neurons:4, weights:9, bias:4 params:13 \n",
      "\n",
      "Loss function: binary_cross_entropy \n",
      "\n",
      "Metric: accuracy \n",
      "\n",
      "Learning Rate: 5e-09 \n",
      "\n"
     ]
    }
   ],
   "source": [
    "model = NeuralNetwork(binary_cross_entropy,accuracy, 0.000000005)\n",
    "model.add_layer(LayerDense(2,3,sigmoid))\n",
    "model.add_layer(LayerDense(3,1,sigmoid))\n",
    "model.summary()"
   ]
  },
  {
   "cell_type": "code",
   "execution_count": 6,
   "metadata": {},
   "outputs": [
    {
     "name": "stdout",
     "output_type": "stream",
     "text": [
      "Step:   1 Train Accuracy:  51.250% Test Accuracy:  45.000%\n",
      "Step:   2 Train Accuracy:  51.250% Test Accuracy:  45.000%\n",
      "Step:   3 Train Accuracy:  51.250% Test Accuracy:  45.000%\n",
      "Step:   4 Train Accuracy:  51.250% Test Accuracy:  45.000%\n",
      "Step:   5 Train Accuracy:  51.250% Test Accuracy:  45.000%\n",
      "Step:   6 Train Accuracy:  51.250% Test Accuracy:  45.000%\n",
      "Step:   7 Train Accuracy:  51.250% Test Accuracy:  45.000%\n",
      "Step:   8 Train Accuracy:  51.250% Test Accuracy:  45.000%\n",
      "Step:   9 Train Accuracy:  51.250% Test Accuracy:  45.000%\n",
      "Step:  10 Train Accuracy:  51.250% Test Accuracy:  45.000%\n",
      "Step:  11 Train Accuracy:  51.250% Test Accuracy:  45.000%\n",
      "Step:  12 Train Accuracy:  51.250% Test Accuracy:  45.000%\n",
      "Step:  13 Train Accuracy:  51.250% Test Accuracy:  45.000%\n",
      "Step:  14 Train Accuracy:  51.250% Test Accuracy:  45.000%\n",
      "Step:  15 Train Accuracy:  51.250% Test Accuracy:  45.000%\n",
      "Step:  16 Train Accuracy:  51.875% Test Accuracy:  45.000%\n",
      "Step:  17 Train Accuracy:  52.500% Test Accuracy:  50.000%\n",
      "Step:  18 Train Accuracy:  57.500% Test Accuracy:  57.500%\n",
      "Step:  19 Train Accuracy:  63.125% Test Accuracy:  67.500%\n",
      "Step:  20 Train Accuracy:  65.000% Test Accuracy:  72.500%\n",
      "Step:  21 Train Accuracy:  68.750% Test Accuracy:  72.500%\n",
      "Step:  22 Train Accuracy:  71.250% Test Accuracy:  75.000%\n",
      "Step:  23 Train Accuracy:  74.375% Test Accuracy:  77.500%\n",
      "Step:  24 Train Accuracy:  74.375% Test Accuracy:  82.500%\n",
      "Step:  25 Train Accuracy:  78.125% Test Accuracy:  87.500%\n",
      "Step:  26 Train Accuracy:  79.375% Test Accuracy:  87.500%\n",
      "Step:  27 Train Accuracy:  80.000% Test Accuracy:  87.500%\n",
      "Step:  28 Train Accuracy:  82.500% Test Accuracy:  87.500%\n",
      "Step:  29 Train Accuracy:  85.625% Test Accuracy:  87.500%\n",
      "Step:  30 Train Accuracy:  86.875% Test Accuracy:  87.500%\n",
      "Step:  31 Train Accuracy:  90.000% Test Accuracy:  87.500%\n",
      "Step:  32 Train Accuracy:  91.250% Test Accuracy:  87.500%\n",
      "Step:  33 Train Accuracy:  92.500% Test Accuracy:  90.000%\n",
      "Step:  34 Train Accuracy:  94.375% Test Accuracy:  92.500%\n",
      "Step:  35 Train Accuracy:  95.625% Test Accuracy:  92.500%\n"
     ]
    }
   ],
   "source": [
    "steps = 100\n",
    "iters = 10\n",
    "\n",
    "accuracy_train = 0\n",
    "accuracy_test = 0\n",
    "\n",
    "for step in range(1,steps+1):\n",
    "    if accuracy_train > 95.0 or accuracy_test > 95.0:\n",
    "        break\n",
    "    model.train(X_train,Y_train,iters,False)\n",
    "    \n",
    "    accuracy_train = model.evaluate(X_train,Y_train)\n",
    "    accuracy_test = model.evaluate(X_test,Y_test)\n",
    "\n",
    "    print(f\"Step: {step:3d} Train Accuracy: {accuracy_train:7.3f}% Test Accuracy: {accuracy_test:7.3f}%\")"
   ]
  },
  {
   "cell_type": "markdown",
   "metadata": {},
   "source": [
    "# Plot the predicted labels"
   ]
  },
  {
   "cell_type": "code",
   "execution_count": 7,
   "metadata": {},
   "outputs": [
    {
     "data": {
      "text/plain": [
       "<matplotlib.legend.Legend at 0x70ab7af373e0>"
      ]
     },
     "execution_count": 7,
     "metadata": {},
     "output_type": "execute_result"
    },
    {
     "data": {
      "image/png": "[encoded data removed]",
      "text/plain": [
       "<Figure size 640x480 with 1 Axes>"
      ]
     },
     "metadata": {},
     "output_type": "display_data"
    }
   ],
   "source": [
    "id2label = {0:\"B\",1:\"A\"}\n",
    "\n",
    "data_test['prediction'] = model.predict(X_test)\n",
    "data_test['pred_labels'] = data_test['prediction'].map(id2label)\n",
    "\n",
    "for label in data_test['pred_labels'].unique():\n",
    "    x = data_test[data_test['pred_labels'] == label]['x']\n",
    "    y = data_test[data_test['pred_labels'] == label]['y']\n",
    "\n",
    "    plt.scatter(x,y,s=50,label=label)\n",
    "\n",
    "plt.xlabel(\"x\")\n",
    "plt.ylabel(\"y\")\n",
    "plt.title(\"Circles Tetst Dataset\")\n",
    "plt.legend()"
   ]
  }
 ],
 "metadata": {
  "kernelspec": {
   "display_name": "allison (3.12.3)",
   "language": "python",
   "name": "python3"
  },
  "language_info": {
   "codemirror_mode": {
    "name": "ipython",
    "version": 3
   },
   "file_extension": ".py",
   "mimetype": "text/x-python",
   "name": "python",
   "nbconvert_exporter": "python",
   "pygments_lexer": "ipython3",
   "version": "3.12.3"
  }
 },
 "nbformat": 4,
 "nbformat_minor": 4
}
