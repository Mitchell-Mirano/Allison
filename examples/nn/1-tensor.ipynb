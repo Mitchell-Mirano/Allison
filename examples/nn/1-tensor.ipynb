{
 "cells": [
  {
   "cell_type": "markdown",
   "id": "a1476a24",
   "metadata": {},
   "source": [
    "[![Open In Colab](https://colab.research.google.com/assets/colab-badge.svg)](https://colab.research.google.com/github/Mitchell-Mirano/Allison/blob/develop/examples/nn/1-tensor.ipynb)\n"
   ]
  },
  {
   "cell_type": "code",
   "execution_count": 29,
   "id": "970d15a5",
   "metadata": {},
   "outputs": [],
   "source": [
    "%reload_ext autoreload\n",
    "%autoreload 2"
   ]
  },
  {
   "cell_type": "code",
   "execution_count": null,
   "id": "69c6dbfe",
   "metadata": {},
   "outputs": [],
   "source": [
    "import allison\n",
    "import numpy as np\n",
    "import pandas as pd"
   ]
  },
  {
   "cell_type": "markdown",
   "id": "69ba32ae",
   "metadata": {},
   "source": [
    "# Create a Tensor"
   ]
  },
  {
   "cell_type": "code",
   "execution_count": 31,
   "id": "f3bc580d",
   "metadata": {},
   "outputs": [
    {
     "data": {
      "text/plain": [
       "Tensor(\n",
       "[1 2 3], shape=(3,), device=cpu, requires_grad=False)"
      ]
     },
     "execution_count": 31,
     "metadata": {},
     "output_type": "execute_result"
    }
   ],
   "source": [
    "# from list\n",
    "a = allison.tensor([1,2,3])\n",
    "a"
   ]
  },
  {
   "cell_type": "code",
   "execution_count": 32,
   "id": "a6886854",
   "metadata": {},
   "outputs": [
    {
     "data": {
      "text/plain": [
       "(3,)"
      ]
     },
     "execution_count": 32,
     "metadata": {},
     "output_type": "execute_result"
    }
   ],
   "source": [
    "a.shape"
   ]
  },
  {
   "cell_type": "code",
   "execution_count": 33,
   "id": "650f7014",
   "metadata": {},
   "outputs": [
    {
     "data": {
      "text/plain": [
       "3"
      ]
     },
     "execution_count": 33,
     "metadata": {},
     "output_type": "execute_result"
    }
   ],
   "source": [
    "len(a)"
   ]
  },
  {
   "cell_type": "code",
   "execution_count": 34,
   "id": "b083b65e",
   "metadata": {},
   "outputs": [
    {
     "data": {
      "text/plain": [
       "Tensor(\n",
       "[[0.23245875 0.92769839 0.98303094 0.56750773 0.466072  ]\n",
       " [0.54668178 0.85959801 0.88628359 0.35237337 0.26362098]\n",
       " [0.36830723 0.23266667 0.08792604 0.83949587 0.02487993]\n",
       " [0.48058726 0.94717331 0.28449211 0.77933928 0.83661446]\n",
       " [0.24397921 0.46148947 0.24579469 0.65910337 0.18114033]], shape=(5, 5), device=cpu, requires_grad=False)"
      ]
     },
     "execution_count": 34,
     "metadata": {},
     "output_type": "execute_result"
    }
   ],
   "source": [
    "#from numpy\n",
    "a = allison.tensor(np.random.rand(5,5))\n",
    "a"
   ]
  },
  {
   "cell_type": "code",
   "execution_count": 35,
   "id": "9717eabb",
   "metadata": {},
   "outputs": [
    {
     "data": {
      "text/plain": [
       "Tensor(\n",
       "[[0.464307 0.278199 0.793136 0.618634 0.729128]\n",
       " [0.182403 0.187902 0.957675 0.784397 0.467162]\n",
       " [0.664873 0.887387 0.035765 0.841349 0.687347]\n",
       " [0.906638 0.473387 0.639977 0.352944 0.432614]\n",
       " [0.725385 0.90451  0.622032 0.783273 0.980809]], shape=(5, 5), device=cpu, requires_grad=False)"
      ]
     },
     "execution_count": 35,
     "metadata": {},
     "output_type": "execute_result"
    }
   ],
   "source": [
    "# from pandas\n",
    "\n",
    "data = pd.DataFrame({\n",
    "    'a': [0.464307, 0.182403, 0.664873, 0.906638, 0.725385],\n",
    "    'b': [0.278199, 0.187902, 0.887387, 0.473387, 0.904510],\n",
    "    'c': [0.793136, 0.957675, 0.035765, 0.639977, 0.622032],\n",
    "    'd': [0.618634, 0.784397, 0.841349, 0.352944, 0.783273],\n",
    "    'e': [0.729128, 0.467162, 0.687347, 0.432614, 0.980809]\n",
    "})\n",
    "\n",
    "t = allison.tensor(data)\n",
    "t"
   ]
  },
  {
   "cell_type": "markdown",
   "id": "fbaf2f27",
   "metadata": {},
   "source": [
    "# Basic Operations"
   ]
  },
  {
   "cell_type": "code",
   "execution_count": 36,
   "id": "da7e74c4",
   "metadata": {},
   "outputs": [
    {
     "name": "stdout",
     "output_type": "stream",
     "text": [
      "Tensor(\n",
      "[1 2 3], shape=(3,), device=cpu, requires_grad=False)\n",
      "Tensor(\n",
      "[3 4 5], shape=(3,), device=cpu, requires_grad=False)\n"
     ]
    }
   ],
   "source": [
    "a = allison.tensor([1,2,3])\n",
    "b = allison.tensor([3,4,5])\n",
    "\n",
    "print(a)\n",
    "print(b)"
   ]
  },
  {
   "cell_type": "code",
   "execution_count": 37,
   "id": "8c03423f",
   "metadata": {},
   "outputs": [
    {
     "data": {
      "text/plain": [
       "Tensor(\n",
       "[[4]\n",
       " [6]\n",
       " [8]], shape=(3, 1), device=cpu, requires_grad=False)"
      ]
     },
     "execution_count": 37,
     "metadata": {},
     "output_type": "execute_result"
    }
   ],
   "source": [
    "c = a + b\n",
    "c"
   ]
  },
  {
   "cell_type": "code",
   "execution_count": 38,
   "id": "ae0dc8fd",
   "metadata": {},
   "outputs": [
    {
     "data": {
      "text/plain": [
       "Tensor(\n",
       "[[-2]\n",
       " [-2]\n",
       " [-2]], shape=(3, 1), device=cpu, requires_grad=False)"
      ]
     },
     "execution_count": 38,
     "metadata": {},
     "output_type": "execute_result"
    }
   ],
   "source": [
    "c = a - b\n",
    "c"
   ]
  },
  {
   "cell_type": "code",
   "execution_count": 39,
   "id": "f7782668",
   "metadata": {},
   "outputs": [
    {
     "data": {
      "text/plain": [
       "Tensor(\n",
       "[[ 3]\n",
       " [ 8]\n",
       " [15]], shape=(3, 1), device=cpu, requires_grad=False)"
      ]
     },
     "execution_count": 39,
     "metadata": {},
     "output_type": "execute_result"
    }
   ],
   "source": [
    "c = a * b\n",
    "c"
   ]
  },
  {
   "cell_type": "code",
   "execution_count": 40,
   "id": "64f7e3d2",
   "metadata": {},
   "outputs": [
    {
     "data": {
      "text/plain": [
       "Tensor(\n",
       "26, shape=(), device=cpu, requires_grad=False)"
      ]
     },
     "execution_count": 40,
     "metadata": {},
     "output_type": "execute_result"
    }
   ],
   "source": [
    "c = a@b\n",
    "c"
   ]
  },
  {
   "cell_type": "code",
   "execution_count": 41,
   "id": "b6c666b0",
   "metadata": {},
   "outputs": [
    {
     "data": {
      "text/plain": [
       "Tensor(\n",
       "[[1]\n",
       " [4]\n",
       " [9]], shape=(3, 1), device=cpu, requires_grad=False)"
      ]
     },
     "execution_count": 41,
     "metadata": {},
     "output_type": "execute_result"
    }
   ],
   "source": [
    "c = a**2\n",
    "c"
   ]
  },
  {
   "cell_type": "markdown",
   "id": "95ea6f34",
   "metadata": {},
   "source": [
    "# Spliting"
   ]
  },
  {
   "cell_type": "code",
   "execution_count": 42,
   "id": "4d727b57",
   "metadata": {},
   "outputs": [
    {
     "data": {
      "text/plain": [
       "Tensor(\n",
       "[[0.737562   0.70758079 0.16277061 0.64250494 0.29026015]\n",
       " [0.53771251 0.1865733  0.22927281 0.77674571 0.50737425]\n",
       " [0.5910008  0.28192313 0.31665087 0.20793    0.17141074]\n",
       " [0.26609882 0.51289905 0.9949479  0.81357255 0.05441107]\n",
       " [0.3995671  0.52925472 0.1282275  0.02470626 0.90043181]], shape=(5, 5), device=cpu, requires_grad=False)"
      ]
     },
     "execution_count": 42,
     "metadata": {},
     "output_type": "execute_result"
    }
   ],
   "source": [
    "a = allison.tensor(np.random.rand(5,5))\n",
    "a"
   ]
  },
  {
   "cell_type": "code",
   "execution_count": 43,
   "id": "a1906759",
   "metadata": {},
   "outputs": [
    {
     "data": {
      "text/plain": [
       "Tensor(\n",
       "[[0.26609882]\n",
       " [0.51289905]\n",
       " [0.9949479 ]\n",
       " [0.81357255]\n",
       " [0.05441107]], shape=(5, 1), device=cpu, requires_grad=False)"
      ]
     },
     "execution_count": 43,
     "metadata": {},
     "output_type": "execute_result"
    }
   ],
   "source": [
    "a[3,:]"
   ]
  },
  {
   "cell_type": "code",
   "execution_count": 44,
   "id": "53de44c0",
   "metadata": {},
   "outputs": [
    {
     "data": {
      "text/plain": [
       "Tensor(\n",
       "0.8135725531865975, shape=(), device=cpu, requires_grad=False)"
      ]
     },
     "execution_count": 44,
     "metadata": {},
     "output_type": "execute_result"
    }
   ],
   "source": [
    "a[3,3]"
   ]
  },
  {
   "cell_type": "code",
   "execution_count": 45,
   "id": "1c783c24",
   "metadata": {},
   "outputs": [
    {
     "data": {
      "text/plain": [
       "Tensor(\n",
       "[[0.64250494]\n",
       " [0.77674571]\n",
       " [0.20793   ]\n",
       " [0.81357255]\n",
       " [0.02470626]], shape=(5, 1), device=cpu, requires_grad=False)"
      ]
     },
     "execution_count": 45,
     "metadata": {},
     "output_type": "execute_result"
    }
   ],
   "source": [
    "a[:,3]"
   ]
  },
  {
   "cell_type": "markdown",
   "id": "74852739",
   "metadata": {},
   "source": [
    "# Auto Grad"
   ]
  },
  {
   "cell_type": "code",
   "execution_count": 46,
   "id": "43903dd8",
   "metadata": {},
   "outputs": [
    {
     "name": "stdout",
     "output_type": "stream",
     "text": [
      "Tensor(\n",
      "[1 2 3], shape=(3,), device=cpu, requires_grad=True)\n",
      "grad(a) [0 0 0]\n"
     ]
    }
   ],
   "source": [
    "a = allison.tensor([1,2,3], requires_grad=True)\n",
    "print(a)\n",
    "print(f'grad(a) {a.grad}')"
   ]
  },
  {
   "cell_type": "code",
   "execution_count": 47,
   "id": "db1c1430",
   "metadata": {},
   "outputs": [
    {
     "name": "stdout",
     "output_type": "stream",
     "text": [
      "Tensor(\n",
      "[3 4 5], shape=(3,), device=cpu, requires_grad=True)\n",
      "grad(b) [0 0 0]\n"
     ]
    }
   ],
   "source": [
    "b =allison.tensor([3,4,5], requires_grad=True)\n",
    "print(b)\n",
    "print(f'grad(b) {b.grad}')"
   ]
  },
  {
   "cell_type": "code",
   "execution_count": 48,
   "id": "12756a04",
   "metadata": {},
   "outputs": [
    {
     "name": "stdout",
     "output_type": "stream",
     "text": [
      "Tensor(\n",
      "[[4]\n",
      " [6]\n",
      " [8]], shape=(3, 1), device=cpu, requires_grad=True)\n",
      "{Tensor(\n",
      "[3 4 5], shape=(3,), device=cpu, requires_grad=True), Tensor(\n",
      "[1 2 3], shape=(3,), device=cpu, requires_grad=True)}\n",
      "grad(a) [0 0 0]\n",
      "grad(b) [0 0 0]\n"
     ]
    }
   ],
   "source": [
    "c = a + b\n",
    "print(c)\n",
    "print(c._prev)\n",
    "print(f'grad(a) {a.grad}')\n",
    "print(f'grad(b) {b.grad}')"
   ]
  },
  {
   "cell_type": "code",
   "execution_count": 49,
   "id": "e4810a70",
   "metadata": {},
   "outputs": [
    {
     "name": "stdout",
     "output_type": "stream",
     "text": [
      "grad(a) [3 3 3]\n",
      "grad(b) [3 3 3]\n"
     ]
    }
   ],
   "source": [
    "c.backward()\n",
    "print(f'grad(a) {a.grad}')\n",
    "print(f'grad(b) {b.grad}')"
   ]
  },
  {
   "cell_type": "code",
   "execution_count": 50,
   "id": "7bef0159",
   "metadata": {},
   "outputs": [
    {
     "data": {
      "text/plain": [
       "set()"
      ]
     },
     "execution_count": 50,
     "metadata": {},
     "output_type": "execute_result"
    }
   ],
   "source": [
    "with allison.no_grad():\n",
    "    a = allison.tensor([1,2,3], requires_grad=True)\n",
    "    b = allison.tensor([3,4,5], requires_grad=True)\n",
    "    c = a + b\n",
    "\n",
    "c._prev"
   ]
  },
  {
   "cell_type": "markdown",
   "id": "ad2e5786",
   "metadata": {},
   "source": [
    "# Using GPU"
   ]
  },
  {
   "cell_type": "code",
   "execution_count": 51,
   "id": "eced5473",
   "metadata": {},
   "outputs": [
    {
     "name": "stdout",
     "output_type": "stream",
     "text": [
      "Current GPU: NVIDIA GeForce RTX 4070 Laptop GPU\n",
      "CUDA runtime version: 13000\n",
      "CuPy version: 13.6.0\n"
     ]
    },
    {
     "data": {
      "text/plain": [
       "'gpu'"
      ]
     },
     "execution_count": 51,
     "metadata": {},
     "output_type": "execute_result"
    }
   ],
   "source": [
    "device = 'gpu' if allison.cuda.is_available() else 'cpu'\n",
    "device"
   ]
  },
  {
   "cell_type": "code",
   "execution_count": 52,
   "id": "ead52089",
   "metadata": {},
   "outputs": [
    {
     "name": "stdout",
     "output_type": "stream",
     "text": [
      "Tensor(\n",
      "[[0.97288629 0.61006018 0.5177919  1.05083056 0.39758187]\n",
      " [0.68626086 1.05843103 1.15684517 0.76975443 1.07846854]\n",
      " [0.92175222 0.9545834  0.58208343 0.27046347 1.20071123]\n",
      " [0.84117336 0.70823409 1.0778252  0.6607275  0.41382636]\n",
      " [1.73645269 0.84830937 0.35032234 0.25371302 1.41976753]], shape=(5, 5), device=gpu, requires_grad=False)\n",
      "set()\n",
      "gpu\n"
     ]
    }
   ],
   "source": [
    "a = allison.tensor(np.random.rand(5,5), device=device)\n",
    "b = allison.tensor(np.random.rand(5,5), device=device)\n",
    "c = a + b\n",
    "print(c)\n",
    "print(c._prev)\n",
    "print(c.device)"
   ]
  },
  {
   "cell_type": "code",
   "execution_count": 53,
   "id": "d0abf03a",
   "metadata": {},
   "outputs": [
    {
     "name": "stdout",
     "output_type": "stream",
     "text": [
      "Tensor(\n",
      "[[0.71347621 0.82425367 1.41847814 0.72530192 0.93697619]\n",
      " [0.71803662 1.00051024 0.46879198 0.72405522 1.0924001 ]\n",
      " [0.66018851 0.37869752 0.62334432 0.90929668 1.52402444]\n",
      " [1.40350501 0.53861885 0.93402124 1.3383572  1.03865854]\n",
      " [0.53746916 0.60416595 1.31170128 1.50673159 0.93681634]], shape=(5, 5), device=gpu, requires_grad=True)\n",
      "{Tensor(\n",
      "[[0.25780782 0.55467521 0.42463074 0.37005374 0.43747353]\n",
      " [0.53894564 0.40395057 0.04555296 0.39621211 0.5914497 ]\n",
      " [0.33140489 0.02822374 0.50418857 0.35321929 0.87102832]\n",
      " [0.99776174 0.1078702  0.16181754 0.45142301 0.81223553]\n",
      " [0.29631509 0.58676892 0.87199407 0.59198526 0.14424072]], shape=(5, 5), device=gpu, requires_grad=True), Tensor(\n",
      "[[0.45566839 0.26957845 0.9938474  0.35524817 0.49950266]\n",
      " [0.17909099 0.59655967 0.42323902 0.32784311 0.5009504 ]\n",
      " [0.32878362 0.35047379 0.11915574 0.5560774  0.65299612]\n",
      " [0.40574327 0.43074865 0.7722037  0.88693419 0.22642301]\n",
      " [0.24115407 0.01739704 0.43970721 0.91474633 0.79257562]], shape=(5, 5), device=gpu, requires_grad=True)}\n",
      "gpu\n"
     ]
    }
   ],
   "source": [
    "a = allison.tensor(np.random.rand(5,5), device=device,requires_grad=True)\n",
    "b = allison.tensor(np.random.rand(5,5), device=device,requires_grad=True)\n",
    "c = a + b\n",
    "print(c)\n",
    "print(c._prev)\n",
    "print(c.device)"
   ]
  }
 ],
 "metadata": {
  "kernelspec": {
   "display_name": "allison",
   "language": "python",
   "name": "python3"
  },
  "language_info": {
   "codemirror_mode": {
    "name": "ipython",
    "version": 3
   },
   "file_extension": ".py",
   "mimetype": "text/x-python",
   "name": "python",
   "nbconvert_exporter": "python",
   "pygments_lexer": "ipython3",
   "version": "3.12.3"
  }
 },
 "nbformat": 4,
 "nbformat_minor": 5
}
