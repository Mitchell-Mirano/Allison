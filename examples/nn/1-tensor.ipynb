{
 "cells": [
  {
   "cell_type": "code",
   "execution_count": 1,
   "id": "69c6dbfe",
   "metadata": {},
   "outputs": [],
   "source": [
    "\n",
    "import allison\n",
    "from allison.nn import Tensor,no_grad\n",
    "import numpy as np\n",
    "import pandas as pd"
   ]
  },
  {
   "cell_type": "markdown",
   "id": "69ba32ae",
   "metadata": {},
   "source": [
    "# Create a Tensor"
   ]
  },
  {
   "cell_type": "code",
   "execution_count": 2,
   "id": "f3bc580d",
   "metadata": {},
   "outputs": [
    {
     "data": {
      "text/plain": [
       "Tensor(\n",
       "[1 2 3], shape=(3,), device=cpu, requires_grad=False)"
      ]
     },
     "execution_count": 2,
     "metadata": {},
     "output_type": "execute_result"
    }
   ],
   "source": [
    "# from list\n",
    "tensor = Tensor([1,2,3])\n",
    "tensor"
   ]
  },
  {
   "cell_type": "code",
   "execution_count": 3,
   "id": "a6886854",
   "metadata": {},
   "outputs": [
    {
     "data": {
      "text/plain": [
       "(3,)"
      ]
     },
     "execution_count": 3,
     "metadata": {},
     "output_type": "execute_result"
    }
   ],
   "source": [
    "tensor.shape"
   ]
  },
  {
   "cell_type": "code",
   "execution_count": 4,
   "id": "650f7014",
   "metadata": {},
   "outputs": [
    {
     "data": {
      "text/plain": [
       "3"
      ]
     },
     "execution_count": 4,
     "metadata": {},
     "output_type": "execute_result"
    }
   ],
   "source": [
    "len(tensor)"
   ]
  },
  {
   "cell_type": "code",
   "execution_count": 5,
   "id": "b083b65e",
   "metadata": {},
   "outputs": [
    {
     "data": {
      "text/plain": [
       "Tensor(\n",
       "[[0.31860422 0.17129537 0.24963034 0.29322863 0.81899854]\n",
       " [0.42176095 0.06196362 0.62467747 0.88202152 0.25644612]\n",
       " [0.66476224 0.55857703 0.23217641 0.56813557 0.82094157]\n",
       " [0.56437097 0.86947272 0.26940274 0.61687043 0.81752769]\n",
       " [0.09323038 0.73855918 0.60620247 0.06706473 0.20377477]], shape=(5, 5), device=cpu, requires_grad=False)"
      ]
     },
     "execution_count": 5,
     "metadata": {},
     "output_type": "execute_result"
    }
   ],
   "source": [
    "#from numpy\n",
    "tensor = Tensor(np.random.rand(5,5))\n",
    "tensor"
   ]
  },
  {
   "cell_type": "code",
   "execution_count": 6,
   "id": "9717eabb",
   "metadata": {},
   "outputs": [
    {
     "data": {
      "text/plain": [
       "Tensor(\n",
       "[[0.464307 0.278199 0.793136 0.618634 0.729128]\n",
       " [0.182403 0.187902 0.957675 0.784397 0.467162]\n",
       " [0.664873 0.887387 0.035765 0.841349 0.687347]\n",
       " [0.906638 0.473387 0.639977 0.352944 0.432614]\n",
       " [0.725385 0.90451  0.622032 0.783273 0.980809]], shape=(5, 5), device=cpu, requires_grad=False)"
      ]
     },
     "execution_count": 6,
     "metadata": {},
     "output_type": "execute_result"
    }
   ],
   "source": [
    "# from pandas\n",
    "\n",
    "data = pd.DataFrame({\n",
    "    'a': [0.464307, 0.182403, 0.664873, 0.906638, 0.725385],\n",
    "    'b': [0.278199, 0.187902, 0.887387, 0.473387, 0.904510],\n",
    "    'c': [0.793136, 0.957675, 0.035765, 0.639977, 0.622032],\n",
    "    'd': [0.618634, 0.784397, 0.841349, 0.352944, 0.783273],\n",
    "    'e': [0.729128, 0.467162, 0.687347, 0.432614, 0.980809]\n",
    "})\n",
    "\n",
    "tensor = Tensor(data)\n",
    "tensor"
   ]
  },
  {
   "cell_type": "markdown",
   "id": "fbaf2f27",
   "metadata": {},
   "source": [
    "# Basic Operations"
   ]
  },
  {
   "cell_type": "code",
   "execution_count": 7,
   "id": "da7e74c4",
   "metadata": {},
   "outputs": [
    {
     "name": "stdout",
     "output_type": "stream",
     "text": [
      "Tensor(\n",
      "[1 2 3], shape=(3,), device=cpu, requires_grad=False)\n",
      "Tensor(\n",
      "[3 4 5], shape=(3,), device=cpu, requires_grad=False)\n"
     ]
    }
   ],
   "source": [
    "a = Tensor([1,2,3])\n",
    "b = Tensor([3,4,5])\n",
    "\n",
    "print(a)\n",
    "print(b)"
   ]
  },
  {
   "cell_type": "code",
   "execution_count": 8,
   "id": "8c03423f",
   "metadata": {},
   "outputs": [
    {
     "data": {
      "text/plain": [
       "Tensor(\n",
       "[4 6 8], shape=(3,), device=cpu, requires_grad=False)"
      ]
     },
     "execution_count": 8,
     "metadata": {},
     "output_type": "execute_result"
    }
   ],
   "source": [
    "c = a + b\n",
    "c"
   ]
  },
  {
   "cell_type": "code",
   "execution_count": 9,
   "id": "ae0dc8fd",
   "metadata": {},
   "outputs": [
    {
     "data": {
      "text/plain": [
       "Tensor(\n",
       "[-2 -2 -2], shape=(3,), device=cpu, requires_grad=False)"
      ]
     },
     "execution_count": 9,
     "metadata": {},
     "output_type": "execute_result"
    }
   ],
   "source": [
    "c = a - b\n",
    "c"
   ]
  },
  {
   "cell_type": "code",
   "execution_count": 10,
   "id": "f7782668",
   "metadata": {},
   "outputs": [
    {
     "data": {
      "text/plain": [
       "Tensor(\n",
       "[ 3  8 15], shape=(3,), device=cpu, requires_grad=False)"
      ]
     },
     "execution_count": 10,
     "metadata": {},
     "output_type": "execute_result"
    }
   ],
   "source": [
    "c = a * b\n",
    "c"
   ]
  },
  {
   "cell_type": "code",
   "execution_count": 11,
   "id": "64f7e3d2",
   "metadata": {},
   "outputs": [
    {
     "data": {
      "text/plain": [
       "Tensor(\n",
       "26, shape=(), device=cpu, requires_grad=False)"
      ]
     },
     "execution_count": 11,
     "metadata": {},
     "output_type": "execute_result"
    }
   ],
   "source": [
    "c = a@b\n",
    "c"
   ]
  },
  {
   "cell_type": "code",
   "execution_count": 12,
   "id": "b6c666b0",
   "metadata": {},
   "outputs": [
    {
     "data": {
      "text/plain": [
       "Tensor(\n",
       "[1 4 9], shape=(3,), device=cpu, requires_grad=False)"
      ]
     },
     "execution_count": 12,
     "metadata": {},
     "output_type": "execute_result"
    }
   ],
   "source": [
    "c = a**2\n",
    "c"
   ]
  },
  {
   "cell_type": "markdown",
   "id": "95ea6f34",
   "metadata": {},
   "source": [
    "# Spliting"
   ]
  },
  {
   "cell_type": "code",
   "execution_count": 13,
   "id": "4d727b57",
   "metadata": {},
   "outputs": [
    {
     "data": {
      "text/plain": [
       "Tensor(\n",
       "[[0.03880022 0.5788681  0.46676032 0.59714095 0.40847425]\n",
       " [0.13888555 0.45407452 0.12164524 0.10741359 0.13458307]\n",
       " [0.18504145 0.03072697 0.56205865 0.71894168 0.08123032]\n",
       " [0.09563451 0.87001816 0.41512356 0.16745698 0.42618203]\n",
       " [0.10162781 0.21195684 0.13985485 0.10944902 0.36798337]], shape=(5, 5), device=cpu, requires_grad=False)"
      ]
     },
     "execution_count": 13,
     "metadata": {},
     "output_type": "execute_result"
    }
   ],
   "source": [
    "a = Tensor(np.random.rand(5,5))\n",
    "a"
   ]
  },
  {
   "cell_type": "code",
   "execution_count": 14,
   "id": "a1906759",
   "metadata": {},
   "outputs": [
    {
     "data": {
      "text/plain": [
       "Tensor(\n",
       "[0.09563451 0.87001816 0.41512356 0.16745698 0.42618203], shape=(5,), device=cpu, requires_grad=False)"
      ]
     },
     "execution_count": 14,
     "metadata": {},
     "output_type": "execute_result"
    }
   ],
   "source": [
    "a[3,:]"
   ]
  },
  {
   "cell_type": "code",
   "execution_count": 15,
   "id": "53de44c0",
   "metadata": {},
   "outputs": [
    {
     "data": {
      "text/plain": [
       "Tensor(\n",
       "0.16745698262582076, shape=(), device=cpu, requires_grad=False)"
      ]
     },
     "execution_count": 15,
     "metadata": {},
     "output_type": "execute_result"
    }
   ],
   "source": [
    "a[3,3]"
   ]
  },
  {
   "cell_type": "code",
   "execution_count": 16,
   "id": "1c783c24",
   "metadata": {},
   "outputs": [
    {
     "data": {
      "text/plain": [
       "Tensor(\n",
       "[0.59714095 0.10741359 0.71894168 0.16745698 0.10944902], shape=(5,), device=cpu, requires_grad=False)"
      ]
     },
     "execution_count": 16,
     "metadata": {},
     "output_type": "execute_result"
    }
   ],
   "source": [
    "a[:,3]"
   ]
  },
  {
   "cell_type": "markdown",
   "id": "74852739",
   "metadata": {},
   "source": [
    "# Auto Grad"
   ]
  },
  {
   "cell_type": "code",
   "execution_count": 17,
   "id": "43903dd8",
   "metadata": {},
   "outputs": [
    {
     "name": "stdout",
     "output_type": "stream",
     "text": [
      "Tensor(\n",
      "[1 2 3], shape=(3,), device=cpu, requires_grad=True)\n",
      "grad(a) [0 0 0]\n"
     ]
    }
   ],
   "source": [
    "a = Tensor([1,2,3], requires_grad=True)\n",
    "print(a)\n",
    "print(f'grad(a) {a.grad}')"
   ]
  },
  {
   "cell_type": "code",
   "execution_count": 18,
   "id": "db1c1430",
   "metadata": {},
   "outputs": [
    {
     "name": "stdout",
     "output_type": "stream",
     "text": [
      "Tensor(\n",
      "[3 4 5], shape=(3,), device=cpu, requires_grad=True)\n",
      "grad(b) [0 0 0]\n"
     ]
    }
   ],
   "source": [
    "b = Tensor([3,4,5], requires_grad=True)\n",
    "print(b)\n",
    "print(f'grad(b) {b.grad}')"
   ]
  },
  {
   "cell_type": "code",
   "execution_count": 19,
   "id": "12756a04",
   "metadata": {},
   "outputs": [
    {
     "name": "stdout",
     "output_type": "stream",
     "text": [
      "Tensor(\n",
      "[4 6 8], shape=(3,), device=cpu, requires_grad=True)\n",
      "{Tensor(\n",
      "[1 2 3], shape=(3,), device=cpu, requires_grad=True), Tensor(\n",
      "[3 4 5], shape=(3,), device=cpu, requires_grad=True)}\n",
      "grad(c) [0 0 0]\n"
     ]
    }
   ],
   "source": [
    "c = a + b\n",
    "print(c)\n",
    "print(c._prev)\n",
    "print(f'grad(c) {c.grad}')"
   ]
  },
  {
   "cell_type": "code",
   "execution_count": 20,
   "id": "e4810a70",
   "metadata": {},
   "outputs": [
    {
     "name": "stdout",
     "output_type": "stream",
     "text": [
      "grad(a) [1 1 1]\n",
      "grad(b) [1 1 1]\n"
     ]
    }
   ],
   "source": [
    "c.backward()\n",
    "print(f'grad(a) {a.grad}')\n",
    "print(f'grad(b) {b.grad}')"
   ]
  },
  {
   "cell_type": "code",
   "execution_count": 21,
   "id": "7bef0159",
   "metadata": {},
   "outputs": [
    {
     "data": {
      "text/plain": [
       "set()"
      ]
     },
     "execution_count": 21,
     "metadata": {},
     "output_type": "execute_result"
    }
   ],
   "source": [
    "with no_grad():\n",
    "    a = Tensor([1,2,3], requires_grad=True)\n",
    "    b = Tensor([3,4,5], requires_grad=True)\n",
    "    c = a + b\n",
    "\n",
    "c._prev"
   ]
  },
  {
   "cell_type": "markdown",
   "id": "ad2e5786",
   "metadata": {},
   "source": [
    "# Using GPU"
   ]
  },
  {
   "cell_type": "code",
   "execution_count": 22,
   "id": "eced5473",
   "metadata": {},
   "outputs": [
    {
     "name": "stdout",
     "output_type": "stream",
     "text": [
      "Current GPU: NVIDIA GeForce RTX 4070 Laptop GPU\n",
      "CUDA runtime version: 13000\n",
      "CuPy version: 13.6.0\n"
     ]
    },
    {
     "data": {
      "text/plain": [
       "'gpu'"
      ]
     },
     "execution_count": 22,
     "metadata": {},
     "output_type": "execute_result"
    }
   ],
   "source": [
    "device = 'gpu' if allison.is_cuda_available() else 'cpu'\n",
    "device"
   ]
  },
  {
   "cell_type": "code",
   "execution_count": 23,
   "id": "ead52089",
   "metadata": {},
   "outputs": [
    {
     "name": "stdout",
     "output_type": "stream",
     "text": [
      "Tensor(\n",
      "[[1.24797537 1.66556173 1.67107847 1.29055    0.95989843]\n",
      " [1.01726447 1.80520796 1.47365013 0.49552864 1.26836448]\n",
      " [0.62981736 1.09959042 1.29228019 0.68304916 1.65954496]\n",
      " [0.49235684 0.79209163 1.6603502  0.81596813 0.90037381]\n",
      " [1.2571134  1.3391439  1.75969752 1.43919022 1.27865189]], shape=(5, 5), device=gpu, requires_grad=False)\n",
      "set()\n",
      "gpu\n"
     ]
    }
   ],
   "source": [
    "a = Tensor(np.random.rand(5,5), device=device)\n",
    "b = Tensor(np.random.rand(5,5), device=device)\n",
    "c = a + b\n",
    "print(c)\n",
    "print(c._prev)\n",
    "print(c.device)"
   ]
  },
  {
   "cell_type": "code",
   "execution_count": 24,
   "id": "d0abf03a",
   "metadata": {},
   "outputs": [
    {
     "name": "stdout",
     "output_type": "stream",
     "text": [
      "Tensor(\n",
      "[[0.78889659 0.6174487  1.62394412 0.59863671 0.43649237]\n",
      " [1.37616153 0.94625794 1.34525431 1.09788437 0.68287309]\n",
      " [0.44715904 1.08956758 0.77526438 0.38911335 0.9935127 ]\n",
      " [0.22459075 0.36240514 1.71828925 0.97456882 1.89462703]\n",
      " [0.77739141 0.66496929 1.2484758  1.61188459 0.68858161]], shape=(5, 5), device=gpu, requires_grad=True)\n",
      "{Tensor(\n",
      "[[0.54078005 0.28785271 0.79776526 0.09136004 0.09148428]\n",
      " [0.95353484 0.68332848 0.72086851 0.74824459 0.31493497]\n",
      " [0.20758296 0.29979507 0.288986   0.29105997 0.42799971]\n",
      " [0.19904288 0.13389404 0.91842881 0.49992116 0.95192458]\n",
      " [0.50570521 0.40126841 0.721743   0.9248738  0.34102821]], shape=(5, 5), device=gpu, requires_grad=True), Tensor(\n",
      "[[0.24811654 0.32959599 0.82617885 0.50727667 0.34500809]\n",
      " [0.4226267  0.26292946 0.6243858  0.34963977 0.36793812]\n",
      " [0.23957607 0.78977251 0.48627838 0.09805338 0.56551299]\n",
      " [0.02554787 0.2285111  0.79986044 0.47464766 0.94270245]\n",
      " [0.2716862  0.26370089 0.5267328  0.68701079 0.34755341]], shape=(5, 5), device=gpu, requires_grad=True)}\n",
      "gpu\n"
     ]
    }
   ],
   "source": [
    "a = Tensor(np.random.rand(5,5), device=device,requires_grad=True)\n",
    "b = Tensor(np.random.rand(5,5), device=device,requires_grad=True)\n",
    "c = a + b\n",
    "print(c)\n",
    "print(c._prev)\n",
    "print(c.device)"
   ]
  }
 ],
 "metadata": {
  "kernelspec": {
   "display_name": "allison",
   "language": "python",
   "name": "python3"
  },
  "language_info": {
   "codemirror_mode": {
    "name": "ipython",
    "version": 3
   },
   "file_extension": ".py",
   "mimetype": "text/x-python",
   "name": "python",
   "nbconvert_exporter": "python",
   "pygments_lexer": "ipython3",
   "version": "3.12.3"
  }
 },
 "nbformat": 4,
 "nbformat_minor": 5
}
