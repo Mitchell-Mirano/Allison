{
 "cells": [
  {
   "cell_type": "code",
   "execution_count": 1,
   "id": "970d15a5",
   "metadata": {},
   "outputs": [],
   "source": [
    "%reload_ext autoreload\n",
    "%autoreload 2"
   ]
  },
  {
   "cell_type": "code",
   "execution_count": 2,
   "id": "69c6dbfe",
   "metadata": {},
   "outputs": [],
   "source": [
    "import allison\n",
    "import numpy as np\n",
    "import pandas as pd"
   ]
  },
  {
   "cell_type": "markdown",
   "id": "69ba32ae",
   "metadata": {},
   "source": [
    "# Create a Tensor"
   ]
  },
  {
   "cell_type": "code",
   "execution_count": 3,
   "id": "f3bc580d",
   "metadata": {},
   "outputs": [
    {
     "ename": "AttributeError",
     "evalue": "'list' object has no attribute 'ndim'",
     "output_type": "error",
     "traceback": [
      "\u001b[31m---------------------------------------------------------------------------\u001b[39m",
      "\u001b[31mAttributeError\u001b[39m                            Traceback (most recent call last)",
      "\u001b[36mCell\u001b[39m\u001b[36m \u001b[39m\u001b[32mIn[3]\u001b[39m\u001b[32m, line 2\u001b[39m\n\u001b[32m      1\u001b[39m \u001b[38;5;66;03m# from list\u001b[39;00m\n\u001b[32m----> \u001b[39m\u001b[32m2\u001b[39m a = \u001b[43mallison\u001b[49m\u001b[43m.\u001b[49m\u001b[43mtensor\u001b[49m\u001b[43m(\u001b[49m\u001b[43m[\u001b[49m\u001b[32;43m1\u001b[39;49m\u001b[43m,\u001b[49m\u001b[32;43m2\u001b[39;49m\u001b[43m,\u001b[49m\u001b[32;43m3\u001b[39;49m\u001b[43m]\u001b[49m\u001b[43m)\u001b[49m\n\u001b[32m      3\u001b[39m a\n",
      "\u001b[36mFile \u001b[39m\u001b[32m~/Desktop/MitchellProjects/Allison/allison/tensor/tensor.py:38\u001b[39m, in \u001b[36mtensor.__init__\u001b[39m\u001b[34m(self, data, _children, _op, device, requires_grad)\u001b[39m\n\u001b[32m     34\u001b[39m xp = cp \u001b[38;5;28;01mif\u001b[39;00m (device == \u001b[33m'\u001b[39m\u001b[33mgpu\u001b[39m\u001b[33m'\u001b[39m \u001b[38;5;129;01mand\u001b[39;00m _cupy_available) \u001b[38;5;28;01melse\u001b[39;00m np\n\u001b[32m     36\u001b[39m \u001b[38;5;28;01mif\u001b[39;00m \u001b[38;5;28misinstance\u001b[39m(data, (\u001b[38;5;28mlist\u001b[39m, \u001b[38;5;28mtuple\u001b[39m,np.ndarray,pd.DataFrame, pd.Series)):\n\u001b[32m---> \u001b[39m\u001b[32m38\u001b[39m     \u001b[38;5;28;01mif\u001b[39;00m \u001b[43mdata\u001b[49m\u001b[43m.\u001b[49m\u001b[43mndim\u001b[49m == \u001b[32m1\u001b[39m:\n\u001b[32m     40\u001b[39m         data = data.reshape(-\u001b[32m1\u001b[39m,\u001b[32m1\u001b[39m)\n\u001b[32m     42\u001b[39m     data = xp.array(data)\n",
      "\u001b[31mAttributeError\u001b[39m: 'list' object has no attribute 'ndim'"
     ]
    }
   ],
   "source": [
    "# from list\n",
    "a = allison.tensor([1,2,3])\n",
    "a"
   ]
  },
  {
   "cell_type": "code",
   "execution_count": null,
   "id": "a6886854",
   "metadata": {},
   "outputs": [
    {
     "data": {
      "text/plain": [
       "(3,)"
      ]
     },
     "execution_count": 31,
     "metadata": {},
     "output_type": "execute_result"
    }
   ],
   "source": [
    "a.shape"
   ]
  },
  {
   "cell_type": "code",
   "execution_count": null,
   "id": "650f7014",
   "metadata": {},
   "outputs": [
    {
     "data": {
      "text/plain": [
       "3"
      ]
     },
     "execution_count": 32,
     "metadata": {},
     "output_type": "execute_result"
    }
   ],
   "source": [
    "len(a)"
   ]
  },
  {
   "cell_type": "code",
   "execution_count": null,
   "id": "b083b65e",
   "metadata": {},
   "outputs": [
    {
     "data": {
      "text/plain": [
       "Tensor(\n",
       "[[0.39025542 0.56914096 0.18616635 0.67153407 0.43433586]\n",
       " [0.67608829 0.53197853 0.37680726 0.81839682 0.34947871]\n",
       " [0.82384394 0.6709698  0.50089118 0.33923826 0.68138901]\n",
       " [0.59522274 0.447798   0.67441466 0.4593417  0.57461077]\n",
       " [0.69957821 0.65187965 0.25121701 0.09584873 0.77833419]], shape=(5, 5), device=cpu, requires_grad=False)"
      ]
     },
     "execution_count": 33,
     "metadata": {},
     "output_type": "execute_result"
    }
   ],
   "source": [
    "#from numpy\n",
    "a = allison.tensor(np.random.rand(5,5))\n",
    "a"
   ]
  },
  {
   "cell_type": "code",
   "execution_count": null,
   "id": "9717eabb",
   "metadata": {},
   "outputs": [
    {
     "data": {
      "text/plain": [
       "Tensor(\n",
       "[[0.464307 0.278199 0.793136 0.618634 0.729128]\n",
       " [0.182403 0.187902 0.957675 0.784397 0.467162]\n",
       " [0.664873 0.887387 0.035765 0.841349 0.687347]\n",
       " [0.906638 0.473387 0.639977 0.352944 0.432614]\n",
       " [0.725385 0.90451  0.622032 0.783273 0.980809]], shape=(5, 5), device=cpu, requires_grad=False)"
      ]
     },
     "execution_count": 34,
     "metadata": {},
     "output_type": "execute_result"
    }
   ],
   "source": [
    "# from pandas\n",
    "\n",
    "data = pd.DataFrame({\n",
    "    'a': [0.464307, 0.182403, 0.664873, 0.906638, 0.725385],\n",
    "    'b': [0.278199, 0.187902, 0.887387, 0.473387, 0.904510],\n",
    "    'c': [0.793136, 0.957675, 0.035765, 0.639977, 0.622032],\n",
    "    'd': [0.618634, 0.784397, 0.841349, 0.352944, 0.783273],\n",
    "    'e': [0.729128, 0.467162, 0.687347, 0.432614, 0.980809]\n",
    "})\n",
    "\n",
    "t = allison.tensor(data)\n",
    "t"
   ]
  },
  {
   "cell_type": "markdown",
   "id": "fbaf2f27",
   "metadata": {},
   "source": [
    "# Basic Operations"
   ]
  },
  {
   "cell_type": "code",
   "execution_count": null,
   "id": "da7e74c4",
   "metadata": {},
   "outputs": [
    {
     "name": "stdout",
     "output_type": "stream",
     "text": [
      "Tensor(\n",
      "[1 2 3], shape=(3,), device=cpu, requires_grad=False)\n",
      "Tensor(\n",
      "[3 4 5], shape=(3,), device=cpu, requires_grad=False)\n"
     ]
    }
   ],
   "source": [
    "a = allison.tensor([1,2,3])\n",
    "b = allison.tensor([3,4,5])\n",
    "\n",
    "print(a)\n",
    "print(b)"
   ]
  },
  {
   "cell_type": "code",
   "execution_count": null,
   "id": "8c03423f",
   "metadata": {},
   "outputs": [
    {
     "data": {
      "text/plain": [
       "Tensor(\n",
       "[4 6 8], shape=(3,), device=cpu, requires_grad=False)"
      ]
     },
     "execution_count": 36,
     "metadata": {},
     "output_type": "execute_result"
    }
   ],
   "source": [
    "c = a + b\n",
    "c"
   ]
  },
  {
   "cell_type": "code",
   "execution_count": null,
   "id": "ae0dc8fd",
   "metadata": {},
   "outputs": [
    {
     "data": {
      "text/plain": [
       "Tensor(\n",
       "[-2 -2 -2], shape=(3,), device=cpu, requires_grad=False)"
      ]
     },
     "execution_count": 37,
     "metadata": {},
     "output_type": "execute_result"
    }
   ],
   "source": [
    "c = a - b\n",
    "c"
   ]
  },
  {
   "cell_type": "code",
   "execution_count": null,
   "id": "f7782668",
   "metadata": {},
   "outputs": [
    {
     "data": {
      "text/plain": [
       "Tensor(\n",
       "[ 3  8 15], shape=(3,), device=cpu, requires_grad=False)"
      ]
     },
     "execution_count": 38,
     "metadata": {},
     "output_type": "execute_result"
    }
   ],
   "source": [
    "c = a * b\n",
    "c"
   ]
  },
  {
   "cell_type": "code",
   "execution_count": null,
   "id": "64f7e3d2",
   "metadata": {},
   "outputs": [
    {
     "data": {
      "text/plain": [
       "Tensor(\n",
       "26, shape=(), device=cpu, requires_grad=False)"
      ]
     },
     "execution_count": 39,
     "metadata": {},
     "output_type": "execute_result"
    }
   ],
   "source": [
    "c = a@b\n",
    "c"
   ]
  },
  {
   "cell_type": "code",
   "execution_count": null,
   "id": "b6c666b0",
   "metadata": {},
   "outputs": [
    {
     "data": {
      "text/plain": [
       "Tensor(\n",
       "[1 4 9], shape=(3,), device=cpu, requires_grad=False)"
      ]
     },
     "execution_count": 40,
     "metadata": {},
     "output_type": "execute_result"
    }
   ],
   "source": [
    "c = a**2\n",
    "c"
   ]
  },
  {
   "cell_type": "markdown",
   "id": "95ea6f34",
   "metadata": {},
   "source": [
    "# Spliting"
   ]
  },
  {
   "cell_type": "code",
   "execution_count": null,
   "id": "4d727b57",
   "metadata": {},
   "outputs": [
    {
     "data": {
      "text/plain": [
       "Tensor(\n",
       "[[0.84559688 0.20271491 0.64687423 0.48315009 0.49974395]\n",
       " [0.11771543 0.88000536 0.03918164 0.12718864 0.94091655]\n",
       " [0.78854579 0.43619784 0.5707309  0.86808068 0.66866391]\n",
       " [0.55577279 0.13955017 0.9297074  0.79283322 0.22979786]\n",
       " [0.80722598 0.9781505  0.97778922 0.08570376 0.07322975]], shape=(5, 5), device=cpu, requires_grad=False)"
      ]
     },
     "execution_count": 41,
     "metadata": {},
     "output_type": "execute_result"
    }
   ],
   "source": [
    "a = allison.tensor(np.random.rand(5,5))\n",
    "a"
   ]
  },
  {
   "cell_type": "code",
   "execution_count": null,
   "id": "a1906759",
   "metadata": {},
   "outputs": [
    {
     "data": {
      "text/plain": [
       "Tensor(\n",
       "[0.55577279 0.13955017 0.9297074  0.79283322 0.22979786], shape=(5,), device=cpu, requires_grad=False)"
      ]
     },
     "execution_count": 42,
     "metadata": {},
     "output_type": "execute_result"
    }
   ],
   "source": [
    "a[3,:]"
   ]
  },
  {
   "cell_type": "code",
   "execution_count": null,
   "id": "53de44c0",
   "metadata": {},
   "outputs": [
    {
     "data": {
      "text/plain": [
       "Tensor(\n",
       "0.7928332165581825, shape=(), device=cpu, requires_grad=False)"
      ]
     },
     "execution_count": 43,
     "metadata": {},
     "output_type": "execute_result"
    }
   ],
   "source": [
    "a[3,3]"
   ]
  },
  {
   "cell_type": "code",
   "execution_count": null,
   "id": "1c783c24",
   "metadata": {},
   "outputs": [
    {
     "data": {
      "text/plain": [
       "Tensor(\n",
       "[0.48315009 0.12718864 0.86808068 0.79283322 0.08570376], shape=(5,), device=cpu, requires_grad=False)"
      ]
     },
     "execution_count": 44,
     "metadata": {},
     "output_type": "execute_result"
    }
   ],
   "source": [
    "a[:,3]"
   ]
  },
  {
   "cell_type": "markdown",
   "id": "74852739",
   "metadata": {},
   "source": [
    "# Auto Grad"
   ]
  },
  {
   "cell_type": "code",
   "execution_count": null,
   "id": "43903dd8",
   "metadata": {},
   "outputs": [
    {
     "name": "stdout",
     "output_type": "stream",
     "text": [
      "Tensor(\n",
      "[1 2 3], shape=(3,), device=cpu, requires_grad=True)\n",
      "grad(a) [0 0 0]\n"
     ]
    }
   ],
   "source": [
    "a = allison.tensor([1,2,3], requires_grad=True)\n",
    "print(a)\n",
    "print(f'grad(a) {a.grad}')"
   ]
  },
  {
   "cell_type": "code",
   "execution_count": null,
   "id": "db1c1430",
   "metadata": {},
   "outputs": [
    {
     "name": "stdout",
     "output_type": "stream",
     "text": [
      "Tensor(\n",
      "[3 4 5], shape=(3,), device=cpu, requires_grad=True)\n",
      "grad(b) [0 0 0]\n"
     ]
    }
   ],
   "source": [
    "b =allison.tensor([3,4,5], requires_grad=True)\n",
    "print(b)\n",
    "print(f'grad(b) {b.grad}')"
   ]
  },
  {
   "cell_type": "code",
   "execution_count": null,
   "id": "12756a04",
   "metadata": {},
   "outputs": [
    {
     "name": "stdout",
     "output_type": "stream",
     "text": [
      "Tensor(\n",
      "[4 6 8], shape=(3,), device=cpu, requires_grad=True)\n",
      "{Tensor(\n",
      "[3 4 5], shape=(3,), device=cpu, requires_grad=True), Tensor(\n",
      "[1 2 3], shape=(3,), device=cpu, requires_grad=True)}\n",
      "grad(a) [0 0 0]\n",
      "grad(b) [0 0 0]\n"
     ]
    }
   ],
   "source": [
    "c = a + b\n",
    "print(c)\n",
    "print(c._prev)\n",
    "print(f'grad(a) {a.grad}')\n",
    "print(f'grad(b) {b.grad}')"
   ]
  },
  {
   "cell_type": "code",
   "execution_count": null,
   "id": "e4810a70",
   "metadata": {},
   "outputs": [
    {
     "name": "stdout",
     "output_type": "stream",
     "text": [
      "grad(a) [1 1 1]\n",
      "grad(b) [1 1 1]\n"
     ]
    }
   ],
   "source": [
    "c.backward()\n",
    "print(f'grad(a) {a.grad}')\n",
    "print(f'grad(b) {b.grad}')"
   ]
  },
  {
   "cell_type": "code",
   "execution_count": null,
   "id": "7bef0159",
   "metadata": {},
   "outputs": [
    {
     "data": {
      "text/plain": [
       "set()"
      ]
     },
     "execution_count": 49,
     "metadata": {},
     "output_type": "execute_result"
    }
   ],
   "source": [
    "with allison.no_grad():\n",
    "    a = allison.tensor([1,2,3], requires_grad=True)\n",
    "    b = allison.tensor([3,4,5], requires_grad=True)\n",
    "    c = a + b\n",
    "\n",
    "c._prev"
   ]
  },
  {
   "cell_type": "markdown",
   "id": "ad2e5786",
   "metadata": {},
   "source": [
    "# Using GPU"
   ]
  },
  {
   "cell_type": "code",
   "execution_count": null,
   "id": "eced5473",
   "metadata": {},
   "outputs": [
    {
     "name": "stdout",
     "output_type": "stream",
     "text": [
      "Current GPU: NVIDIA GeForce RTX 4070 Laptop GPU\n",
      "CUDA runtime version: 13000\n",
      "CuPy version: 13.6.0\n"
     ]
    },
    {
     "data": {
      "text/plain": [
       "'gpu'"
      ]
     },
     "execution_count": 50,
     "metadata": {},
     "output_type": "execute_result"
    }
   ],
   "source": [
    "device = 'gpu' if allison.cuda.is_available() else 'cpu'\n",
    "device"
   ]
  },
  {
   "cell_type": "code",
   "execution_count": null,
   "id": "ead52089",
   "metadata": {},
   "outputs": [
    {
     "name": "stdout",
     "output_type": "stream",
     "text": [
      "Tensor(\n",
      "[[1.505506   0.09168354 1.0971053  0.97410807 1.60565707]\n",
      " [1.35088171 1.39570559 1.24320245 0.41986138 0.95479265]\n",
      " [0.51651528 0.77108142 0.85257745 1.33497174 0.81564492]\n",
      " [1.80073228 0.94274162 0.96458054 1.21810571 0.51665486]\n",
      " [0.93470475 1.27653038 1.69220346 1.16747423 0.45014258]], shape=(5, 5), device=gpu, requires_grad=False)\n",
      "set()\n",
      "gpu\n"
     ]
    }
   ],
   "source": [
    "a = allison.tensor(np.random.rand(5,5), device=device)\n",
    "b = allison.tensor(np.random.rand(5,5), device=device)\n",
    "c = a + b\n",
    "print(c)\n",
    "print(c._prev)\n",
    "print(c.device)"
   ]
  },
  {
   "cell_type": "code",
   "execution_count": null,
   "id": "d0abf03a",
   "metadata": {},
   "outputs": [
    {
     "name": "stdout",
     "output_type": "stream",
     "text": [
      "Tensor(\n",
      "[[1.40964729 0.95398749 0.58750206 0.98880084 1.15719503]\n",
      " [1.7721483  1.28522    1.58005137 0.20603527 0.81712912]\n",
      " [0.5192179  1.04110505 0.80356012 0.54373299 0.84753315]\n",
      " [1.3657009  0.62737733 0.874699   0.99855389 1.56754428]\n",
      " [1.81366713 0.85011372 0.99829412 0.49636736 0.98224201]], shape=(5, 5), device=gpu, requires_grad=True)\n",
      "{Tensor(\n",
      "[[0.4389974  0.09830151 0.41418217 0.96765038 0.21167338]\n",
      " [0.98769264 0.59713931 0.61873129 0.16281722 0.55243285]\n",
      " [0.06522504 0.88926413 0.19440218 0.53348259 0.62771275]\n",
      " [0.55016559 0.61314764 0.01471125 0.14064524 0.82535731]\n",
      " [0.95549961 0.43985206 0.29162295 0.08172781 0.58117971]], shape=(5, 5), device=gpu, requires_grad=True), Tensor(\n",
      "[[0.97064989 0.85568598 0.17331988 0.02115046 0.94552165]\n",
      " [0.78445566 0.68808068 0.96132008 0.04321806 0.26469627]\n",
      " [0.45399285 0.15184092 0.60915794 0.0102504  0.2198204 ]\n",
      " [0.81553532 0.01422969 0.85998775 0.85790865 0.74218697]\n",
      " [0.85816753 0.41026166 0.70667117 0.41463956 0.40106229]], shape=(5, 5), device=gpu, requires_grad=True)}\n",
      "gpu\n"
     ]
    }
   ],
   "source": [
    "a = allison.tensor(np.random.rand(5,5), device=device,requires_grad=True)\n",
    "b = allison.tensor(np.random.rand(5,5), device=device,requires_grad=True)\n",
    "c = a + b\n",
    "print(c)\n",
    "print(c._prev)\n",
    "print(c.device)"
   ]
  }
 ],
 "metadata": {
  "kernelspec": {
   "display_name": "allison",
   "language": "python",
   "name": "python3"
  },
  "language_info": {
   "codemirror_mode": {
    "name": "ipython",
    "version": 3
   },
   "file_extension": ".py",
   "mimetype": "text/x-python",
   "name": "python",
   "nbconvert_exporter": "python",
   "pygments_lexer": "ipython3",
   "version": "3.12.3"
  }
 },
 "nbformat": 4,
 "nbformat_minor": 5
}
