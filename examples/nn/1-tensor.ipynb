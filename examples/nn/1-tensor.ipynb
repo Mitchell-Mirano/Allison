{
 "cells": [
  {
   "cell_type": "markdown",
   "id": "a1476a24",
   "metadata": {},
   "source": [
    "[![Open In Colab](https://colab.research.google.com/assets/colab-badge.svg)](https://colab.research.google.com/github/Mitchell-Mirano/Allison/blob/develop/examples/nn/1-tensor.ipynb)\n"
   ]
  },
  {
   "cell_type": "code",
   "execution_count": 54,
   "id": "970d15a5",
   "metadata": {},
   "outputs": [],
   "source": [
    "%reload_ext autoreload\n",
    "%autoreload 2"
   ]
  },
  {
   "cell_type": "code",
   "execution_count": 55,
   "id": "69c6dbfe",
   "metadata": {},
   "outputs": [],
   "source": [
    "import allison\n",
    "import numpy as np\n",
    "import pandas as pd"
   ]
  },
  {
   "cell_type": "markdown",
   "id": "69ba32ae",
   "metadata": {},
   "source": [
    "# Create a Tensor"
   ]
  },
  {
   "cell_type": "code",
   "execution_count": 56,
   "id": "f3bc580d",
   "metadata": {},
   "outputs": [
    {
     "data": {
      "text/plain": [
       "Tensor(\n",
       "[1 2 3], shape=(3,), device=cpu, requires_grad=False)"
      ]
     },
     "execution_count": 56,
     "metadata": {},
     "output_type": "execute_result"
    }
   ],
   "source": [
    "# from list\n",
    "a = allison.tensor([1,2,3])\n",
    "a"
   ]
  },
  {
   "cell_type": "code",
   "execution_count": 57,
   "id": "a6886854",
   "metadata": {},
   "outputs": [
    {
     "data": {
      "text/plain": [
       "(3,)"
      ]
     },
     "execution_count": 57,
     "metadata": {},
     "output_type": "execute_result"
    }
   ],
   "source": [
    "a.shape"
   ]
  },
  {
   "cell_type": "code",
   "execution_count": 58,
   "id": "650f7014",
   "metadata": {},
   "outputs": [
    {
     "data": {
      "text/plain": [
       "3"
      ]
     },
     "execution_count": 58,
     "metadata": {},
     "output_type": "execute_result"
    }
   ],
   "source": [
    "len(a)"
   ]
  },
  {
   "cell_type": "code",
   "execution_count": 59,
   "id": "b083b65e",
   "metadata": {},
   "outputs": [
    {
     "data": {
      "text/plain": [
       "Tensor(\n",
       "[[0.92931769 0.66331231 0.29267587 0.35480465 0.95797617]\n",
       " [0.64592045 0.6297462  0.38657981 0.05459379 0.72185996]\n",
       " [0.79540716 0.3483396  0.31532206 0.31431217 0.4321838 ]\n",
       " [0.47836747 0.67245849 0.71244938 0.16344985 0.85738276]\n",
       " [0.96042974 0.27439647 0.4109225  0.3784135  0.18356263]], shape=(5, 5), device=cpu, requires_grad=False)"
      ]
     },
     "execution_count": 59,
     "metadata": {},
     "output_type": "execute_result"
    }
   ],
   "source": [
    "#from numpy\n",
    "a = allison.tensor(np.random.rand(5,5))\n",
    "a"
   ]
  },
  {
   "cell_type": "code",
   "execution_count": 60,
   "id": "9717eabb",
   "metadata": {},
   "outputs": [
    {
     "data": {
      "text/plain": [
       "Tensor(\n",
       "[[0.464307 0.278199 0.793136 0.618634 0.729128]\n",
       " [0.182403 0.187902 0.957675 0.784397 0.467162]\n",
       " [0.664873 0.887387 0.035765 0.841349 0.687347]\n",
       " [0.906638 0.473387 0.639977 0.352944 0.432614]\n",
       " [0.725385 0.90451  0.622032 0.783273 0.980809]], shape=(5, 5), device=cpu, requires_grad=False)"
      ]
     },
     "execution_count": 60,
     "metadata": {},
     "output_type": "execute_result"
    }
   ],
   "source": [
    "# from pandas\n",
    "\n",
    "data = pd.DataFrame({\n",
    "    'a': [0.464307, 0.182403, 0.664873, 0.906638, 0.725385],\n",
    "    'b': [0.278199, 0.187902, 0.887387, 0.473387, 0.904510],\n",
    "    'c': [0.793136, 0.957675, 0.035765, 0.639977, 0.622032],\n",
    "    'd': [0.618634, 0.784397, 0.841349, 0.352944, 0.783273],\n",
    "    'e': [0.729128, 0.467162, 0.687347, 0.432614, 0.980809]\n",
    "})\n",
    "\n",
    "t = allison.tensor(data)\n",
    "t"
   ]
  },
  {
   "cell_type": "markdown",
   "id": "fbaf2f27",
   "metadata": {},
   "source": [
    "# Basic Operations"
   ]
  },
  {
   "cell_type": "code",
   "execution_count": 61,
   "id": "da7e74c4",
   "metadata": {},
   "outputs": [
    {
     "name": "stdout",
     "output_type": "stream",
     "text": [
      "Tensor(\n",
      "[1 2 3], shape=(3,), device=cpu, requires_grad=False)\n",
      "Tensor(\n",
      "[3 4 5], shape=(3,), device=cpu, requires_grad=False)\n"
     ]
    }
   ],
   "source": [
    "a = allison.tensor([1,2,3])\n",
    "b = allison.tensor([3,4,5])\n",
    "\n",
    "print(a)\n",
    "print(b)"
   ]
  },
  {
   "cell_type": "code",
   "execution_count": 62,
   "id": "8c03423f",
   "metadata": {},
   "outputs": [
    {
     "data": {
      "text/plain": [
       "Tensor(\n",
       "[4 6 8], shape=(3,), device=cpu, requires_grad=False)"
      ]
     },
     "execution_count": 62,
     "metadata": {},
     "output_type": "execute_result"
    }
   ],
   "source": [
    "c = a + b\n",
    "c"
   ]
  },
  {
   "cell_type": "code",
   "execution_count": 63,
   "id": "ae0dc8fd",
   "metadata": {},
   "outputs": [
    {
     "data": {
      "text/plain": [
       "Tensor(\n",
       "[-2 -2 -2], shape=(3,), device=cpu, requires_grad=False)"
      ]
     },
     "execution_count": 63,
     "metadata": {},
     "output_type": "execute_result"
    }
   ],
   "source": [
    "c = a - b\n",
    "c"
   ]
  },
  {
   "cell_type": "code",
   "execution_count": 64,
   "id": "f7782668",
   "metadata": {},
   "outputs": [
    {
     "data": {
      "text/plain": [
       "Tensor(\n",
       "[ 3  8 15], shape=(3,), device=cpu, requires_grad=False)"
      ]
     },
     "execution_count": 64,
     "metadata": {},
     "output_type": "execute_result"
    }
   ],
   "source": [
    "c = a * b\n",
    "c"
   ]
  },
  {
   "cell_type": "code",
   "execution_count": 65,
   "id": "64f7e3d2",
   "metadata": {},
   "outputs": [
    {
     "data": {
      "text/plain": [
       "Tensor(\n",
       "26, shape=(), device=cpu, requires_grad=False)"
      ]
     },
     "execution_count": 65,
     "metadata": {},
     "output_type": "execute_result"
    }
   ],
   "source": [
    "c = a@b\n",
    "c"
   ]
  },
  {
   "cell_type": "code",
   "execution_count": 66,
   "id": "b6c666b0",
   "metadata": {},
   "outputs": [
    {
     "data": {
      "text/plain": [
       "Tensor(\n",
       "[1 4 9], shape=(3,), device=cpu, requires_grad=False)"
      ]
     },
     "execution_count": 66,
     "metadata": {},
     "output_type": "execute_result"
    }
   ],
   "source": [
    "c = a**2\n",
    "c"
   ]
  },
  {
   "cell_type": "markdown",
   "id": "95ea6f34",
   "metadata": {},
   "source": [
    "# Spliting"
   ]
  },
  {
   "cell_type": "code",
   "execution_count": 67,
   "id": "4d727b57",
   "metadata": {},
   "outputs": [
    {
     "data": {
      "text/plain": [
       "Tensor(\n",
       "[[0.6888692  0.2820976  0.69341251 0.0904528  0.18347662]\n",
       " [0.43061426 0.3411566  0.446861   0.05712607 0.84945014]\n",
       " [0.84943604 0.7211343  0.04487242 0.3878999  0.04291168]\n",
       " [0.09008654 0.29542021 0.769002   0.57331906 0.96670778]\n",
       " [0.85035639 0.98254437 0.50718066 0.95656938 0.12013774]], shape=(5, 5), device=cpu, requires_grad=False)"
      ]
     },
     "execution_count": 67,
     "metadata": {},
     "output_type": "execute_result"
    }
   ],
   "source": [
    "a = allison.tensor(np.random.rand(5,5))\n",
    "a"
   ]
  },
  {
   "cell_type": "code",
   "execution_count": 68,
   "id": "a1906759",
   "metadata": {},
   "outputs": [
    {
     "data": {
      "text/plain": [
       "Tensor(\n",
       "[0.09008654 0.29542021 0.769002   0.57331906 0.96670778], shape=(5,), device=cpu, requires_grad=False)"
      ]
     },
     "execution_count": 68,
     "metadata": {},
     "output_type": "execute_result"
    }
   ],
   "source": [
    "a[3,:]"
   ]
  },
  {
   "cell_type": "code",
   "execution_count": 69,
   "id": "53de44c0",
   "metadata": {},
   "outputs": [
    {
     "data": {
      "text/plain": [
       "Tensor(\n",
       "0.5733190563667947, shape=(), device=cpu, requires_grad=False)"
      ]
     },
     "execution_count": 69,
     "metadata": {},
     "output_type": "execute_result"
    }
   ],
   "source": [
    "a[3,3]"
   ]
  },
  {
   "cell_type": "code",
   "execution_count": 70,
   "id": "1c783c24",
   "metadata": {},
   "outputs": [
    {
     "data": {
      "text/plain": [
       "Tensor(\n",
       "[0.0904528  0.05712607 0.3878999  0.57331906 0.95656938], shape=(5,), device=cpu, requires_grad=False)"
      ]
     },
     "execution_count": 70,
     "metadata": {},
     "output_type": "execute_result"
    }
   ],
   "source": [
    "a[:,3]"
   ]
  },
  {
   "cell_type": "markdown",
   "id": "74852739",
   "metadata": {},
   "source": [
    "# Auto Grad"
   ]
  },
  {
   "cell_type": "code",
   "execution_count": 71,
   "id": "43903dd8",
   "metadata": {},
   "outputs": [
    {
     "name": "stdout",
     "output_type": "stream",
     "text": [
      "Tensor(\n",
      "[1 2 3], shape=(3,), device=cpu, requires_grad=True)\n",
      "grad(a) [0 0 0]\n"
     ]
    }
   ],
   "source": [
    "a = allison.tensor([1,2,3], requires_grad=True)\n",
    "print(a)\n",
    "print(f'grad(a) {a.grad}')"
   ]
  },
  {
   "cell_type": "code",
   "execution_count": 72,
   "id": "db1c1430",
   "metadata": {},
   "outputs": [
    {
     "name": "stdout",
     "output_type": "stream",
     "text": [
      "Tensor(\n",
      "[3 4 5], shape=(3,), device=cpu, requires_grad=True)\n",
      "grad(b) [0 0 0]\n"
     ]
    }
   ],
   "source": [
    "b =allison.tensor([3,4,5], requires_grad=True)\n",
    "print(b)\n",
    "print(f'grad(b) {b.grad}')"
   ]
  },
  {
   "cell_type": "code",
   "execution_count": 73,
   "id": "12756a04",
   "metadata": {},
   "outputs": [
    {
     "name": "stdout",
     "output_type": "stream",
     "text": [
      "Tensor(\n",
      "[4 6 8], shape=(3,), device=cpu, requires_grad=True)\n",
      "{Tensor(\n",
      "[1 2 3], shape=(3,), device=cpu, requires_grad=True), Tensor(\n",
      "[3 4 5], shape=(3,), device=cpu, requires_grad=True)}\n",
      "grad(a) [0 0 0]\n",
      "grad(b) [0 0 0]\n"
     ]
    }
   ],
   "source": [
    "c = a + b\n",
    "print(c)\n",
    "print(c._prev)\n",
    "print(f'grad(a) {a.grad}')\n",
    "print(f'grad(b) {b.grad}')"
   ]
  },
  {
   "cell_type": "code",
   "execution_count": 74,
   "id": "e4810a70",
   "metadata": {},
   "outputs": [
    {
     "name": "stdout",
     "output_type": "stream",
     "text": [
      "grad(a) [1 1 1]\n",
      "grad(b) [1 1 1]\n"
     ]
    }
   ],
   "source": [
    "c.backward()\n",
    "print(f'grad(a) {a.grad}')\n",
    "print(f'grad(b) {b.grad}')"
   ]
  },
  {
   "cell_type": "code",
   "execution_count": 75,
   "id": "7bef0159",
   "metadata": {},
   "outputs": [
    {
     "data": {
      "text/plain": [
       "set()"
      ]
     },
     "execution_count": 75,
     "metadata": {},
     "output_type": "execute_result"
    }
   ],
   "source": [
    "with allison.no_grad():\n",
    "    a = allison.tensor([1,2,3], requires_grad=True)\n",
    "    b = allison.tensor([3,4,5], requires_grad=True)\n",
    "    c = a + b\n",
    "\n",
    "c._prev"
   ]
  },
  {
   "cell_type": "markdown",
   "id": "ad2e5786",
   "metadata": {},
   "source": [
    "# Using GPU"
   ]
  },
  {
   "cell_type": "code",
   "execution_count": 76,
   "id": "eced5473",
   "metadata": {},
   "outputs": [
    {
     "name": "stdout",
     "output_type": "stream",
     "text": [
      "Current GPU: NVIDIA GeForce RTX 4070 Laptop GPU\n",
      "CUDA runtime version: 13000\n",
      "CuPy version: 13.6.0\n"
     ]
    },
    {
     "data": {
      "text/plain": [
       "'gpu'"
      ]
     },
     "execution_count": 76,
     "metadata": {},
     "output_type": "execute_result"
    }
   ],
   "source": [
    "device = 'gpu' if allison.cuda.is_available() else 'cpu'\n",
    "device"
   ]
  },
  {
   "cell_type": "code",
   "execution_count": 77,
   "id": "ead52089",
   "metadata": {},
   "outputs": [
    {
     "name": "stdout",
     "output_type": "stream",
     "text": [
      "Tensor(\n",
      "[[1.29885778 0.29438157 1.84152194 0.68863221 0.83885759]\n",
      " [1.22516954 1.02749715 1.27369375 0.64454149 0.33237494]\n",
      " [1.05747812 0.51386481 0.73314782 0.45439371 1.19821742]\n",
      " [1.02752206 0.81857168 1.62771841 0.53107887 1.40086803]\n",
      " [0.91680072 0.90647835 1.54338432 0.90264509 1.74147915]], shape=(5, 5), device=gpu, requires_grad=False)\n",
      "set()\n",
      "gpu\n"
     ]
    }
   ],
   "source": [
    "a = allison.tensor(np.random.rand(5,5), device=device)\n",
    "b = allison.tensor(np.random.rand(5,5), device=device)\n",
    "c = a + b\n",
    "print(c)\n",
    "print(c._prev)\n",
    "print(c.device)"
   ]
  },
  {
   "cell_type": "code",
   "execution_count": 78,
   "id": "d0abf03a",
   "metadata": {},
   "outputs": [
    {
     "name": "stdout",
     "output_type": "stream",
     "text": [
      "Tensor(\n",
      "[[1.3123474  0.61931442 1.28526947 0.55716934 1.25286754]\n",
      " [0.79226651 1.01692402 1.3202954  0.89369901 1.28740803]\n",
      " [1.53238032 0.91823165 0.41085126 0.53064879 0.35720309]\n",
      " [1.44270475 1.54499966 0.99358193 1.29530992 0.53860299]\n",
      " [1.20690432 1.22902913 1.31428271 0.9945178  0.63406583]], shape=(5, 5), device=gpu, requires_grad=True)\n",
      "{Tensor(\n",
      "[[0.36305803 0.53184361 0.39361103 0.51549647 0.71705166]\n",
      " [0.68186558 0.64868475 0.78291464 0.14797189 0.79028559]\n",
      " [0.95233005 0.29884162 0.03654428 0.26081966 0.23711553]\n",
      " [0.56809747 0.8656066  0.89086906 0.91378493 0.32839785]\n",
      " [0.79306705 0.3392542  0.62924966 0.59219748 0.39412053]], shape=(5, 5), device=gpu, requires_grad=True), Tensor(\n",
      "[[0.94928937 0.08747081 0.89165844 0.04167287 0.53581588]\n",
      " [0.11040093 0.36823927 0.53738076 0.74572712 0.49712243]\n",
      " [0.58005028 0.61939003 0.37430699 0.26982913 0.12008756]\n",
      " [0.87460728 0.67939305 0.10271287 0.38152499 0.21020514]\n",
      " [0.41383727 0.88977492 0.68503304 0.40232032 0.2399453 ]], shape=(5, 5), device=gpu, requires_grad=True)}\n",
      "gpu\n"
     ]
    }
   ],
   "source": [
    "a = allison.tensor(np.random.rand(5,5), device=device,requires_grad=True)\n",
    "b = allison.tensor(np.random.rand(5,5), device=device,requires_grad=True)\n",
    "c = a + b\n",
    "print(c)\n",
    "print(c._prev)\n",
    "print(c.device)"
   ]
  }
 ],
 "metadata": {
  "kernelspec": {
   "display_name": "allison",
   "language": "python",
   "name": "python3"
  },
  "language_info": {
   "codemirror_mode": {
    "name": "ipython",
    "version": 3
   },
   "file_extension": ".py",
   "mimetype": "text/x-python",
   "name": "python",
   "nbconvert_exporter": "python",
   "pygments_lexer": "ipython3",
   "version": "3.12.3"
  }
 },
 "nbformat": 4,
 "nbformat_minor": 5
}
